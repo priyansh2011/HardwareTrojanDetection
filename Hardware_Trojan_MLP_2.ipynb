{
  "nbformat": 4,
  "nbformat_minor": 0,
  "metadata": {
    "colab": {
      "name": "Hardware Trojan MLP-2.ipynb",
      "provenance": [],
      "collapsed_sections": []
    },
    "kernelspec": {
      "name": "python3",
      "display_name": "Python 3"
    },
    "language_info": {
      "name": "python"
    },
    "gpuClass": "standard"
  },
  "cells": [
    {
      "cell_type": "code",
      "execution_count": null,
      "metadata": {
        "id": "lAeGK4BmpGZo"
      },
      "outputs": [],
      "source": [
        "import pandas as pd\n",
        "import numpy as np\n",
        "import os\n",
        "import sys"
      ]
    },
    {
      "cell_type": "code",
      "source": [
        "from google.colab import drive\n",
        "drive.mount('/content/drive')"
      ],
      "metadata": {
        "colab": {
          "base_uri": "https://localhost:8080/"
        },
        "id": "HhMGzj6uzXWK",
        "outputId": "8433a5c0-e6dd-4554-c94c-2be1fe52630d"
      },
      "execution_count": null,
      "outputs": [
        {
          "output_type": "stream",
          "name": "stdout",
          "text": [
            "Drive already mounted at /content/drive; to attempt to forcibly remount, call drive.mount(\"/content/drive\", force_remount=True).\n"
          ]
        }
      ]
    },
    {
      "cell_type": "code",
      "source": [
        "!sudo apt install iverilog"
      ],
      "metadata": {
        "colab": {
          "base_uri": "https://localhost:8080/"
        },
        "id": "hMeKjLaPpW9G",
        "outputId": "c41e8bee-12d4-4bfe-dd84-0cb7f1574dee"
      },
      "execution_count": null,
      "outputs": [
        {
          "output_type": "stream",
          "name": "stdout",
          "text": [
            "Reading package lists... Done\n",
            "Building dependency tree       \n",
            "Reading state information... Done\n",
            "The following package was automatically installed and is no longer required:\n",
            "  libnvidia-common-460\n",
            "Use 'sudo apt autoremove' to remove it.\n",
            "Suggested packages:\n",
            "  gtkwave\n",
            "The following NEW packages will be installed:\n",
            "  iverilog\n",
            "0 upgraded, 1 newly installed, 0 to remove and 49 not upgraded.\n",
            "Need to get 1,811 kB of archives.\n",
            "After this operation, 6,206 kB of additional disk space will be used.\n",
            "Get:1 http://archive.ubuntu.com/ubuntu bionic/universe amd64 iverilog amd64 10.1-0.1build1 [1,811 kB]\n",
            "Fetched 1,811 kB in 1s (1,271 kB/s)\n",
            "debconf: unable to initialize frontend: Dialog\n",
            "debconf: (No usable dialog-like program is installed, so the dialog based frontend cannot be used. at /usr/share/perl5/Debconf/FrontEnd/Dialog.pm line 76, <> line 1.)\n",
            "debconf: falling back to frontend: Readline\n",
            "debconf: unable to initialize frontend: Readline\n",
            "debconf: (This frontend requires a controlling tty.)\n",
            "debconf: falling back to frontend: Teletype\n",
            "dpkg-preconfigure: unable to re-open stdin: \n",
            "Selecting previously unselected package iverilog.\n",
            "(Reading database ... 155639 files and directories currently installed.)\n",
            "Preparing to unpack .../iverilog_10.1-0.1build1_amd64.deb ...\n",
            "Unpacking iverilog (10.1-0.1build1) ...\n",
            "Setting up iverilog (10.1-0.1build1) ...\n",
            "Processing triggers for man-db (2.8.3-2ubuntu0.1) ...\n"
          ]
        }
      ]
    },
    {
      "cell_type": "code",
      "source": [
        "!pip install pyverilog"
      ],
      "metadata": {
        "colab": {
          "base_uri": "https://localhost:8080/"
        },
        "id": "g83m9GdLptuu",
        "outputId": "5a12d053-b4e3-4774-ebe1-daa48711c036"
      },
      "execution_count": null,
      "outputs": [
        {
          "output_type": "stream",
          "name": "stdout",
          "text": [
            "Looking in indexes: https://pypi.org/simple, https://us-python.pkg.dev/colab-wheels/public/simple/\n",
            "Collecting pyverilog\n",
            "  Downloading pyverilog-1.3.0.tar.gz (136 kB)\n",
            "\u001b[K     |████████████████████████████████| 136 kB 7.4 MB/s \n",
            "\u001b[?25hRequirement already satisfied: Jinja2>=2.10 in /usr/local/lib/python3.7/dist-packages (from pyverilog) (2.11.3)\n",
            "Collecting ply>=3.4\n",
            "  Downloading ply-3.11-py2.py3-none-any.whl (49 kB)\n",
            "\u001b[K     |████████████████████████████████| 49 kB 6.0 MB/s \n",
            "\u001b[?25hRequirement already satisfied: MarkupSafe>=0.23 in /usr/local/lib/python3.7/dist-packages (from Jinja2>=2.10->pyverilog) (2.0.1)\n",
            "Building wheels for collected packages: pyverilog\n",
            "  Building wheel for pyverilog (setup.py) ... \u001b[?25l\u001b[?25hdone\n",
            "  Created wheel for pyverilog: filename=pyverilog-1.3.0-py3-none-any.whl size=118948 sha256=38a495fe2a147fab065f7abe54fae59b8a05375f79a662d8b2419b13c246ffdd\n",
            "  Stored in directory: /root/.cache/pip/wheels/4e/4b/c4/20afdbfa7d0b4d0b51ab0525e632efd8896c67abfb601824b9\n",
            "Successfully built pyverilog\n",
            "Installing collected packages: ply, pyverilog\n",
            "Successfully installed ply-3.11 pyverilog-1.3.0\n"
          ]
        }
      ]
    },
    {
      "cell_type": "code",
      "source": [
        "!pip install jinja2 ply"
      ],
      "metadata": {
        "colab": {
          "base_uri": "https://localhost:8080/"
        },
        "id": "ouhxJfBjpwQT",
        "outputId": "680cb48d-dd71-4814-bc1b-f869fa137862"
      },
      "execution_count": null,
      "outputs": [
        {
          "output_type": "stream",
          "name": "stdout",
          "text": [
            "Looking in indexes: https://pypi.org/simple, https://us-python.pkg.dev/colab-wheels/public/simple/\n",
            "Requirement already satisfied: jinja2 in /usr/local/lib/python3.7/dist-packages (2.11.3)\n",
            "Requirement already satisfied: ply in /usr/local/lib/python3.7/dist-packages (3.11)\n",
            "Requirement already satisfied: MarkupSafe>=0.23 in /usr/local/lib/python3.7/dist-packages (from jinja2) (2.0.1)\n"
          ]
        }
      ]
    },
    {
      "cell_type": "code",
      "source": [
        "%cd /content/drive/MyDrive/Hardware_Trojan/hw2vec"
      ],
      "metadata": {
        "colab": {
          "base_uri": "https://localhost:8080/"
        },
        "id": "0qG7wjzIpz8E",
        "outputId": "daca6ab2-e060-481f-8ba6-8ff8d25cd0f0"
      },
      "execution_count": null,
      "outputs": [
        {
          "output_type": "stream",
          "name": "stdout",
          "text": [
            "/content/drive/MyDrive/Hardware_Trojan/hw2vec\n"
          ]
        }
      ]
    },
    {
      "cell_type": "code",
      "source": [
        "!pip install -r requirements.txt"
      ],
      "metadata": {
        "colab": {
          "base_uri": "https://localhost:8080/",
          "height": 1000
        },
        "id": "Mpag0xwYp24N",
        "outputId": "3586a252-f14b-4b6f-ba9d-b6f18680fbc7"
      },
      "execution_count": null,
      "outputs": [
        {
          "output_type": "stream",
          "name": "stdout",
          "text": [
            "Looking in indexes: https://pypi.org/simple, https://us-python.pkg.dev/colab-wheels/public/simple/\n",
            "Collecting matplotlib==3.1.1\n",
            "  Downloading matplotlib-3.1.1-cp37-cp37m-manylinux1_x86_64.whl (13.1 MB)\n",
            "\u001b[K     |████████████████████████████████| 13.1 MB 9.1 MB/s \n",
            "\u001b[?25hCollecting networkx==2.4\n",
            "  Downloading networkx-2.4-py3-none-any.whl (1.6 MB)\n",
            "\u001b[K     |████████████████████████████████| 1.6 MB 42.0 MB/s \n",
            "\u001b[?25hCollecting numpy==1.16.5\n",
            "  Downloading numpy-1.16.5-cp37-cp37m-manylinux1_x86_64.whl (17.3 MB)\n",
            "\u001b[K     |████████████████████████████████| 17.3 MB 246 kB/s \n",
            "\u001b[?25hCollecting pandas==0.23.4\n",
            "  Downloading pandas-0.23.4-cp37-cp37m-manylinux1_x86_64.whl (8.8 MB)\n",
            "\u001b[K     |████████████████████████████████| 8.8 MB 19.3 MB/s \n",
            "\u001b[?25hCollecting scikit-image==0.15.0\n",
            "  Downloading scikit_image-0.15.0-cp37-cp37m-manylinux1_x86_64.whl (26.3 MB)\n",
            "\u001b[K     |████████████████████████████████| 26.3 MB 77.2 MB/s \n",
            "\u001b[?25hCollecting scikit-learn==0.23.1\n",
            "  Downloading scikit_learn-0.23.1-cp37-cp37m-manylinux1_x86_64.whl (6.8 MB)\n",
            "\u001b[K     |████████████████████████████████| 6.8 MB 21.8 MB/s \n",
            "\u001b[?25hRequirement already satisfied: scipy==1.4.1 in /usr/local/lib/python3.7/dist-packages (from -r requirements.txt (line 7)) (1.4.1)\n",
            "Collecting tqdm==4.36.1\n",
            "  Downloading tqdm-4.36.1-py2.py3-none-any.whl (52 kB)\n",
            "\u001b[K     |████████████████████████████████| 52 kB 1.5 MB/s \n",
            "\u001b[?25hCollecting pytorch-nlp==0.5.0\n",
            "  Downloading pytorch_nlp-0.5.0-py3-none-any.whl (90 kB)\n",
            "\u001b[K     |████████████████████████████████| 90 kB 8.2 MB/s \n",
            "\u001b[?25hCollecting pyyaml==5.4.1\n",
            "  Downloading PyYAML-5.4.1-cp37-cp37m-manylinux1_x86_64.whl (636 kB)\n",
            "\u001b[K     |████████████████████████████████| 636 kB 59.0 MB/s \n",
            "\u001b[?25hRequirement already satisfied: pyverilog in /usr/local/lib/python3.7/dist-packages (from -r requirements.txt (line 11)) (1.3.0)\n",
            "Collecting pyunpack\n",
            "  Downloading pyunpack-0.3-py2.py3-none-any.whl (4.1 kB)\n",
            "Collecting patool\n",
            "  Downloading patool-1.12-py2.py3-none-any.whl (77 kB)\n",
            "\u001b[K     |████████████████████████████████| 77 kB 6.3 MB/s \n",
            "\u001b[?25hRequirement already satisfied: pathlib in /usr/local/lib/python3.7/dist-packages (from -r requirements.txt (line 14)) (1.0.1)\n",
            "Requirement already satisfied: pydot in /usr/local/lib/python3.7/dist-packages (from -r requirements.txt (line 15)) (1.3.0)\n",
            "Requirement already satisfied: pyparsing!=2.0.4,!=2.1.2,!=2.1.6,>=2.0.1 in /usr/local/lib/python3.7/dist-packages (from matplotlib==3.1.1->-r requirements.txt (line 1)) (3.0.9)\n",
            "Requirement already satisfied: kiwisolver>=1.0.1 in /usr/local/lib/python3.7/dist-packages (from matplotlib==3.1.1->-r requirements.txt (line 1)) (1.4.3)\n",
            "Requirement already satisfied: python-dateutil>=2.1 in /usr/local/lib/python3.7/dist-packages (from matplotlib==3.1.1->-r requirements.txt (line 1)) (2.8.2)\n",
            "Requirement already satisfied: cycler>=0.10 in /usr/local/lib/python3.7/dist-packages (from matplotlib==3.1.1->-r requirements.txt (line 1)) (0.11.0)\n",
            "Requirement already satisfied: decorator>=4.3.0 in /usr/local/lib/python3.7/dist-packages (from networkx==2.4->-r requirements.txt (line 2)) (4.4.2)\n",
            "Requirement already satisfied: pytz>=2011k in /usr/local/lib/python3.7/dist-packages (from pandas==0.23.4->-r requirements.txt (line 4)) (2022.1)\n",
            "Requirement already satisfied: pillow>=4.3.0 in /usr/local/lib/python3.7/dist-packages (from scikit-image==0.15.0->-r requirements.txt (line 5)) (7.1.2)\n",
            "Requirement already satisfied: PyWavelets>=0.4.0 in /usr/local/lib/python3.7/dist-packages (from scikit-image==0.15.0->-r requirements.txt (line 5)) (1.3.0)\n",
            "Requirement already satisfied: imageio>=2.0.1 in /usr/local/lib/python3.7/dist-packages (from scikit-image==0.15.0->-r requirements.txt (line 5)) (2.4.1)\n",
            "Requirement already satisfied: joblib>=0.11 in /usr/local/lib/python3.7/dist-packages (from scikit-learn==0.23.1->-r requirements.txt (line 6)) (1.1.0)\n",
            "Requirement already satisfied: threadpoolctl>=2.0.0 in /usr/local/lib/python3.7/dist-packages (from scikit-learn==0.23.1->-r requirements.txt (line 6)) (3.1.0)\n",
            "Requirement already satisfied: typing-extensions in /usr/local/lib/python3.7/dist-packages (from kiwisolver>=1.0.1->matplotlib==3.1.1->-r requirements.txt (line 1)) (4.1.1)\n",
            "Requirement already satisfied: six>=1.5 in /usr/local/lib/python3.7/dist-packages (from python-dateutil>=2.1->matplotlib==3.1.1->-r requirements.txt (line 1)) (1.15.0)\n",
            "Collecting PyWavelets>=0.4.0\n",
            "  Downloading PyWavelets-1.2.0-cp37-cp37m-manylinux_2_5_x86_64.manylinux1_x86_64.whl (6.1 MB)\n",
            "\u001b[K     |████████████████████████████████| 6.1 MB 21.3 MB/s \n",
            "\u001b[?25h  Downloading PyWavelets-1.1.1-cp37-cp37m-manylinux1_x86_64.whl (4.4 MB)\n",
            "\u001b[K     |████████████████████████████████| 4.4 MB 47.1 MB/s \n",
            "\u001b[?25hRequirement already satisfied: ply>=3.4 in /usr/local/lib/python3.7/dist-packages (from pyverilog->-r requirements.txt (line 11)) (3.11)\n",
            "Requirement already satisfied: Jinja2>=2.10 in /usr/local/lib/python3.7/dist-packages (from pyverilog->-r requirements.txt (line 11)) (2.11.3)\n",
            "Requirement already satisfied: MarkupSafe>=0.23 in /usr/local/lib/python3.7/dist-packages (from Jinja2>=2.10->pyverilog->-r requirements.txt (line 11)) (2.0.1)\n",
            "Collecting entrypoint2\n",
            "  Downloading entrypoint2-1.1-py2.py3-none-any.whl (9.9 kB)\n",
            "Collecting easyprocess\n",
            "  Downloading EasyProcess-1.1-py3-none-any.whl (8.7 kB)\n",
            "Installing collected packages: numpy, tqdm, PyWavelets, networkx, matplotlib, entrypoint2, easyprocess, scikit-learn, scikit-image, pyyaml, pyunpack, pytorch-nlp, patool, pandas\n",
            "  Attempting uninstall: numpy\n",
            "    Found existing installation: numpy 1.21.6\n",
            "    Uninstalling numpy-1.21.6:\n",
            "      Successfully uninstalled numpy-1.21.6\n",
            "  Attempting uninstall: tqdm\n",
            "    Found existing installation: tqdm 4.64.0\n",
            "    Uninstalling tqdm-4.64.0:\n",
            "      Successfully uninstalled tqdm-4.64.0\n",
            "  Attempting uninstall: PyWavelets\n",
            "    Found existing installation: PyWavelets 1.3.0\n",
            "    Uninstalling PyWavelets-1.3.0:\n",
            "      Successfully uninstalled PyWavelets-1.3.0\n",
            "  Attempting uninstall: networkx\n",
            "    Found existing installation: networkx 2.6.3\n",
            "    Uninstalling networkx-2.6.3:\n",
            "      Successfully uninstalled networkx-2.6.3\n",
            "  Attempting uninstall: matplotlib\n",
            "    Found existing installation: matplotlib 3.2.2\n",
            "    Uninstalling matplotlib-3.2.2:\n",
            "      Successfully uninstalled matplotlib-3.2.2\n",
            "  Attempting uninstall: scikit-learn\n",
            "    Found existing installation: scikit-learn 1.0.2\n",
            "    Uninstalling scikit-learn-1.0.2:\n",
            "      Successfully uninstalled scikit-learn-1.0.2\n",
            "  Attempting uninstall: scikit-image\n",
            "    Found existing installation: scikit-image 0.18.3\n",
            "    Uninstalling scikit-image-0.18.3:\n",
            "      Successfully uninstalled scikit-image-0.18.3\n",
            "  Attempting uninstall: pyyaml\n",
            "    Found existing installation: PyYAML 3.13\n",
            "    Uninstalling PyYAML-3.13:\n",
            "      Successfully uninstalled PyYAML-3.13\n",
            "  Attempting uninstall: pandas\n",
            "    Found existing installation: pandas 1.3.5\n",
            "    Uninstalling pandas-1.3.5:\n",
            "      Successfully uninstalled pandas-1.3.5\n",
            "\u001b[31mERROR: pip's dependency resolver does not currently take into account all the packages that are installed. This behaviour is the source of the following dependency conflicts.\n",
            "yellowbrick 1.4 requires scikit-learn>=1.0.0, but you have scikit-learn 0.23.1 which is incompatible.\n",
            "xarray 0.20.2 requires numpy>=1.18, but you have numpy 1.16.5 which is incompatible.\n",
            "xarray 0.20.2 requires pandas>=1.1, but you have pandas 0.23.4 which is incompatible.\n",
            "xarray-einstats 0.2.2 requires numpy>=1.21, but you have numpy 1.16.5 which is incompatible.\n",
            "tensorflow 2.8.2+zzzcolab20220527125636 requires numpy>=1.20, but you have numpy 1.16.5 which is incompatible.\n",
            "tables 3.7.0 requires numpy>=1.19.0, but you have numpy 1.16.5 which is incompatible.\n",
            "spacy 3.3.1 requires tqdm<5.0.0,>=4.38.0, but you have tqdm 4.36.1 which is incompatible.\n",
            "pymc3 3.11.4 requires pandas>=0.24.0, but you have pandas 0.23.4 which is incompatible.\n",
            "pyerfa 2.0.0.1 requires numpy>=1.17, but you have numpy 1.16.5 which is incompatible.\n",
            "pyarrow 6.0.1 requires numpy>=1.16.6, but you have numpy 1.16.5 which is incompatible.\n",
            "plotnine 0.6.0 requires pandas>=0.25.0, but you have pandas 0.23.4 which is incompatible.\n",
            "panel 0.12.1 requires tqdm>=4.48.0, but you have tqdm 4.36.1 which is incompatible.\n",
            "mizani 0.6.0 requires pandas>=0.25.0, but you have pandas 0.23.4 which is incompatible.\n",
            "kapre 0.3.7 requires numpy>=1.18.5, but you have numpy 1.16.5 which is incompatible.\n",
            "jaxlib 0.3.7+cuda11.cudnn805 requires numpy>=1.19, but you have numpy 1.16.5 which is incompatible.\n",
            "jax 0.3.8 requires numpy>=1.19, but you have numpy 1.16.5 which is incompatible.\n",
            "imbalanced-learn 0.8.1 requires scikit-learn>=0.24, but you have scikit-learn 0.23.1 which is incompatible.\n",
            "google-colab 1.0.0 requires pandas>=1.1.0; python_version >= \"3.0\", but you have pandas 0.23.4 which is incompatible.\n",
            "fbprophet 0.7.1 requires pandas>=1.0.4, but you have pandas 0.23.4 which is incompatible.\n",
            "datascience 0.10.6 requires folium==0.2.1, but you have folium 0.8.3 which is incompatible.\n",
            "astropy 4.3.1 requires numpy>=1.17, but you have numpy 1.16.5 which is incompatible.\n",
            "albumentations 0.1.12 requires imgaug<0.2.7,>=0.2.5, but you have imgaug 0.2.9 which is incompatible.\u001b[0m\n",
            "Successfully installed PyWavelets-1.1.1 easyprocess-1.1 entrypoint2-1.1 matplotlib-3.1.1 networkx-2.4 numpy-1.16.5 pandas-0.23.4 patool-1.12 pytorch-nlp-0.5.0 pyunpack-0.3 pyyaml-5.4.1 scikit-image-0.15.0 scikit-learn-0.23.1 tqdm-4.36.1\n"
          ]
        },
        {
          "output_type": "display_data",
          "data": {
            "application/vnd.colab-display-data+json": {
              "pip_warning": {
                "packages": [
                  "matplotlib",
                  "mpl_toolkits",
                  "numpy",
                  "pandas"
                ]
              }
            }
          },
          "metadata": {}
        }
      ]
    },
    {
      "cell_type": "code",
      "source": [
        "!pip install -r requirements_dev.txt"
      ],
      "metadata": {
        "colab": {
          "base_uri": "https://localhost:8080/"
        },
        "id": "tSg35N-xp7J0",
        "outputId": "3270dbae-64d7-45fb-fbc9-77a7bc40d657"
      },
      "execution_count": null,
      "outputs": [
        {
          "output_type": "stream",
          "name": "stdout",
          "text": [
            "Looking in indexes: https://pypi.org/simple, https://us-python.pkg.dev/colab-wheels/public/simple/\n",
            "Collecting coverage>=5.0.4\n",
            "  Downloading coverage-6.4.1-cp37-cp37m-manylinux_2_5_x86_64.manylinux1_x86_64.manylinux_2_17_x86_64.manylinux2014_x86_64.whl (208 kB)\n",
            "\u001b[K     |████████████████████████████████| 208 kB 8.7 MB/s \n",
            "\u001b[?25hCollecting coveralls>=1.11.1\n",
            "  Downloading coveralls-3.3.1-py2.py3-none-any.whl (14 kB)\n",
            "Collecting pytest-cov>=2.8.1\n",
            "  Downloading pytest_cov-3.0.0-py3-none-any.whl (20 kB)\n",
            "Collecting pylint>=2.5.3\n",
            "  Downloading pylint-2.14.4-py3-none-any.whl (488 kB)\n",
            "\u001b[K     |████████████████████████████████| 488 kB 49.2 MB/s \n",
            "\u001b[?25hRequirement already satisfied: pytest>=3.6 in /usr/local/lib/python3.7/dist-packages (from -r requirements_dev.txt (line 5)) (3.6.4)\n",
            "Requirement already satisfied: docopt>=0.6.1 in /usr/local/lib/python3.7/dist-packages (from coveralls>=1.11.1->-r requirements_dev.txt (line 2)) (0.6.2)\n",
            "Requirement already satisfied: requests>=1.0.0 in /usr/local/lib/python3.7/dist-packages (from coveralls>=1.11.1->-r requirements_dev.txt (line 2)) (2.23.0)\n",
            "Collecting pytest>=3.6\n",
            "  Downloading pytest-7.1.2-py3-none-any.whl (297 kB)\n",
            "\u001b[K     |████████████████████████████████| 297 kB 64.2 MB/s \n",
            "\u001b[?25hRequirement already satisfied: dill>=0.2 in /usr/local/lib/python3.7/dist-packages (from pylint>=2.5.3->-r requirements_dev.txt (line 4)) (0.3.5.1)\n",
            "Requirement already satisfied: typing-extensions>=3.10.0 in /usr/local/lib/python3.7/dist-packages (from pylint>=2.5.3->-r requirements_dev.txt (line 4)) (4.1.1)\n",
            "Requirement already satisfied: tomli>=1.1.0 in /usr/local/lib/python3.7/dist-packages (from pylint>=2.5.3->-r requirements_dev.txt (line 4)) (2.0.1)\n",
            "Collecting tomlkit>=0.10.1\n",
            "  Downloading tomlkit-0.11.1-py3-none-any.whl (34 kB)\n",
            "Collecting astroid<=2.12.0-dev0,>=2.11.6\n",
            "  Downloading astroid-2.11.6-py3-none-any.whl (251 kB)\n",
            "\u001b[K     |████████████████████████████████| 251 kB 39.3 MB/s \n",
            "\u001b[?25hCollecting platformdirs>=2.2.0\n",
            "  Downloading platformdirs-2.5.2-py3-none-any.whl (14 kB)\n",
            "Collecting isort<6,>=4.2.5\n",
            "  Downloading isort-5.10.1-py3-none-any.whl (103 kB)\n",
            "\u001b[K     |████████████████████████████████| 103 kB 52.5 MB/s \n",
            "\u001b[?25hCollecting mccabe<0.8,>=0.6\n",
            "  Downloading mccabe-0.7.0-py2.py3-none-any.whl (7.3 kB)\n",
            "Collecting pluggy<2.0,>=0.12\n",
            "  Downloading pluggy-1.0.0-py2.py3-none-any.whl (13 kB)\n",
            "Requirement already satisfied: importlib-metadata>=0.12 in /usr/local/lib/python3.7/dist-packages (from pytest>=3.6->-r requirements_dev.txt (line 5)) (4.11.4)\n",
            "Requirement already satisfied: attrs>=19.2.0 in /usr/local/lib/python3.7/dist-packages (from pytest>=3.6->-r requirements_dev.txt (line 5)) (21.4.0)\n",
            "Requirement already satisfied: packaging in /usr/local/lib/python3.7/dist-packages (from pytest>=3.6->-r requirements_dev.txt (line 5)) (21.3)\n",
            "Requirement already satisfied: py>=1.8.2 in /usr/local/lib/python3.7/dist-packages (from pytest>=3.6->-r requirements_dev.txt (line 5)) (1.11.0)\n",
            "Requirement already satisfied: iniconfig in /usr/local/lib/python3.7/dist-packages (from pytest>=3.6->-r requirements_dev.txt (line 5)) (1.1.1)\n",
            "Collecting typed-ast<2.0,>=1.4.0\n",
            "  Downloading typed_ast-1.5.4-cp37-cp37m-manylinux_2_5_x86_64.manylinux1_x86_64.manylinux_2_12_x86_64.manylinux2010_x86_64.whl (843 kB)\n",
            "\u001b[K     |████████████████████████████████| 843 kB 41.1 MB/s \n",
            "\u001b[?25hRequirement already satisfied: setuptools>=20.0 in /usr/local/lib/python3.7/dist-packages (from astroid<=2.12.0-dev0,>=2.11.6->pylint>=2.5.3->-r requirements_dev.txt (line 4)) (57.4.0)\n",
            "Collecting lazy-object-proxy>=1.4.0\n",
            "  Downloading lazy_object_proxy-1.7.1-cp37-cp37m-manylinux_2_5_x86_64.manylinux1_x86_64.manylinux_2_17_x86_64.manylinux2014_x86_64.whl (57 kB)\n",
            "\u001b[K     |████████████████████████████████| 57 kB 5.1 MB/s \n",
            "\u001b[?25hRequirement already satisfied: wrapt<2,>=1.11 in /usr/local/lib/python3.7/dist-packages (from astroid<=2.12.0-dev0,>=2.11.6->pylint>=2.5.3->-r requirements_dev.txt (line 4)) (1.14.1)\n",
            "Requirement already satisfied: zipp>=0.5 in /usr/local/lib/python3.7/dist-packages (from importlib-metadata>=0.12->pytest>=3.6->-r requirements_dev.txt (line 5)) (3.8.0)\n",
            "Requirement already satisfied: idna<3,>=2.5 in /usr/local/lib/python3.7/dist-packages (from requests>=1.0.0->coveralls>=1.11.1->-r requirements_dev.txt (line 2)) (2.10)\n",
            "Requirement already satisfied: chardet<4,>=3.0.2 in /usr/local/lib/python3.7/dist-packages (from requests>=1.0.0->coveralls>=1.11.1->-r requirements_dev.txt (line 2)) (3.0.4)\n",
            "Requirement already satisfied: certifi>=2017.4.17 in /usr/local/lib/python3.7/dist-packages (from requests>=1.0.0->coveralls>=1.11.1->-r requirements_dev.txt (line 2)) (2022.6.15)\n",
            "Requirement already satisfied: urllib3!=1.25.0,!=1.25.1,<1.26,>=1.21.1 in /usr/local/lib/python3.7/dist-packages (from requests>=1.0.0->coveralls>=1.11.1->-r requirements_dev.txt (line 2)) (1.24.3)\n",
            "Requirement already satisfied: pyparsing!=3.0.5,>=2.0.2 in /usr/local/lib/python3.7/dist-packages (from packaging->pytest>=3.6->-r requirements_dev.txt (line 5)) (3.0.9)\n",
            "Installing collected packages: typed-ast, pluggy, lazy-object-proxy, coverage, tomlkit, pytest, platformdirs, mccabe, isort, astroid, pytest-cov, pylint, coveralls\n",
            "  Attempting uninstall: pluggy\n",
            "    Found existing installation: pluggy 0.7.1\n",
            "    Uninstalling pluggy-0.7.1:\n",
            "      Successfully uninstalled pluggy-0.7.1\n",
            "  Attempting uninstall: coverage\n",
            "    Found existing installation: coverage 3.7.1\n",
            "    Uninstalling coverage-3.7.1:\n",
            "      Successfully uninstalled coverage-3.7.1\n",
            "  Attempting uninstall: pytest\n",
            "    Found existing installation: pytest 3.6.4\n",
            "    Uninstalling pytest-3.6.4:\n",
            "      Successfully uninstalled pytest-3.6.4\n",
            "  Attempting uninstall: coveralls\n",
            "    Found existing installation: coveralls 0.5\n",
            "    Uninstalling coveralls-0.5:\n",
            "      Successfully uninstalled coveralls-0.5\n",
            "\u001b[31mERROR: pip's dependency resolver does not currently take into account all the packages that are installed. This behaviour is the source of the following dependency conflicts.\n",
            "datascience 0.10.6 requires coverage==3.7.1, but you have coverage 6.4.1 which is incompatible.\n",
            "datascience 0.10.6 requires coveralls==0.5, but you have coveralls 3.3.1 which is incompatible.\n",
            "datascience 0.10.6 requires folium==0.2.1, but you have folium 0.8.3 which is incompatible.\u001b[0m\n",
            "Successfully installed astroid-2.11.6 coverage-6.4.1 coveralls-3.3.1 isort-5.10.1 lazy-object-proxy-1.7.1 mccabe-0.7.0 platformdirs-2.5.2 pluggy-1.0.0 pylint-2.14.4 pytest-7.1.2 pytest-cov-3.0.0 tomlkit-0.11.1 typed-ast-1.5.4\n"
          ]
        }
      ]
    },
    {
      "cell_type": "code",
      "source": [
        "!sudo apt-get install graphviz graphviz-dev\n",
        "!pip install pygraphviz"
      ],
      "metadata": {
        "colab": {
          "base_uri": "https://localhost:8080/"
        },
        "id": "CzF8crBRp72s",
        "outputId": "47512473-aa92-4229-9322-5ef100253881"
      },
      "execution_count": null,
      "outputs": [
        {
          "output_type": "stream",
          "name": "stdout",
          "text": [
            "Reading package lists... Done\n",
            "Building dependency tree       \n",
            "Reading state information... Done\n",
            "Note, selecting 'libgraphviz-dev' instead of 'graphviz-dev'\n",
            "graphviz is already the newest version (2.40.1-2).\n",
            "The following package was automatically installed and is no longer required:\n",
            "  libnvidia-common-460\n",
            "Use 'sudo apt autoremove' to remove it.\n",
            "The following additional packages will be installed:\n",
            "  libgail-common libgail18 libgtk2.0-0 libgtk2.0-bin libgtk2.0-common\n",
            "  libgvc6-plugins-gtk libxdot4\n",
            "Suggested packages:\n",
            "  gvfs\n",
            "The following NEW packages will be installed:\n",
            "  libgail-common libgail18 libgraphviz-dev libgtk2.0-0 libgtk2.0-bin\n",
            "  libgtk2.0-common libgvc6-plugins-gtk libxdot4\n",
            "0 upgraded, 8 newly installed, 0 to remove and 49 not upgraded.\n",
            "Need to get 2,120 kB of archives.\n",
            "After this operation, 7,128 kB of additional disk space will be used.\n",
            "Get:1 http://archive.ubuntu.com/ubuntu bionic/main amd64 libgtk2.0-common all 2.24.32-1ubuntu1 [125 kB]\n",
            "Get:2 http://archive.ubuntu.com/ubuntu bionic/main amd64 libgtk2.0-0 amd64 2.24.32-1ubuntu1 [1,769 kB]\n",
            "Get:3 http://archive.ubuntu.com/ubuntu bionic/main amd64 libgail18 amd64 2.24.32-1ubuntu1 [14.2 kB]\n",
            "Get:4 http://archive.ubuntu.com/ubuntu bionic/main amd64 libgail-common amd64 2.24.32-1ubuntu1 [112 kB]\n",
            "Get:5 http://archive.ubuntu.com/ubuntu bionic/universe amd64 libxdot4 amd64 2.40.1-2 [15.7 kB]\n",
            "Get:6 http://archive.ubuntu.com/ubuntu bionic/universe amd64 libgvc6-plugins-gtk amd64 2.40.1-2 [18.2 kB]\n",
            "Get:7 http://archive.ubuntu.com/ubuntu bionic/universe amd64 libgraphviz-dev amd64 2.40.1-2 [57.3 kB]\n",
            "Get:8 http://archive.ubuntu.com/ubuntu bionic/main amd64 libgtk2.0-bin amd64 2.24.32-1ubuntu1 [7,536 B]\n",
            "Fetched 2,120 kB in 2s (1,317 kB/s)\n",
            "debconf: unable to initialize frontend: Dialog\n",
            "debconf: (No usable dialog-like program is installed, so the dialog based frontend cannot be used. at /usr/share/perl5/Debconf/FrontEnd/Dialog.pm line 76, <> line 8.)\n",
            "debconf: falling back to frontend: Readline\n",
            "debconf: unable to initialize frontend: Readline\n",
            "debconf: (This frontend requires a controlling tty.)\n",
            "debconf: falling back to frontend: Teletype\n",
            "dpkg-preconfigure: unable to re-open stdin: \n",
            "Selecting previously unselected package libgtk2.0-common.\n",
            "(Reading database ... 155732 files and directories currently installed.)\n",
            "Preparing to unpack .../0-libgtk2.0-common_2.24.32-1ubuntu1_all.deb ...\n",
            "Unpacking libgtk2.0-common (2.24.32-1ubuntu1) ...\n",
            "Selecting previously unselected package libgtk2.0-0:amd64.\n",
            "Preparing to unpack .../1-libgtk2.0-0_2.24.32-1ubuntu1_amd64.deb ...\n",
            "Unpacking libgtk2.0-0:amd64 (2.24.32-1ubuntu1) ...\n",
            "Selecting previously unselected package libgail18:amd64.\n",
            "Preparing to unpack .../2-libgail18_2.24.32-1ubuntu1_amd64.deb ...\n",
            "Unpacking libgail18:amd64 (2.24.32-1ubuntu1) ...\n",
            "Selecting previously unselected package libgail-common:amd64.\n",
            "Preparing to unpack .../3-libgail-common_2.24.32-1ubuntu1_amd64.deb ...\n",
            "Unpacking libgail-common:amd64 (2.24.32-1ubuntu1) ...\n",
            "Selecting previously unselected package libxdot4.\n",
            "Preparing to unpack .../4-libxdot4_2.40.1-2_amd64.deb ...\n",
            "Unpacking libxdot4 (2.40.1-2) ...\n",
            "Selecting previously unselected package libgvc6-plugins-gtk.\n",
            "Preparing to unpack .../5-libgvc6-plugins-gtk_2.40.1-2_amd64.deb ...\n",
            "Unpacking libgvc6-plugins-gtk (2.40.1-2) ...\n",
            "Selecting previously unselected package libgraphviz-dev.\n",
            "Preparing to unpack .../6-libgraphviz-dev_2.40.1-2_amd64.deb ...\n",
            "Unpacking libgraphviz-dev (2.40.1-2) ...\n",
            "Selecting previously unselected package libgtk2.0-bin.\n",
            "Preparing to unpack .../7-libgtk2.0-bin_2.24.32-1ubuntu1_amd64.deb ...\n",
            "Unpacking libgtk2.0-bin (2.24.32-1ubuntu1) ...\n",
            "Setting up libgtk2.0-common (2.24.32-1ubuntu1) ...\n",
            "Setting up libxdot4 (2.40.1-2) ...\n",
            "Setting up libgtk2.0-0:amd64 (2.24.32-1ubuntu1) ...\n",
            "Setting up libgail18:amd64 (2.24.32-1ubuntu1) ...\n",
            "Setting up libgail-common:amd64 (2.24.32-1ubuntu1) ...\n",
            "Setting up libgvc6-plugins-gtk (2.40.1-2) ...\n",
            "Setting up libgraphviz-dev (2.40.1-2) ...\n",
            "Setting up libgtk2.0-bin (2.24.32-1ubuntu1) ...\n",
            "Processing triggers for man-db (2.8.3-2ubuntu0.1) ...\n",
            "Processing triggers for libc-bin (2.27-3ubuntu1.3) ...\n",
            "/sbin/ldconfig.real: /usr/local/lib/python3.7/dist-packages/ideep4py/lib/libmkldnn.so.0 is not a symbolic link\n",
            "\n",
            "Looking in indexes: https://pypi.org/simple, https://us-python.pkg.dev/colab-wheels/public/simple/\n",
            "Collecting pygraphviz\n",
            "  Downloading pygraphviz-1.7.zip (118 kB)\n",
            "\u001b[K     |████████████████████████████████| 118 kB 7.4 MB/s \n",
            "\u001b[?25hBuilding wheels for collected packages: pygraphviz\n",
            "  Building wheel for pygraphviz (setup.py) ... \u001b[?25l\u001b[?25hdone\n",
            "  Created wheel for pygraphviz: filename=pygraphviz-1.7-cp37-cp37m-linux_x86_64.whl size=165760 sha256=b212e988b676b1fefdd0574b54750c19481228e33042aaa44f407ba0afe75a81\n",
            "  Stored in directory: /root/.cache/pip/wheels/8c/bc/0c/ac35392b72556e75107ff610cb31b313e8471918a6d280e34c\n",
            "Successfully built pygraphviz\n",
            "Installing collected packages: pygraphviz\n",
            "Successfully installed pygraphviz-1.7\n"
          ]
        }
      ]
    },
    {
      "cell_type": "code",
      "source": [
        "%cd examples"
      ],
      "metadata": {
        "colab": {
          "base_uri": "https://localhost:8080/"
        },
        "id": "dAtLDr9XqBzT",
        "outputId": "e3047b52-2f55-4a11-aec7-e129e280bcf9"
      },
      "execution_count": null,
      "outputs": [
        {
          "output_type": "stream",
          "name": "stdout",
          "text": [
            "/content/drive/MyDrive/Hardware_Trojan/hw2vec/examples\n"
          ]
        }
      ]
    },
    {
      "cell_type": "code",
      "source": [
        "!pip install torch-scatter -f https://data.pyg.org/whl/torch-1.6.0+${CUDA}.html"
      ],
      "metadata": {
        "colab": {
          "base_uri": "https://localhost:8080/"
        },
        "id": "4WVEPQyfqCR3",
        "outputId": "7b77225f-5218-4c1c-abf3-7d1e72dde3ca"
      },
      "execution_count": null,
      "outputs": [
        {
          "output_type": "stream",
          "name": "stdout",
          "text": [
            "Looking in indexes: https://pypi.org/simple, https://us-python.pkg.dev/colab-wheels/public/simple/\n",
            "Looking in links: https://data.pyg.org/whl/torch-1.6.0+.html\n",
            "Collecting torch-scatter\n",
            "  Downloading torch_scatter-2.0.9.tar.gz (21 kB)\n",
            "Building wheels for collected packages: torch-scatter\n",
            "  Building wheel for torch-scatter (setup.py) ... \u001b[?25l\u001b[?25hdone\n",
            "  Created wheel for torch-scatter: filename=torch_scatter-2.0.9-cp37-cp37m-linux_x86_64.whl size=279639 sha256=ff6208d4bfac5014a6fcfaad82715e34166df93eee972d7ab95135af5c04cef8\n",
            "  Stored in directory: /root/.cache/pip/wheels/dd/57/a3/42ea193b77378ce634eb9454c9bc1e3163f3b482a35cdee4d1\n",
            "Successfully built torch-scatter\n",
            "Installing collected packages: torch-scatter\n",
            "Successfully installed torch-scatter-2.0.9\n"
          ]
        }
      ]
    },
    {
      "cell_type": "code",
      "source": [
        "!pip install torch-sparse -f https://data.pyg.org/whl/torch-1.6.0+${CUDA}.html"
      ],
      "metadata": {
        "colab": {
          "base_uri": "https://localhost:8080/"
        },
        "id": "ZmW_YmHNqEra",
        "outputId": "25842816-40ed-4da1-9fc4-11f78be3f9b8"
      },
      "execution_count": null,
      "outputs": [
        {
          "output_type": "stream",
          "name": "stdout",
          "text": [
            "Looking in indexes: https://pypi.org/simple, https://us-python.pkg.dev/colab-wheels/public/simple/\n",
            "Looking in links: https://data.pyg.org/whl/torch-1.6.0+.html\n",
            "Collecting torch-sparse\n",
            "  Downloading torch_sparse-0.6.14.tar.gz (51 kB)\n",
            "\u001b[K     |████████████████████████████████| 51 kB 228 kB/s \n",
            "\u001b[?25hRequirement already satisfied: scipy in /usr/local/lib/python3.7/dist-packages (from torch-sparse) (1.4.1)\n",
            "Requirement already satisfied: numpy>=1.13.3 in /usr/local/lib/python3.7/dist-packages (from scipy->torch-sparse) (1.16.5)\n",
            "Building wheels for collected packages: torch-sparse\n",
            "  Building wheel for torch-sparse (setup.py) ... \u001b[?25l\u001b[?25hdone\n",
            "  Created wheel for torch-sparse: filename=torch_sparse-0.6.14-cp37-cp37m-linux_x86_64.whl size=514667 sha256=5c35583428a26d07886f0e87108cbcf7c1b69ac53f028936b9659cb1ec2631aa\n",
            "  Stored in directory: /root/.cache/pip/wheels/3c/aa/62/db0259eae2abce84f1ee2cf1c531bba683aab4bf79054172f8\n",
            "Successfully built torch-sparse\n",
            "Installing collected packages: torch-sparse\n",
            "Successfully installed torch-sparse-0.6.14\n"
          ]
        }
      ]
    },
    {
      "cell_type": "code",
      "source": [
        "!pip install torch-geometric"
      ],
      "metadata": {
        "colab": {
          "base_uri": "https://localhost:8080/"
        },
        "id": "qshfLU8BqITc",
        "outputId": "fefed7d2-ee49-47a8-cf81-73ca350ecd87"
      },
      "execution_count": null,
      "outputs": [
        {
          "output_type": "stream",
          "name": "stdout",
          "text": [
            "Looking in indexes: https://pypi.org/simple, https://us-python.pkg.dev/colab-wheels/public/simple/\n",
            "Collecting torch-geometric\n",
            "  Downloading torch_geometric-2.0.4.tar.gz (407 kB)\n",
            "\u001b[K     |████████████████████████████████| 407 kB 8.5 MB/s \n",
            "\u001b[?25hRequirement already satisfied: tqdm in /usr/local/lib/python3.7/dist-packages (from torch-geometric) (4.36.1)\n",
            "Requirement already satisfied: numpy in /usr/local/lib/python3.7/dist-packages (from torch-geometric) (1.16.5)\n",
            "Requirement already satisfied: scipy in /usr/local/lib/python3.7/dist-packages (from torch-geometric) (1.4.1)\n",
            "Requirement already satisfied: pandas in /usr/local/lib/python3.7/dist-packages (from torch-geometric) (0.23.4)\n",
            "Requirement already satisfied: jinja2 in /usr/local/lib/python3.7/dist-packages (from torch-geometric) (2.11.3)\n",
            "Requirement already satisfied: requests in /usr/local/lib/python3.7/dist-packages (from torch-geometric) (2.23.0)\n",
            "Requirement already satisfied: pyparsing in /usr/local/lib/python3.7/dist-packages (from torch-geometric) (3.0.9)\n",
            "Requirement already satisfied: scikit-learn in /usr/local/lib/python3.7/dist-packages (from torch-geometric) (0.23.1)\n",
            "Requirement already satisfied: MarkupSafe>=0.23 in /usr/local/lib/python3.7/dist-packages (from jinja2->torch-geometric) (2.0.1)\n",
            "Requirement already satisfied: pytz>=2011k in /usr/local/lib/python3.7/dist-packages (from pandas->torch-geometric) (2022.1)\n",
            "Requirement already satisfied: python-dateutil>=2.5.0 in /usr/local/lib/python3.7/dist-packages (from pandas->torch-geometric) (2.8.2)\n",
            "Requirement already satisfied: six>=1.5 in /usr/local/lib/python3.7/dist-packages (from python-dateutil>=2.5.0->pandas->torch-geometric) (1.15.0)\n",
            "Requirement already satisfied: certifi>=2017.4.17 in /usr/local/lib/python3.7/dist-packages (from requests->torch-geometric) (2022.6.15)\n",
            "Requirement already satisfied: idna<3,>=2.5 in /usr/local/lib/python3.7/dist-packages (from requests->torch-geometric) (2.10)\n",
            "Requirement already satisfied: urllib3!=1.25.0,!=1.25.1,<1.26,>=1.21.1 in /usr/local/lib/python3.7/dist-packages (from requests->torch-geometric) (1.24.3)\n",
            "Requirement already satisfied: chardet<4,>=3.0.2 in /usr/local/lib/python3.7/dist-packages (from requests->torch-geometric) (3.0.4)\n",
            "Requirement already satisfied: joblib>=0.11 in /usr/local/lib/python3.7/dist-packages (from scikit-learn->torch-geometric) (1.1.0)\n",
            "Requirement already satisfied: threadpoolctl>=2.0.0 in /usr/local/lib/python3.7/dist-packages (from scikit-learn->torch-geometric) (3.1.0)\n",
            "Building wheels for collected packages: torch-geometric\n",
            "  Building wheel for torch-geometric (setup.py) ... \u001b[?25l\u001b[?25hdone\n",
            "  Created wheel for torch-geometric: filename=torch_geometric-2.0.4-py3-none-any.whl size=616603 sha256=4fa88b8a47baafd0d642a22171bb137dce5a1099b022750d02667b2da3c87ba3\n",
            "  Stored in directory: /root/.cache/pip/wheels/18/a6/a4/ca18c3051fcead866fe7b85700ee2240d883562a1bc70ce421\n",
            "Successfully built torch-geometric\n",
            "Installing collected packages: torch-geometric\n",
            "Successfully installed torch-geometric-2.0.4\n"
          ]
        }
      ]
    },
    {
      "cell_type": "code",
      "source": [
        "!python use_case_2_modified_2.py --yaml_path ./example_gnn4tj.yaml --raw_dataset_path ../assets/TJ-RTL-toy --data_pkl_path merged_tj_rtl_AST_DFG.pkl --graph_type DFG "
      ],
      "metadata": {
        "id": "SetC0FkGQOeB",
        "colab": {
          "base_uri": "https://localhost:8080/"
        },
        "outputId": "9152652c-d471-46b7-a432-a41b084da010"
      },
      "execution_count": null,
      "outputs": [
        {
          "output_type": "stream",
          "name": "stdout",
          "text": [
            "/content/drive/MyDrive/Hardware_Trojan/hw2vec/assets/TJ-RTL-toy/TjIn/RS232-T901/topModule.v , 882 , 1102 , 2.927093267440796\n",
            "/content/drive/MyDrive/Hardware_Trojan/hw2vec/assets/TJ-RTL-toy/TjIn/RS232-T400/topModule.v , 747 , 875 , 2.7948992252349854\n",
            "/content/drive/MyDrive/Hardware_Trojan/hw2vec/assets/TJ-RTL-toy/TjFree/syncRAM/topModule.v , 32 , 32 , 2.1397674083709717\n",
            "/content/drive/MyDrive/Hardware_Trojan/hw2vec/assets/TJ-RTL-toy/TjFree/RS232/topModule.v , 668 , 783 , 2.6579694747924805\n",
            "/content/drive/MyDrive/Hardware_Trojan/hw2vec/assets/TJ-RTL-toy/TjFree/det_1011/topModule.v , 71 , 63 , 2.2622668743133545\n",
            "/content/drive/MyDrive/Hardware_Trojan/hw2vec/assets/TJ-RTL-toy/TjFree/vga/topModule.v , 41 , 46 , 2.1271679401397705\n",
            "/content/drive/MyDrive/Hardware_Trojan/hw2vec/assets/TJ-RTL-toy/TjIn/RS232-T900/topModule.v , 782 , 972 , 2.808242082595825\n",
            "/content/drive/MyDrive/Hardware_Trojan/hw2vec/assets/TJ-RTL-toy/TjIn/RS232-T100/topModule.v , 760 , 891 , 2.6484479904174805\n",
            "/content/drive/MyDrive/Hardware_Trojan/hw2vec/assets/TJ-RTL-toy/TjIn/RS232-T300/topModule.v , 717 , 838 , 2.8493993282318115\n",
            "/content/drive/MyDrive/Hardware_Trojan/hw2vec/assets/TJ-RTL-toy/TjIn/PIC16F84-T400/topModule.v , 2636 , 3694 , 6.593199968338013\n",
            "/content/drive/MyDrive/Hardware_Trojan/hw2vec/assets/TJ-RTL-toy/TjIn/PIC16F84-T300/topModule.v , 2636 , 3694 , 10.780981540679932\n",
            "/content/drive/MyDrive/Hardware_Trojan/hw2vec/assets/TJ-RTL-toy/TjFree/RC5/topModule.v , 2180 , 2463 , 11.46895980834961\n",
            "/content/drive/MyDrive/Hardware_Trojan/hw2vec/assets/TJ-RTL-toy/TjIn/RS232-T800/topModule.v , 870 , 1075 , 2.900146484375\n",
            "/content/drive/MyDrive/Hardware_Trojan/hw2vec/assets/TJ-RTL-toy/TjIn/RS232-T700/topModule.v , 833 , 1034 , 2.829281806945801\n",
            "/content/drive/MyDrive/Hardware_Trojan/hw2vec/assets/TJ-RTL-toy/TjFree/spi_master/topModule.v , 144 , 195 , 2.206993341445923\n",
            "/content/drive/MyDrive/Hardware_Trojan/hw2vec/assets/TJ-RTL-toy/TjFree/PIC16F84/topModule.v , 2541 , 3576 , 6.5444254875183105\n",
            "/content/drive/MyDrive/Hardware_Trojan/hw2vec/assets/TJ-RTL-toy/TjIn/RS232-T600/topModule.v , 833 , 1034 , 2.860978841781616\n",
            "/content/drive/MyDrive/Hardware_Trojan/hw2vec/assets/TJ-RTL-toy/TjIn/RS232-T500/topModule.v , 739 , 862 , 2.8821206092834473\n",
            "/content/drive/MyDrive/Hardware_Trojan/hw2vec/assets/TJ-RTL-toy/TjFree/RC6/topModule.v , 2411 , 2716 , 9.544798612594604\n",
            "/content/drive/MyDrive/Hardware_Trojan/hw2vec/assets/TJ-RTL-toy/TjIn/PIC16F84-T200/topModule.v , 2636 , 3694 , 6.258033752441406\n",
            "/content/drive/MyDrive/Hardware_Trojan/hw2vec/assets/TJ-RTL-toy/TjFree/xtea/topModule.v , 1830 , 2170 , 3.4333081245422363\n",
            "/content/drive/MyDrive/Hardware_Trojan/hw2vec/assets/TJ-RTL-toy/TjIn/RS232-T200/topModule.v , 795 , 926 , 2.876941442489624\n",
            "/content/drive/MyDrive/Hardware_Trojan/hw2vec/assets/TJ-RTL-toy/TjIn/PIC16F84-T100/topModule.v , 2632 , 3692 , 6.657326936721802\n",
            "/content/drive/MyDrive/Hardware_Trojan/hw2vec/assets/TJ-RTL-toy/TjIn/RS232-T901/topModule.v , 292 , 291 , 1.7006471157073975\n",
            "/content/drive/MyDrive/Hardware_Trojan/hw2vec/assets/TJ-RTL-toy/TjIn/RS232-T400/topModule.v , 476 , 475 , 1.9381027221679688\n",
            "/content/drive/MyDrive/Hardware_Trojan/hw2vec/assets/TJ-RTL-toy/TjFree/syncRAM/topModule.v , 265 , 264 , 1.8587348461151123\n",
            "/content/drive/MyDrive/Hardware_Trojan/hw2vec/assets/TJ-RTL-toy/TjFree/RS232/topModule.v , 292 , 291 , 1.8269174098968506\n",
            "/content/drive/MyDrive/Hardware_Trojan/hw2vec/assets/TJ-RTL-toy/TjFree/det_1011/topModule.v , 293 , 292 , 1.9679405689239502\n",
            "/content/drive/MyDrive/Hardware_Trojan/hw2vec/assets/TJ-RTL-toy/TjFree/vga/topModule.v , 320 , 319 , 1.8231782913208008\n",
            "/content/drive/MyDrive/Hardware_Trojan/hw2vec/assets/TJ-RTL-toy/TjIn/RS232-T900/topModule.v , 292 , 291 , 2.002697467803955\n",
            "/content/drive/MyDrive/Hardware_Trojan/hw2vec/assets/TJ-RTL-toy/TjIn/RS232-T100/topModule.v , 303 , 302 , 1.7347989082336426\n",
            "/content/drive/MyDrive/Hardware_Trojan/hw2vec/assets/TJ-RTL-toy/TjIn/RS232-T300/topModule.v , 292 , 291 , 2.0377931594848633\n",
            "/content/drive/MyDrive/Hardware_Trojan/hw2vec/assets/TJ-RTL-toy/TjIn/PIC16F84-T400/topModule.v , 9345 , 9344 , 1.9405937194824219\n",
            "/content/drive/MyDrive/Hardware_Trojan/hw2vec/assets/TJ-RTL-toy/TjIn/PIC16F84-T300/topModule.v , 9345 , 9344 , 2.0251786708831787\n",
            "/content/drive/MyDrive/Hardware_Trojan/hw2vec/assets/TJ-RTL-toy/TjFree/RC5/topModule.v , 144 , 143 , 1.8673076629638672\n",
            "/content/drive/MyDrive/Hardware_Trojan/hw2vec/assets/TJ-RTL-toy/TjIn/RS232-T800/topModule.v , 292 , 291 , 1.8899238109588623\n",
            "/content/drive/MyDrive/Hardware_Trojan/hw2vec/assets/TJ-RTL-toy/TjIn/RS232-T700/topModule.v , 292 , 291 , 2.0469563007354736\n",
            "/content/drive/MyDrive/Hardware_Trojan/hw2vec/assets/TJ-RTL-toy/TjFree/spi_master/topModule.v , 733 , 732 , 1.7085819244384766\n",
            "/content/drive/MyDrive/Hardware_Trojan/hw2vec/assets/TJ-RTL-toy/TjFree/PIC16F84/topModule.v , 8996 , 8995 , 2.1169378757476807\n",
            "/content/drive/MyDrive/Hardware_Trojan/hw2vec/assets/TJ-RTL-toy/TjIn/RS232-T600/topModule.v , 292 , 291 , 1.8496840000152588\n",
            "/content/drive/MyDrive/Hardware_Trojan/hw2vec/assets/TJ-RTL-toy/TjIn/RS232-T500/topModule.v , 292 , 291 , 1.747209072113037\n",
            "/content/drive/MyDrive/Hardware_Trojan/hw2vec/assets/TJ-RTL-toy/TjFree/RC6/topModule.v , 203 , 202 , 2.078559398651123\n",
            "/content/drive/MyDrive/Hardware_Trojan/hw2vec/assets/TJ-RTL-toy/TjIn/PIC16F84-T200/topModule.v , 9343 , 9342 , 1.8441836833953857\n",
            "/content/drive/MyDrive/Hardware_Trojan/hw2vec/assets/TJ-RTL-toy/TjFree/xtea/topModule.v , 218 , 217 , 1.8960258960723877\n",
            "/content/drive/MyDrive/Hardware_Trojan/hw2vec/assets/TJ-RTL-toy/TjIn/RS232-T200/topModule.v , 292 , 291 , 1.9112443923950195\n",
            "/content/drive/MyDrive/Hardware_Trojan/hw2vec/assets/TJ-RTL-toy/TjIn/PIC16F84-T100/topModule.v , 9334 , 9333 , 2.0192818641662598\n",
            "[Data(x=[882], edge_index=[2, 1102], label=[882], hw_name='RS232-T901', hw_type='TjIn'), Data(x=[747], edge_index=[2, 875], label=[747], hw_name='RS232-T400', hw_type='TjIn'), Data(x=[32], edge_index=[2, 32], label=[32], hw_name='syncRAM', hw_type='TjFree'), Data(x=[668], edge_index=[2, 783], label=[668], hw_name='RS232', hw_type='TjFree'), Data(x=[71], edge_index=[2, 63], label=[71], hw_name='det_1011', hw_type='TjFree'), Data(x=[41], edge_index=[2, 46], label=[41], hw_name='vga', hw_type='TjFree'), Data(x=[782], edge_index=[2, 972], label=[782], hw_name='RS232-T900', hw_type='TjIn'), Data(x=[760], edge_index=[2, 891], label=[760], hw_name='RS232-T100', hw_type='TjIn'), Data(x=[717], edge_index=[2, 838], label=[717], hw_name='RS232-T300', hw_type='TjIn'), Data(x=[2636], edge_index=[2, 3694], label=[2636], hw_name='PIC16F84-T400', hw_type='TjIn'), Data(x=[2636], edge_index=[2, 3694], label=[2636], hw_name='PIC16F84-T300', hw_type='TjIn'), Data(x=[2180], edge_index=[2, 2463], label=[2180], hw_name='RC5', hw_type='TjFree'), Data(x=[870], edge_index=[2, 1075], label=[870], hw_name='RS232-T800', hw_type='TjIn'), Data(x=[833], edge_index=[2, 1034], label=[833], hw_name='RS232-T700', hw_type='TjIn'), Data(x=[144], edge_index=[2, 195], label=[144], hw_name='spi_master', hw_type='TjFree'), Data(x=[2541], edge_index=[2, 3576], label=[2541], hw_name='PIC16F84', hw_type='TjFree'), Data(x=[833], edge_index=[2, 1034], label=[833], hw_name='RS232-T600', hw_type='TjIn'), Data(x=[739], edge_index=[2, 862], label=[739], hw_name='RS232-T500', hw_type='TjIn'), Data(x=[2411], edge_index=[2, 2716], label=[2411], hw_name='RC6', hw_type='TjFree'), Data(x=[2636], edge_index=[2, 3694], label=[2636], hw_name='PIC16F84-T200', hw_type='TjIn'), Data(x=[1830], edge_index=[2, 2170], label=[1830], hw_name='xtea', hw_type='TjFree'), Data(x=[795], edge_index=[2, 926], label=[795], hw_name='RS232-T200', hw_type='TjIn'), Data(x=[2632], edge_index=[2, 3692], label=[2632], hw_name='PIC16F84-T100', hw_type='TjIn')]\n",
            "[Data(x=[292], edge_index=[2, 291], label=[292], hw_name='RS232-T901', hw_type='TjIn'), Data(x=[476], edge_index=[2, 475], label=[476], hw_name='RS232-T400', hw_type='TjIn'), Data(x=[265], edge_index=[2, 264], label=[265], hw_name='syncRAM', hw_type='TjFree'), Data(x=[292], edge_index=[2, 291], label=[292], hw_name='RS232', hw_type='TjFree'), Data(x=[293], edge_index=[2, 292], label=[293], hw_name='det_1011', hw_type='TjFree'), Data(x=[320], edge_index=[2, 319], label=[320], hw_name='vga', hw_type='TjFree'), Data(x=[292], edge_index=[2, 291], label=[292], hw_name='RS232-T900', hw_type='TjIn'), Data(x=[303], edge_index=[2, 302], label=[303], hw_name='RS232-T100', hw_type='TjIn'), Data(x=[292], edge_index=[2, 291], label=[292], hw_name='RS232-T300', hw_type='TjIn'), Data(x=[9345], edge_index=[2, 9344], label=[9345], hw_name='PIC16F84-T400', hw_type='TjIn'), Data(x=[9345], edge_index=[2, 9344], label=[9345], hw_name='PIC16F84-T300', hw_type='TjIn'), Data(x=[144], edge_index=[2, 143], label=[144], hw_name='RC5', hw_type='TjFree'), Data(x=[292], edge_index=[2, 291], label=[292], hw_name='RS232-T800', hw_type='TjIn'), Data(x=[292], edge_index=[2, 291], label=[292], hw_name='RS232-T700', hw_type='TjIn'), Data(x=[733], edge_index=[2, 732], label=[733], hw_name='spi_master', hw_type='TjFree'), Data(x=[8996], edge_index=[2, 8995], label=[8996], hw_name='PIC16F84', hw_type='TjFree'), Data(x=[292], edge_index=[2, 291], label=[292], hw_name='RS232-T600', hw_type='TjIn'), Data(x=[292], edge_index=[2, 291], label=[292], hw_name='RS232-T500', hw_type='TjIn'), Data(x=[203], edge_index=[2, 202], label=[203], hw_name='RC6', hw_type='TjFree'), Data(x=[9343], edge_index=[2, 9342], label=[9343], hw_name='PIC16F84-T200', hw_type='TjIn'), Data(x=[218], edge_index=[2, 217], label=[218], hw_name='xtea', hw_type='TjFree'), Data(x=[292], edge_index=[2, 291], label=[292], hw_name='RS232-T200', hw_type='TjIn'), Data(x=[9334], edge_index=[2, 9333], label=[9334], hw_name='PIC16F84-T100', hw_type='TjIn')]\n",
            "Epoch: 0000, loss_train: 3.5589:   0% 0/200 [00:01<?, ?it/s]\n",
            "Mini Test for Epochs 0:\n",
            "train loss: 0.683736, train accuracy: 0.6111, train f1 score: 0.7586, train confusion_matrix: [[ 0  7], [ 0 11]], train precision: 0.6111, train recall: 1.0000\n",
            "test  loss: 0.679439, test  accuracy: 0.6000, test  f1 score: 0.7500, test  confusion_matrix: [[0 2], [0 3]], test  precision: 0.6000, test  recall: 1.0000\n",
            "Epoch: 0010, loss_train: 3.4414:   5% 10/200 [00:13<03:38,  1.15s/it]\n",
            "Mini Test for Epochs 10:\n",
            "train loss: 0.690058, train accuracy: 0.6111, train f1 score: 0.7586, train confusion_matrix: [[ 0  7], [ 0 11]], train precision: 0.6111, train recall: 1.0000\n",
            "test  loss: 0.676987, test  accuracy: 0.6000, test  f1 score: 0.7500, test  confusion_matrix: [[0 2], [0 3]], test  precision: 0.6000, test  recall: 1.0000\n",
            "Epoch: 0020, loss_train: 3.3554:  10% 20/200 [00:24<03:07,  1.04s/it]\n",
            "Mini Test for Epochs 20:\n",
            "train loss: 0.641348, train accuracy: 0.6111, train f1 score: 0.7586, train confusion_matrix: [[ 0  7], [ 0 11]], train precision: 0.6111, train recall: 1.0000\n",
            "test  loss: 0.646485, test  accuracy: 0.6000, test  f1 score: 0.7500, test  confusion_matrix: [[0 2], [0 3]], test  precision: 0.6000, test  recall: 1.0000\n",
            "Epoch: 0030, loss_train: 2.7495:  15% 30/200 [00:36<02:56,  1.04s/it]\n",
            "Mini Test for Epochs 30:\n",
            "train loss: 0.622459, train accuracy: 0.3889, train f1 score: 0.0000, train confusion_matrix: [[ 7  0], [11  0]], train precision: 0.0000, train recall: 0.0000\n",
            "test  loss: 0.690295, test  accuracy: 0.4000, test  f1 score: 0.0000, test  confusion_matrix: [[2 0], [3 0]], test  precision: 0.0000, test  recall: 0.0000\n",
            "Epoch: 0040, loss_train: 2.0194:  20% 40/200 [00:47<02:50,  1.07s/it]\n",
            "Mini Test for Epochs 40:\n",
            "train loss: 0.574042, train accuracy: 0.3889, train f1 score: 0.0000, train confusion_matrix: [[ 7  0], [11  0]], train precision: 0.0000, train recall: 0.0000\n",
            "test  loss: 0.610791, test  accuracy: 0.4000, test  f1 score: 0.0000, test  confusion_matrix: [[2 0], [3 0]], test  precision: 0.0000, test  recall: 0.0000\n",
            "Epoch: 0050, loss_train: 2.1666:  25% 50/200 [00:58<02:40,  1.07s/it]\n",
            "Mini Test for Epochs 50:\n",
            "train loss: 0.580540, train accuracy: 0.3889, train f1 score: 0.0000, train confusion_matrix: [[ 7  0], [11  0]], train precision: 0.0000, train recall: 0.0000\n",
            "test  loss: 0.613016, test  accuracy: 0.4000, test  f1 score: 0.0000, test  confusion_matrix: [[2 0], [3 0]], test  precision: 0.0000, test  recall: 0.0000\n",
            "Epoch: 0060, loss_train: 2.2515:  30% 60/200 [01:10<02:30,  1.08s/it]\n",
            "Mini Test for Epochs 60:\n",
            "train loss: 0.574567, train accuracy: 0.3889, train f1 score: 0.0000, train confusion_matrix: [[ 7  0], [11  0]], train precision: 0.0000, train recall: 0.0000\n",
            "test  loss: 0.630393, test  accuracy: 0.4000, test  f1 score: 0.0000, test  confusion_matrix: [[2 0], [3 0]], test  precision: 0.0000, test  recall: 0.0000\n",
            "Epoch: 0070, loss_train: 2.3339:  35% 70/200 [01:21<02:15,  1.04s/it]\n",
            "Mini Test for Epochs 70:\n",
            "train loss: 0.690215, train accuracy: 0.3889, train f1 score: 0.0000, train confusion_matrix: [[ 7  0], [11  0]], train precision: 0.0000, train recall: 0.0000\n",
            "test  loss: 0.717734, test  accuracy: 0.4000, test  f1 score: 0.0000, test  confusion_matrix: [[2 0], [3 0]], test  precision: 0.0000, test  recall: 0.0000\n",
            "Epoch: 0080, loss_train: 2.5150:  40% 80/200 [01:33<02:18,  1.16s/it]\n",
            "Mini Test for Epochs 80:\n",
            "train loss: 0.564651, train accuracy: 0.3889, train f1 score: 0.0000, train confusion_matrix: [[ 7  0], [11  0]], train precision: 0.0000, train recall: 0.0000\n",
            "test  loss: 0.623207, test  accuracy: 0.4000, test  f1 score: 0.0000, test  confusion_matrix: [[2 0], [3 0]], test  precision: 0.0000, test  recall: 0.0000\n",
            "Epoch: 0090, loss_train: 2.4081:  45% 90/200 [01:44<01:55,  1.05s/it]\n",
            "Mini Test for Epochs 90:\n",
            "train loss: 0.559973, train accuracy: 0.3889, train f1 score: 0.0000, train confusion_matrix: [[ 7  0], [11  0]], train precision: 0.0000, train recall: 0.0000\n",
            "test  loss: 0.637800, test  accuracy: 0.4000, test  f1 score: 0.0000, test  confusion_matrix: [[2 0], [3 0]], test  precision: 0.0000, test  recall: 0.0000\n",
            "Epoch: 0100, loss_train: 2.6355:  50% 100/200 [01:55<01:46,  1.06s/it]\n",
            "Mini Test for Epochs 100:\n",
            "train loss: 0.546160, train accuracy: 0.3889, train f1 score: 0.0000, train confusion_matrix: [[ 7  0], [11  0]], train precision: 0.0000, train recall: 0.0000\n",
            "test  loss: 0.606604, test  accuracy: 0.4000, test  f1 score: 0.0000, test  confusion_matrix: [[2 0], [3 0]], test  precision: 0.0000, test  recall: 0.0000\n",
            "Epoch: 0110, loss_train: 2.1677:  55% 110/200 [02:07<01:35,  1.06s/it]\n",
            "Mini Test for Epochs 110:\n",
            "train loss: 0.591525, train accuracy: 0.3889, train f1 score: 0.0000, train confusion_matrix: [[ 7  0], [11  0]], train precision: 0.0000, train recall: 0.0000\n",
            "test  loss: 0.679658, test  accuracy: 0.4000, test  f1 score: 0.0000, test  confusion_matrix: [[2 0], [3 0]], test  precision: 0.0000, test  recall: 0.0000\n",
            "Epoch: 0120, loss_train: 2.4606:  60% 120/200 [02:18<01:29,  1.11s/it]\n",
            "Mini Test for Epochs 120:\n",
            "train loss: 0.582920, train accuracy: 0.3889, train f1 score: 0.0000, train confusion_matrix: [[ 7  0], [11  0]], train precision: 0.0000, train recall: 0.0000\n",
            "test  loss: 0.663031, test  accuracy: 0.4000, test  f1 score: 0.0000, test  confusion_matrix: [[2 0], [3 0]], test  precision: 0.0000, test  recall: 0.0000\n",
            "Epoch: 0130, loss_train: 1.8357:  65% 130/200 [02:30<01:20,  1.14s/it]\n",
            "Mini Test for Epochs 130:\n",
            "train loss: 0.615156, train accuracy: 0.3889, train f1 score: 0.0000, train confusion_matrix: [[ 7  0], [11  0]], train precision: 0.0000, train recall: 0.0000\n",
            "test  loss: 0.697319, test  accuracy: 0.4000, test  f1 score: 0.0000, test  confusion_matrix: [[2 0], [3 0]], test  precision: 0.0000, test  recall: 0.0000\n",
            "Epoch: 0140, loss_train: 1.6628:  70% 140/200 [02:42<01:03,  1.07s/it]\n",
            "Mini Test for Epochs 140:\n",
            "train loss: 0.648302, train accuracy: 0.3889, train f1 score: 0.0000, train confusion_matrix: [[ 7  0], [11  0]], train precision: 0.0000, train recall: 0.0000\n",
            "test  loss: 0.738238, test  accuracy: 0.4000, test  f1 score: 0.0000, test  confusion_matrix: [[2 0], [3 0]], test  precision: 0.0000, test  recall: 0.0000\n",
            "Epoch: 0150, loss_train: 2.2325:  75% 150/200 [02:53<00:53,  1.07s/it]\n",
            "Mini Test for Epochs 150:\n",
            "train loss: 0.568649, train accuracy: 0.3889, train f1 score: 0.0000, train confusion_matrix: [[ 7  0], [11  0]], train precision: 0.0000, train recall: 0.0000\n",
            "test  loss: 0.608568, test  accuracy: 0.4000, test  f1 score: 0.0000, test  confusion_matrix: [[2 0], [3 0]], test  precision: 0.0000, test  recall: 0.0000\n",
            "Epoch: 0160, loss_train: 2.2171:  80% 160/200 [03:04<00:43,  1.09s/it]\n",
            "Mini Test for Epochs 160:\n",
            "train loss: 0.558038, train accuracy: 0.3889, train f1 score: 0.0000, train confusion_matrix: [[ 7  0], [11  0]], train precision: 0.0000, train recall: 0.0000\n",
            "test  loss: 0.608366, test  accuracy: 0.4000, test  f1 score: 0.0000, test  confusion_matrix: [[2 0], [3 0]], test  precision: 0.0000, test  recall: 0.0000\n",
            "Epoch: 0170, loss_train: 1.6083:  85% 170/200 [03:16<00:34,  1.15s/it]\n",
            "Mini Test for Epochs 170:\n",
            "train loss: 0.564726, train accuracy: 0.3889, train f1 score: 0.0000, train confusion_matrix: [[ 7  0], [11  0]], train precision: 0.0000, train recall: 0.0000\n",
            "test  loss: 0.680091, test  accuracy: 0.4000, test  f1 score: 0.0000, test  confusion_matrix: [[2 0], [3 0]], test  precision: 0.0000, test  recall: 0.0000\n",
            "Epoch: 0180, loss_train: 2.3296:  90% 180/200 [03:27<00:21,  1.07s/it]\n",
            "Mini Test for Epochs 180:\n",
            "train loss: 0.596627, train accuracy: 0.3889, train f1 score: 0.0000, train confusion_matrix: [[ 7  0], [11  0]], train precision: 0.0000, train recall: 0.0000\n",
            "test  loss: 0.705106, test  accuracy: 0.4000, test  f1 score: 0.0000, test  confusion_matrix: [[2 0], [3 0]], test  precision: 0.0000, test  recall: 0.0000\n",
            "Epoch: 0190, loss_train: 1.5924:  95% 190/200 [03:39<00:10,  1.07s/it]\n",
            "Mini Test for Epochs 190:\n",
            "train loss: 0.526582, train accuracy: 0.3889, train f1 score: 0.0000, train confusion_matrix: [[ 7  0], [11  0]], train precision: 0.0000, train recall: 0.0000\n",
            "test  loss: 0.634116, test  accuracy: 0.4000, test  f1 score: 0.0000, test  confusion_matrix: [[2 0], [3 0]], test  precision: 0.0000, test  recall: 0.0000\n",
            "Epoch: 0199, loss_train: 1.8770: 100% 200/200 [03:49<00:00,  1.15s/it]\n",
            "Epoch: 0000, loss_train: 6.3936:   0% 0/200 [00:00<?, ?it/s]\n",
            "Mini Test for Epochs 0:\n",
            "train loss: 0.670067, train accuracy: 0.4444, train f1 score: 0.3750, train confusion_matrix: [[5 2], [8 3]], train precision: 0.6000, train recall: 0.2727\n",
            "test  loss: 0.619009, test  accuracy: 0.6000, test  f1 score: 0.5000, test  confusion_matrix: [[2 0], [2 1]], test  precision: 1.0000, test  recall: 0.3333\n",
            "Epoch: 0010, loss_train: 1.5229:   5% 10/200 [00:07<02:03,  1.54it/s]\n",
            "Mini Test for Epochs 10:\n",
            "train loss: 0.471477, train accuracy: 0.8333, train f1 score: 0.8800, train confusion_matrix: [[ 4  3], [ 0 11]], train precision: 0.7857, train recall: 1.0000\n",
            "test  loss: 0.416490, test  accuracy: 0.8000, test  f1 score: 0.8571, test  confusion_matrix: [[1 1], [0 3]], test  precision: 0.7500, test  recall: 1.0000\n",
            "Epoch: 0020, loss_train: 1.8961:  10% 20/200 [00:14<02:06,  1.42it/s]\n",
            "Mini Test for Epochs 20:\n",
            "train loss: 0.420115, train accuracy: 0.8889, train f1 score: 0.9167, train confusion_matrix: [[ 5  2], [ 0 11]], train precision: 0.8462, train recall: 1.0000\n",
            "test  loss: 0.474387, test  accuracy: 1.0000, test  f1 score: 1.0000, test  confusion_matrix: [[2 0], [0 3]], test  precision: 1.0000, test  recall: 1.0000\n",
            "Epoch: 0030, loss_train: 1.4749:  15% 30/200 [00:22<01:53,  1.50it/s]\n",
            "Mini Test for Epochs 30:\n",
            "train loss: 0.386847, train accuracy: 0.8889, train f1 score: 0.9167, train confusion_matrix: [[ 5  2], [ 0 11]], train precision: 0.8462, train recall: 1.0000\n",
            "test  loss: 0.483981, test  accuracy: 1.0000, test  f1 score: 1.0000, test  confusion_matrix: [[2 0], [0 3]], test  precision: 1.0000, test  recall: 1.0000\n",
            "Epoch: 0040, loss_train: 1.6521:  20% 40/200 [00:29<01:49,  1.46it/s]\n",
            "Mini Test for Epochs 40:\n",
            "train loss: 0.322150, train accuracy: 0.8889, train f1 score: 0.9167, train confusion_matrix: [[ 5  2], [ 0 11]], train precision: 0.8462, train recall: 1.0000\n",
            "test  loss: 0.460589, test  accuracy: 1.0000, test  f1 score: 1.0000, test  confusion_matrix: [[2 0], [0 3]], test  precision: 1.0000, test  recall: 1.0000\n",
            "Epoch: 0050, loss_train: 1.4268:  25% 50/200 [00:36<01:46,  1.41it/s]\n",
            "Mini Test for Epochs 50:\n",
            "train loss: 0.347503, train accuracy: 0.8889, train f1 score: 0.9167, train confusion_matrix: [[ 5  2], [ 0 11]], train precision: 0.8462, train recall: 1.0000\n",
            "test  loss: 0.423272, test  accuracy: 1.0000, test  f1 score: 1.0000, test  confusion_matrix: [[2 0], [0 3]], test  precision: 1.0000, test  recall: 1.0000\n",
            "Epoch: 0060, loss_train: 1.3900:  30% 60/200 [00:43<01:33,  1.50it/s]\n",
            "Mini Test for Epochs 60:\n",
            "train loss: 0.381510, train accuracy: 0.7222, train f1 score: 0.7059, train confusion_matrix: [[7 0], [5 6]], train precision: 1.0000, train recall: 0.5455\n",
            "test  loss: 0.501982, test  accuracy: 0.6000, test  f1 score: 0.5000, test  confusion_matrix: [[2 0], [2 1]], test  precision: 1.0000, test  recall: 0.3333\n",
            "Epoch: 0070, loss_train: 1.2858:  35% 70/200 [00:50<01:26,  1.50it/s]\n",
            "Mini Test for Epochs 70:\n",
            "train loss: 0.312362, train accuracy: 0.8889, train f1 score: 0.9167, train confusion_matrix: [[ 5  2], [ 0 11]], train precision: 0.8462, train recall: 1.0000\n",
            "test  loss: 0.358195, test  accuracy: 1.0000, test  f1 score: 1.0000, test  confusion_matrix: [[2 0], [0 3]], test  precision: 1.0000, test  recall: 1.0000\n",
            "Epoch: 0080, loss_train: 1.4567:  40% 80/200 [00:58<01:25,  1.40it/s]\n",
            "Mini Test for Epochs 80:\n",
            "train loss: 0.330605, train accuracy: 0.7778, train f1 score: 0.8000, train confusion_matrix: [[6 1], [3 8]], train precision: 0.8889, train recall: 0.7273\n",
            "test  loss: 0.389849, test  accuracy: 0.8000, test  f1 score: 0.8000, test  confusion_matrix: [[2 0], [1 2]], test  precision: 1.0000, test  recall: 0.6667\n",
            "Epoch: 0090, loss_train: 1.8425:  45% 90/200 [01:05<01:13,  1.49it/s]\n",
            "Mini Test for Epochs 90:\n",
            "train loss: 0.300748, train accuracy: 0.8333, train f1 score: 0.8421, train confusion_matrix: [[7 0], [3 8]], train precision: 1.0000, train recall: 0.7273\n",
            "test  loss: 0.439462, test  accuracy: 0.8000, test  f1 score: 0.8000, test  confusion_matrix: [[2 0], [1 2]], test  precision: 1.0000, test  recall: 0.6667\n",
            "Epoch: 0100, loss_train: 0.9032:  50% 100/200 [01:12<01:14,  1.35it/s]\n",
            "Mini Test for Epochs 100:\n",
            "train loss: 0.307081, train accuracy: 0.8889, train f1 score: 0.9167, train confusion_matrix: [[ 5  2], [ 0 11]], train precision: 0.8462, train recall: 1.0000\n",
            "test  loss: 0.307134, test  accuracy: 1.0000, test  f1 score: 1.0000, test  confusion_matrix: [[2 0], [0 3]], test  precision: 1.0000, test  recall: 1.0000\n",
            "Epoch: 0110, loss_train: 1.0371:  55% 110/200 [01:20<01:00,  1.48it/s]\n",
            "Mini Test for Epochs 110:\n",
            "train loss: 0.299026, train accuracy: 0.8333, train f1 score: 0.8421, train confusion_matrix: [[7 0], [3 8]], train precision: 1.0000, train recall: 0.7273\n",
            "test  loss: 0.418095, test  accuracy: 0.8000, test  f1 score: 0.8000, test  confusion_matrix: [[2 0], [1 2]], test  precision: 1.0000, test  recall: 0.6667\n",
            "Epoch: 0120, loss_train: 1.0351:  60% 120/200 [01:27<01:01,  1.29it/s]\n",
            "Mini Test for Epochs 120:\n",
            "train loss: 0.291281, train accuracy: 0.7778, train f1 score: 0.8000, train confusion_matrix: [[6 1], [3 8]], train precision: 0.8889, train recall: 0.7273\n",
            "test  loss: 0.347065, test  accuracy: 0.8000, test  f1 score: 0.8000, test  confusion_matrix: [[2 0], [1 2]], test  precision: 1.0000, test  recall: 0.6667\n",
            "Epoch: 0130, loss_train: 0.9234:  65% 130/200 [01:35<00:50,  1.40it/s]\n",
            "Mini Test for Epochs 130:\n",
            "train loss: 0.283757, train accuracy: 0.8889, train f1 score: 0.9167, train confusion_matrix: [[ 5  2], [ 0 11]], train precision: 0.8462, train recall: 1.0000\n",
            "test  loss: 0.317962, test  accuracy: 1.0000, test  f1 score: 1.0000, test  confusion_matrix: [[2 0], [0 3]], test  precision: 1.0000, test  recall: 1.0000\n",
            "Epoch: 0140, loss_train: 1.0886:  70% 140/200 [01:42<00:43,  1.39it/s]\n",
            "Mini Test for Epochs 140:\n",
            "train loss: 0.289410, train accuracy: 0.9444, train f1 score: 0.9565, train confusion_matrix: [[ 6  1], [ 0 11]], train precision: 0.9167, train recall: 1.0000\n",
            "test  loss: 0.280611, test  accuracy: 1.0000, test  f1 score: 1.0000, test  confusion_matrix: [[2 0], [0 3]], test  precision: 1.0000, test  recall: 1.0000\n",
            "Epoch: 0150, loss_train: 1.0612:  75% 150/200 [01:49<00:32,  1.53it/s]\n",
            "Mini Test for Epochs 150:\n",
            "train loss: 0.283665, train accuracy: 0.8333, train f1 score: 0.8421, train confusion_matrix: [[7 0], [3 8]], train precision: 1.0000, train recall: 0.7273\n",
            "test  loss: 0.364013, test  accuracy: 0.8000, test  f1 score: 0.8000, test  confusion_matrix: [[2 0], [1 2]], test  precision: 1.0000, test  recall: 0.6667\n",
            "Epoch: 0160, loss_train: 1.1712:  80% 160/200 [01:56<00:26,  1.52it/s]\n",
            "Mini Test for Epochs 160:\n",
            "train loss: 0.294524, train accuracy: 0.8333, train f1 score: 0.8421, train confusion_matrix: [[7 0], [3 8]], train precision: 1.0000, train recall: 0.7273\n",
            "test  loss: 0.333758, test  accuracy: 0.8000, test  f1 score: 0.8000, test  confusion_matrix: [[2 0], [1 2]], test  precision: 1.0000, test  recall: 0.6667\n",
            "Epoch: 0170, loss_train: 1.1621:  85% 170/200 [02:03<00:20,  1.43it/s]\n",
            "Mini Test for Epochs 170:\n",
            "train loss: 0.266203, train accuracy: 0.8889, train f1 score: 0.9167, train confusion_matrix: [[ 5  2], [ 0 11]], train precision: 0.8462, train recall: 1.0000\n",
            "test  loss: 0.245129, test  accuracy: 1.0000, test  f1 score: 1.0000, test  confusion_matrix: [[2 0], [0 3]], test  precision: 1.0000, test  recall: 1.0000\n",
            "Epoch: 0180, loss_train: 1.0779:  90% 180/200 [02:11<00:13,  1.46it/s]\n",
            "Mini Test for Epochs 180:\n",
            "train loss: 0.326042, train accuracy: 0.8333, train f1 score: 0.8421, train confusion_matrix: [[7 0], [3 8]], train precision: 1.0000, train recall: 0.7273\n",
            "test  loss: 0.341282, test  accuracy: 0.8000, test  f1 score: 0.8000, test  confusion_matrix: [[2 0], [1 2]], test  precision: 1.0000, test  recall: 0.6667\n",
            "Epoch: 0190, loss_train: 1.1904:  95% 190/200 [02:18<00:06,  1.51it/s]\n",
            "Mini Test for Epochs 190:\n",
            "train loss: 0.261282, train accuracy: 0.9444, train f1 score: 0.9565, train confusion_matrix: [[ 6  1], [ 0 11]], train precision: 0.9167, train recall: 1.0000\n",
            "test  loss: 0.257699, test  accuracy: 1.0000, test  f1 score: 1.0000, test  confusion_matrix: [[2 0], [0 3]], test  precision: 1.0000, test  recall: 1.0000\n",
            "Epoch: 0199, loss_train: 1.5007: 100% 200/200 [02:24<00:00,  1.39it/s]\n",
            "\n",
            "Mini Test for Epochs 200:\n",
            "train loss: 0.291650, train accuracy: 0.8333, train f1 score: 0.8421, train confusion_matrix: [[7 0], [3 8]], train precision: 1.0000, train recall: 0.7273\n",
            "test  loss: 0.298535, test  accuracy: 0.8000, test  f1 score: 0.8000, test  confusion_matrix: [[2 0], [1 2]], test  precision: 1.0000, test  recall: 0.6667\n",
            "best  loss: 0.245129, best  accuracy: 1.0000, best  f1 score: 1.0000, best  confusion_matrix: [[2 0], [0 3]], best  precision: 1.0000, best  recall: 1.0000\n",
            "\n",
            "Mini Test for Epochs 200:\n",
            "train loss: 3.096284, train accuracy: 0.3889, train f1 score: 0.0000, train confusion_matrix: [[ 7  0], [11  0]], train precision: 0.0000, train recall: 0.0000\n",
            "test  loss: 3.554795, test  accuracy: 0.4000, test  f1 score: 0.0000, test  confusion_matrix: [[2 0], [3 0]], test  precision: 0.0000, test  recall: 0.0000\n",
            "best  loss: 0.245129, best  accuracy: 1.0000, best  f1 score: 1.0000, best  confusion_matrix: [[2 0], [0 3]], best  precision: 1.0000, best  recall: 1.0000\n"
          ]
        }
      ]
    },
    {
      "cell_type": "code",
      "source": [
        ""
      ],
      "metadata": {
        "id": "wGTzFaMS1bRX"
      },
      "execution_count": null,
      "outputs": []
    }
  ]
}