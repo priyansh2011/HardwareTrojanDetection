{
  "nbformat": 4,
  "nbformat_minor": 0,
  "metadata": {
    "colab": {
      "name": "Hardware Trojan MLP.ipynb",
      "provenance": [],
      "collapsed_sections": []
    },
    "kernelspec": {
      "name": "python3",
      "display_name": "Python 3"
    },
    "language_info": {
      "name": "python"
    },
    "accelerator": "GPU",
    "gpuClass": "standard"
  },
  "cells": [
    {
      "cell_type": "code",
      "execution_count": null,
      "metadata": {
        "id": "lAeGK4BmpGZo"
      },
      "outputs": [],
      "source": [
        "import pandas as pd\n",
        "import numpy as np\n",
        "import os\n",
        "import sys"
      ]
    },
    {
      "cell_type": "code",
      "source": [
        "from google.colab import drive\n",
        "drive.mount('/content/drive')"
      ],
      "metadata": {
        "colab": {
          "base_uri": "https://localhost:8080/"
        },
        "id": "HhMGzj6uzXWK",
        "outputId": "85563df1-0b83-4430-df59-7521231bc097"
      },
      "execution_count": null,
      "outputs": [
        {
          "output_type": "stream",
          "name": "stdout",
          "text": [
            "Drive already mounted at /content/drive; to attempt to forcibly remount, call drive.mount(\"/content/drive\", force_remount=True).\n"
          ]
        }
      ]
    },
    {
      "cell_type": "code",
      "source": [
        "!sudo apt install iverilog"
      ],
      "metadata": {
        "colab": {
          "base_uri": "https://localhost:8080/"
        },
        "id": "hMeKjLaPpW9G",
        "outputId": "27ef784f-3369-42a5-ade4-b43ab327836c"
      },
      "execution_count": null,
      "outputs": [
        {
          "output_type": "stream",
          "name": "stdout",
          "text": [
            "Reading package lists... Done\n",
            "Building dependency tree       \n",
            "Reading state information... Done\n",
            "iverilog is already the newest version (10.1-0.1build1).\n",
            "The following package was automatically installed and is no longer required:\n",
            "  libnvidia-common-460\n",
            "Use 'sudo apt autoremove' to remove it.\n",
            "0 upgraded, 0 newly installed, 0 to remove and 49 not upgraded.\n"
          ]
        }
      ]
    },
    {
      "cell_type": "code",
      "source": [
        "!pip install pyverilog"
      ],
      "metadata": {
        "colab": {
          "base_uri": "https://localhost:8080/"
        },
        "id": "g83m9GdLptuu",
        "outputId": "f23b59fe-07d0-4447-a583-be66a4009afc"
      },
      "execution_count": null,
      "outputs": [
        {
          "output_type": "stream",
          "name": "stdout",
          "text": [
            "Looking in indexes: https://pypi.org/simple, https://us-python.pkg.dev/colab-wheels/public/simple/\n",
            "Requirement already satisfied: pyverilog in /usr/local/lib/python3.7/dist-packages (1.3.0)\n",
            "Requirement already satisfied: ply>=3.4 in /usr/local/lib/python3.7/dist-packages (from pyverilog) (3.11)\n",
            "Requirement already satisfied: Jinja2>=2.10 in /usr/local/lib/python3.7/dist-packages (from pyverilog) (2.11.3)\n",
            "Requirement already satisfied: MarkupSafe>=0.23 in /usr/local/lib/python3.7/dist-packages (from Jinja2>=2.10->pyverilog) (2.0.1)\n"
          ]
        }
      ]
    },
    {
      "cell_type": "code",
      "source": [
        "!pip install jinja2 ply"
      ],
      "metadata": {
        "colab": {
          "base_uri": "https://localhost:8080/"
        },
        "id": "ouhxJfBjpwQT",
        "outputId": "bf5617af-fd15-45e8-eac6-f554d9a1ef24"
      },
      "execution_count": null,
      "outputs": [
        {
          "output_type": "stream",
          "name": "stdout",
          "text": [
            "Looking in indexes: https://pypi.org/simple, https://us-python.pkg.dev/colab-wheels/public/simple/\n",
            "Requirement already satisfied: jinja2 in /usr/local/lib/python3.7/dist-packages (2.11.3)\n",
            "Requirement already satisfied: ply in /usr/local/lib/python3.7/dist-packages (3.11)\n",
            "Requirement already satisfied: MarkupSafe>=0.23 in /usr/local/lib/python3.7/dist-packages (from jinja2) (2.0.1)\n"
          ]
        }
      ]
    },
    {
      "cell_type": "code",
      "source": [
        "%cd /content/drive/MyDrive/Hardware_Trojan/hw2vec"
      ],
      "metadata": {
        "colab": {
          "base_uri": "https://localhost:8080/"
        },
        "id": "0qG7wjzIpz8E",
        "outputId": "2b7ad296-3060-4893-fb10-c205fc9d8d71"
      },
      "execution_count": null,
      "outputs": [
        {
          "output_type": "stream",
          "name": "stdout",
          "text": [
            "/content/drive/MyDrive/Hardware_Trojan/hw2vec\n"
          ]
        }
      ]
    },
    {
      "cell_type": "code",
      "source": [
        "!pip install -r requirements.txt"
      ],
      "metadata": {
        "colab": {
          "base_uri": "https://localhost:8080/",
          "height": 1000
        },
        "id": "Mpag0xwYp24N",
        "outputId": "0c14b906-b866-4766-95a5-c48659ff20c0"
      },
      "execution_count": null,
      "outputs": [
        {
          "output_type": "stream",
          "name": "stdout",
          "text": [
            "Looking in indexes: https://pypi.org/simple, https://us-python.pkg.dev/colab-wheels/public/simple/\n",
            "Collecting matplotlib==3.1.1\n",
            "  Downloading matplotlib-3.1.1-cp37-cp37m-manylinux1_x86_64.whl (13.1 MB)\n",
            "\u001b[K     |████████████████████████████████| 13.1 MB 4.5 MB/s \n",
            "\u001b[?25hCollecting networkx==2.4\n",
            "  Downloading networkx-2.4-py3-none-any.whl (1.6 MB)\n",
            "\u001b[K     |████████████████████████████████| 1.6 MB 13.6 MB/s \n",
            "\u001b[?25hCollecting numpy==1.16.5\n",
            "  Downloading numpy-1.16.5-cp37-cp37m-manylinux1_x86_64.whl (17.3 MB)\n",
            "\u001b[K     |████████████████████████████████| 17.3 MB 12.2 MB/s \n",
            "\u001b[?25hCollecting pandas==0.23.4\n",
            "  Downloading pandas-0.23.4-cp37-cp37m-manylinux1_x86_64.whl (8.8 MB)\n",
            "\u001b[K     |████████████████████████████████| 8.8 MB 55.5 MB/s \n",
            "\u001b[?25hCollecting scikit-image==0.15.0\n",
            "  Downloading scikit_image-0.15.0-cp37-cp37m-manylinux1_x86_64.whl (26.3 MB)\n",
            "\u001b[K     |████████████████████████████████| 26.3 MB 6.1 MB/s \n",
            "\u001b[?25hCollecting scikit-learn==0.23.1\n",
            "  Downloading scikit_learn-0.23.1-cp37-cp37m-manylinux1_x86_64.whl (6.8 MB)\n",
            "\u001b[K     |████████████████████████████████| 6.8 MB 13.4 MB/s \n",
            "\u001b[?25hRequirement already satisfied: scipy==1.4.1 in /usr/local/lib/python3.7/dist-packages (from -r requirements.txt (line 7)) (1.4.1)\n",
            "Collecting tqdm==4.36.1\n",
            "  Downloading tqdm-4.36.1-py2.py3-none-any.whl (52 kB)\n",
            "\u001b[K     |████████████████████████████████| 52 kB 1.7 MB/s \n",
            "\u001b[?25hCollecting pytorch-nlp==0.5.0\n",
            "  Downloading pytorch_nlp-0.5.0-py3-none-any.whl (90 kB)\n",
            "\u001b[K     |████████████████████████████████| 90 kB 9.9 MB/s \n",
            "\u001b[?25hCollecting pyyaml==5.4.1\n",
            "  Downloading PyYAML-5.4.1-cp37-cp37m-manylinux1_x86_64.whl (636 kB)\n",
            "\u001b[K     |████████████████████████████████| 636 kB 67.5 MB/s \n",
            "\u001b[?25hRequirement already satisfied: pyverilog in /usr/local/lib/python3.7/dist-packages (from -r requirements.txt (line 11)) (1.3.0)\n",
            "Collecting pyunpack\n",
            "  Downloading pyunpack-0.3-py2.py3-none-any.whl (4.1 kB)\n",
            "Collecting patool\n",
            "  Downloading patool-1.12-py2.py3-none-any.whl (77 kB)\n",
            "\u001b[K     |████████████████████████████████| 77 kB 8.0 MB/s \n",
            "\u001b[?25hRequirement already satisfied: pathlib in /usr/local/lib/python3.7/dist-packages (from -r requirements.txt (line 14)) (1.0.1)\n",
            "Requirement already satisfied: pydot in /usr/local/lib/python3.7/dist-packages (from -r requirements.txt (line 15)) (1.3.0)\n",
            "Requirement already satisfied: cycler>=0.10 in /usr/local/lib/python3.7/dist-packages (from matplotlib==3.1.1->-r requirements.txt (line 1)) (0.11.0)\n",
            "Requirement already satisfied: python-dateutil>=2.1 in /usr/local/lib/python3.7/dist-packages (from matplotlib==3.1.1->-r requirements.txt (line 1)) (2.8.2)\n",
            "Requirement already satisfied: kiwisolver>=1.0.1 in /usr/local/lib/python3.7/dist-packages (from matplotlib==3.1.1->-r requirements.txt (line 1)) (1.4.3)\n",
            "Requirement already satisfied: pyparsing!=2.0.4,!=2.1.2,!=2.1.6,>=2.0.1 in /usr/local/lib/python3.7/dist-packages (from matplotlib==3.1.1->-r requirements.txt (line 1)) (3.0.9)\n",
            "Requirement already satisfied: decorator>=4.3.0 in /usr/local/lib/python3.7/dist-packages (from networkx==2.4->-r requirements.txt (line 2)) (4.4.2)\n",
            "Requirement already satisfied: pytz>=2011k in /usr/local/lib/python3.7/dist-packages (from pandas==0.23.4->-r requirements.txt (line 4)) (2022.1)\n",
            "Requirement already satisfied: PyWavelets>=0.4.0 in /usr/local/lib/python3.7/dist-packages (from scikit-image==0.15.0->-r requirements.txt (line 5)) (1.3.0)\n",
            "Requirement already satisfied: imageio>=2.0.1 in /usr/local/lib/python3.7/dist-packages (from scikit-image==0.15.0->-r requirements.txt (line 5)) (2.4.1)\n",
            "Requirement already satisfied: pillow>=4.3.0 in /usr/local/lib/python3.7/dist-packages (from scikit-image==0.15.0->-r requirements.txt (line 5)) (7.1.2)\n",
            "Requirement already satisfied: threadpoolctl>=2.0.0 in /usr/local/lib/python3.7/dist-packages (from scikit-learn==0.23.1->-r requirements.txt (line 6)) (3.1.0)\n",
            "Requirement already satisfied: joblib>=0.11 in /usr/local/lib/python3.7/dist-packages (from scikit-learn==0.23.1->-r requirements.txt (line 6)) (1.1.0)\n",
            "Requirement already satisfied: typing-extensions in /usr/local/lib/python3.7/dist-packages (from kiwisolver>=1.0.1->matplotlib==3.1.1->-r requirements.txt (line 1)) (4.1.1)\n",
            "Requirement already satisfied: six>=1.5 in /usr/local/lib/python3.7/dist-packages (from python-dateutil>=2.1->matplotlib==3.1.1->-r requirements.txt (line 1)) (1.15.0)\n",
            "Collecting PyWavelets>=0.4.0\n",
            "  Downloading PyWavelets-1.2.0-cp37-cp37m-manylinux_2_5_x86_64.manylinux1_x86_64.whl (6.1 MB)\n",
            "\u001b[K     |████████████████████████████████| 6.1 MB 35.9 MB/s \n",
            "\u001b[?25h  Downloading PyWavelets-1.1.1-cp37-cp37m-manylinux1_x86_64.whl (4.4 MB)\n",
            "\u001b[K     |████████████████████████████████| 4.4 MB 52.6 MB/s \n",
            "\u001b[?25hRequirement already satisfied: ply>=3.4 in /usr/local/lib/python3.7/dist-packages (from pyverilog->-r requirements.txt (line 11)) (3.11)\n",
            "Requirement already satisfied: Jinja2>=2.10 in /usr/local/lib/python3.7/dist-packages (from pyverilog->-r requirements.txt (line 11)) (2.11.3)\n",
            "Requirement already satisfied: MarkupSafe>=0.23 in /usr/local/lib/python3.7/dist-packages (from Jinja2>=2.10->pyverilog->-r requirements.txt (line 11)) (2.0.1)\n",
            "Collecting entrypoint2\n",
            "  Downloading entrypoint2-1.1-py2.py3-none-any.whl (9.9 kB)\n",
            "Collecting easyprocess\n",
            "  Downloading EasyProcess-1.1-py3-none-any.whl (8.7 kB)\n",
            "Installing collected packages: numpy, tqdm, PyWavelets, networkx, matplotlib, entrypoint2, easyprocess, scikit-learn, scikit-image, pyyaml, pyunpack, pytorch-nlp, patool, pandas\n",
            "  Attempting uninstall: numpy\n",
            "    Found existing installation: numpy 1.21.6\n",
            "    Uninstalling numpy-1.21.6:\n",
            "      Successfully uninstalled numpy-1.21.6\n",
            "  Attempting uninstall: tqdm\n",
            "    Found existing installation: tqdm 4.64.0\n",
            "    Uninstalling tqdm-4.64.0:\n",
            "      Successfully uninstalled tqdm-4.64.0\n",
            "  Attempting uninstall: PyWavelets\n",
            "    Found existing installation: PyWavelets 1.3.0\n",
            "    Uninstalling PyWavelets-1.3.0:\n",
            "      Successfully uninstalled PyWavelets-1.3.0\n",
            "  Attempting uninstall: networkx\n",
            "    Found existing installation: networkx 2.6.3\n",
            "    Uninstalling networkx-2.6.3:\n",
            "      Successfully uninstalled networkx-2.6.3\n",
            "  Attempting uninstall: matplotlib\n",
            "    Found existing installation: matplotlib 3.2.2\n",
            "    Uninstalling matplotlib-3.2.2:\n",
            "      Successfully uninstalled matplotlib-3.2.2\n",
            "  Attempting uninstall: scikit-learn\n",
            "    Found existing installation: scikit-learn 1.0.2\n",
            "    Uninstalling scikit-learn-1.0.2:\n",
            "      Successfully uninstalled scikit-learn-1.0.2\n",
            "  Attempting uninstall: scikit-image\n",
            "    Found existing installation: scikit-image 0.18.3\n",
            "    Uninstalling scikit-image-0.18.3:\n",
            "      Successfully uninstalled scikit-image-0.18.3\n",
            "  Attempting uninstall: pyyaml\n",
            "    Found existing installation: PyYAML 3.13\n",
            "    Uninstalling PyYAML-3.13:\n",
            "      Successfully uninstalled PyYAML-3.13\n",
            "  Attempting uninstall: pandas\n",
            "    Found existing installation: pandas 1.3.5\n",
            "    Uninstalling pandas-1.3.5:\n",
            "      Successfully uninstalled pandas-1.3.5\n",
            "\u001b[31mERROR: pip's dependency resolver does not currently take into account all the packages that are installed. This behaviour is the source of the following dependency conflicts.\n",
            "yellowbrick 1.4 requires scikit-learn>=1.0.0, but you have scikit-learn 0.23.1 which is incompatible.\n",
            "xarray 0.20.2 requires numpy>=1.18, but you have numpy 1.16.5 which is incompatible.\n",
            "xarray 0.20.2 requires pandas>=1.1, but you have pandas 0.23.4 which is incompatible.\n",
            "xarray-einstats 0.2.2 requires numpy>=1.21, but you have numpy 1.16.5 which is incompatible.\n",
            "tensorflow 2.8.2+zzzcolab20220527125636 requires numpy>=1.20, but you have numpy 1.16.5 which is incompatible.\n",
            "tables 3.7.0 requires numpy>=1.19.0, but you have numpy 1.16.5 which is incompatible.\n",
            "spacy 3.3.1 requires tqdm<5.0.0,>=4.38.0, but you have tqdm 4.36.1 which is incompatible.\n",
            "pymc3 3.11.4 requires pandas>=0.24.0, but you have pandas 0.23.4 which is incompatible.\n",
            "pyerfa 2.0.0.1 requires numpy>=1.17, but you have numpy 1.16.5 which is incompatible.\n",
            "pyarrow 6.0.1 requires numpy>=1.16.6, but you have numpy 1.16.5 which is incompatible.\n",
            "plotnine 0.6.0 requires pandas>=0.25.0, but you have pandas 0.23.4 which is incompatible.\n",
            "panel 0.12.1 requires tqdm>=4.48.0, but you have tqdm 4.36.1 which is incompatible.\n",
            "mizani 0.6.0 requires pandas>=0.25.0, but you have pandas 0.23.4 which is incompatible.\n",
            "kapre 0.3.7 requires numpy>=1.18.5, but you have numpy 1.16.5 which is incompatible.\n",
            "jaxlib 0.3.7+cuda11.cudnn805 requires numpy>=1.19, but you have numpy 1.16.5 which is incompatible.\n",
            "jax 0.3.8 requires numpy>=1.19, but you have numpy 1.16.5 which is incompatible.\n",
            "imbalanced-learn 0.8.1 requires scikit-learn>=0.24, but you have scikit-learn 0.23.1 which is incompatible.\n",
            "google-colab 1.0.0 requires pandas>=1.1.0; python_version >= \"3.0\", but you have pandas 0.23.4 which is incompatible.\n",
            "fbprophet 0.7.1 requires pandas>=1.0.4, but you have pandas 0.23.4 which is incompatible.\n",
            "datascience 0.10.6 requires folium==0.2.1, but you have folium 0.8.3 which is incompatible.\n",
            "cupy-cuda111 9.4.0 requires numpy<1.24,>=1.17, but you have numpy 1.16.5 which is incompatible.\n",
            "astropy 4.3.1 requires numpy>=1.17, but you have numpy 1.16.5 which is incompatible.\n",
            "albumentations 0.1.12 requires imgaug<0.2.7,>=0.2.5, but you have imgaug 0.2.9 which is incompatible.\u001b[0m\n",
            "Successfully installed PyWavelets-1.1.1 easyprocess-1.1 entrypoint2-1.1 matplotlib-3.1.1 networkx-2.4 numpy-1.16.5 pandas-0.23.4 patool-1.12 pytorch-nlp-0.5.0 pyunpack-0.3 pyyaml-5.4.1 scikit-image-0.15.0 scikit-learn-0.23.1 tqdm-4.36.1\n"
          ]
        },
        {
          "output_type": "display_data",
          "data": {
            "application/vnd.colab-display-data+json": {
              "pip_warning": {
                "packages": [
                  "matplotlib",
                  "mpl_toolkits",
                  "numpy",
                  "pandas"
                ]
              }
            }
          },
          "metadata": {}
        }
      ]
    },
    {
      "cell_type": "code",
      "source": [
        "!pip install -r requirements_dev.txt"
      ],
      "metadata": {
        "colab": {
          "base_uri": "https://localhost:8080/"
        },
        "id": "tSg35N-xp7J0",
        "outputId": "59e651ed-cf21-472f-8bb3-d23483732c7b"
      },
      "execution_count": null,
      "outputs": [
        {
          "output_type": "stream",
          "name": "stdout",
          "text": [
            "Looking in indexes: https://pypi.org/simple, https://us-python.pkg.dev/colab-wheels/public/simple/\n",
            "Collecting coverage>=5.0.4\n",
            "  Downloading coverage-6.4.1-cp37-cp37m-manylinux_2_5_x86_64.manylinux1_x86_64.manylinux_2_17_x86_64.manylinux2014_x86_64.whl (208 kB)\n",
            "\u001b[K     |████████████████████████████████| 208 kB 4.9 MB/s \n",
            "\u001b[?25hCollecting coveralls>=1.11.1\n",
            "  Downloading coveralls-3.3.1-py2.py3-none-any.whl (14 kB)\n",
            "Collecting pytest-cov>=2.8.1\n",
            "  Downloading pytest_cov-3.0.0-py3-none-any.whl (20 kB)\n",
            "Collecting pylint>=2.5.3\n",
            "  Downloading pylint-2.14.4-py3-none-any.whl (488 kB)\n",
            "\u001b[K     |████████████████████████████████| 488 kB 70.4 MB/s \n",
            "\u001b[?25hRequirement already satisfied: pytest>=3.6 in /usr/local/lib/python3.7/dist-packages (from -r requirements_dev.txt (line 5)) (3.6.4)\n",
            "Requirement already satisfied: docopt>=0.6.1 in /usr/local/lib/python3.7/dist-packages (from coveralls>=1.11.1->-r requirements_dev.txt (line 2)) (0.6.2)\n",
            "Requirement already satisfied: requests>=1.0.0 in /usr/local/lib/python3.7/dist-packages (from coveralls>=1.11.1->-r requirements_dev.txt (line 2)) (2.23.0)\n",
            "Collecting pytest>=3.6\n",
            "  Downloading pytest-7.1.2-py3-none-any.whl (297 kB)\n",
            "\u001b[K     |████████████████████████████████| 297 kB 61.0 MB/s \n",
            "\u001b[?25hRequirement already satisfied: tomli>=1.1.0 in /usr/local/lib/python3.7/dist-packages (from pylint>=2.5.3->-r requirements_dev.txt (line 4)) (2.0.1)\n",
            "Collecting platformdirs>=2.2.0\n",
            "  Downloading platformdirs-2.5.2-py3-none-any.whl (14 kB)\n",
            "Collecting isort<6,>=4.2.5\n",
            "  Downloading isort-5.10.1-py3-none-any.whl (103 kB)\n",
            "\u001b[K     |████████████████████████████████| 103 kB 74.7 MB/s \n",
            "\u001b[?25hCollecting mccabe<0.8,>=0.6\n",
            "  Downloading mccabe-0.7.0-py2.py3-none-any.whl (7.3 kB)\n",
            "Collecting astroid<=2.12.0-dev0,>=2.11.6\n",
            "  Downloading astroid-2.11.6-py3-none-any.whl (251 kB)\n",
            "\u001b[K     |████████████████████████████████| 251 kB 54.6 MB/s \n",
            "\u001b[?25hCollecting tomlkit>=0.10.1\n",
            "  Downloading tomlkit-0.11.0-py3-none-any.whl (34 kB)\n",
            "Requirement already satisfied: typing-extensions>=3.10.0 in /usr/local/lib/python3.7/dist-packages (from pylint>=2.5.3->-r requirements_dev.txt (line 4)) (4.1.1)\n",
            "Requirement already satisfied: dill>=0.2 in /usr/local/lib/python3.7/dist-packages (from pylint>=2.5.3->-r requirements_dev.txt (line 4)) (0.3.5.1)\n",
            "Requirement already satisfied: attrs>=19.2.0 in /usr/local/lib/python3.7/dist-packages (from pytest>=3.6->-r requirements_dev.txt (line 5)) (21.4.0)\n",
            "Requirement already satisfied: iniconfig in /usr/local/lib/python3.7/dist-packages (from pytest>=3.6->-r requirements_dev.txt (line 5)) (1.1.1)\n",
            "Collecting pluggy<2.0,>=0.12\n",
            "  Downloading pluggy-1.0.0-py2.py3-none-any.whl (13 kB)\n",
            "Requirement already satisfied: py>=1.8.2 in /usr/local/lib/python3.7/dist-packages (from pytest>=3.6->-r requirements_dev.txt (line 5)) (1.11.0)\n",
            "Requirement already satisfied: packaging in /usr/local/lib/python3.7/dist-packages (from pytest>=3.6->-r requirements_dev.txt (line 5)) (21.3)\n",
            "Requirement already satisfied: importlib-metadata>=0.12 in /usr/local/lib/python3.7/dist-packages (from pytest>=3.6->-r requirements_dev.txt (line 5)) (4.11.4)\n",
            "Collecting typed-ast<2.0,>=1.4.0\n",
            "  Downloading typed_ast-1.5.4-cp37-cp37m-manylinux_2_5_x86_64.manylinux1_x86_64.manylinux_2_12_x86_64.manylinux2010_x86_64.whl (843 kB)\n",
            "\u001b[K     |████████████████████████████████| 843 kB 57.5 MB/s \n",
            "\u001b[?25hCollecting lazy-object-proxy>=1.4.0\n",
            "  Downloading lazy_object_proxy-1.7.1-cp37-cp37m-manylinux_2_5_x86_64.manylinux1_x86_64.manylinux_2_17_x86_64.manylinux2014_x86_64.whl (57 kB)\n",
            "\u001b[K     |████████████████████████████████| 57 kB 7.2 MB/s \n",
            "\u001b[?25hRequirement already satisfied: setuptools>=20.0 in /usr/local/lib/python3.7/dist-packages (from astroid<=2.12.0-dev0,>=2.11.6->pylint>=2.5.3->-r requirements_dev.txt (line 4)) (57.4.0)\n",
            "Requirement already satisfied: wrapt<2,>=1.11 in /usr/local/lib/python3.7/dist-packages (from astroid<=2.12.0-dev0,>=2.11.6->pylint>=2.5.3->-r requirements_dev.txt (line 4)) (1.14.1)\n",
            "Requirement already satisfied: zipp>=0.5 in /usr/local/lib/python3.7/dist-packages (from importlib-metadata>=0.12->pytest>=3.6->-r requirements_dev.txt (line 5)) (3.8.0)\n",
            "Requirement already satisfied: chardet<4,>=3.0.2 in /usr/local/lib/python3.7/dist-packages (from requests>=1.0.0->coveralls>=1.11.1->-r requirements_dev.txt (line 2)) (3.0.4)\n",
            "Requirement already satisfied: idna<3,>=2.5 in /usr/local/lib/python3.7/dist-packages (from requests>=1.0.0->coveralls>=1.11.1->-r requirements_dev.txt (line 2)) (2.10)\n",
            "Requirement already satisfied: urllib3!=1.25.0,!=1.25.1,<1.26,>=1.21.1 in /usr/local/lib/python3.7/dist-packages (from requests>=1.0.0->coveralls>=1.11.1->-r requirements_dev.txt (line 2)) (1.24.3)\n",
            "Requirement already satisfied: certifi>=2017.4.17 in /usr/local/lib/python3.7/dist-packages (from requests>=1.0.0->coveralls>=1.11.1->-r requirements_dev.txt (line 2)) (2022.6.15)\n",
            "Requirement already satisfied: pyparsing!=3.0.5,>=2.0.2 in /usr/local/lib/python3.7/dist-packages (from packaging->pytest>=3.6->-r requirements_dev.txt (line 5)) (3.0.9)\n",
            "Installing collected packages: typed-ast, pluggy, lazy-object-proxy, coverage, tomlkit, pytest, platformdirs, mccabe, isort, astroid, pytest-cov, pylint, coveralls\n",
            "  Attempting uninstall: pluggy\n",
            "    Found existing installation: pluggy 0.7.1\n",
            "    Uninstalling pluggy-0.7.1:\n",
            "      Successfully uninstalled pluggy-0.7.1\n",
            "  Attempting uninstall: coverage\n",
            "    Found existing installation: coverage 3.7.1\n",
            "    Uninstalling coverage-3.7.1:\n",
            "      Successfully uninstalled coverage-3.7.1\n",
            "  Attempting uninstall: pytest\n",
            "    Found existing installation: pytest 3.6.4\n",
            "    Uninstalling pytest-3.6.4:\n",
            "      Successfully uninstalled pytest-3.6.4\n",
            "  Attempting uninstall: coveralls\n",
            "    Found existing installation: coveralls 0.5\n",
            "    Uninstalling coveralls-0.5:\n",
            "      Successfully uninstalled coveralls-0.5\n",
            "\u001b[31mERROR: pip's dependency resolver does not currently take into account all the packages that are installed. This behaviour is the source of the following dependency conflicts.\n",
            "datascience 0.10.6 requires coverage==3.7.1, but you have coverage 6.4.1 which is incompatible.\n",
            "datascience 0.10.6 requires coveralls==0.5, but you have coveralls 3.3.1 which is incompatible.\n",
            "datascience 0.10.6 requires folium==0.2.1, but you have folium 0.8.3 which is incompatible.\u001b[0m\n",
            "Successfully installed astroid-2.11.6 coverage-6.4.1 coveralls-3.3.1 isort-5.10.1 lazy-object-proxy-1.7.1 mccabe-0.7.0 platformdirs-2.5.2 pluggy-1.0.0 pylint-2.14.4 pytest-7.1.2 pytest-cov-3.0.0 tomlkit-0.11.0 typed-ast-1.5.4\n"
          ]
        }
      ]
    },
    {
      "cell_type": "code",
      "source": [
        "!sudo apt-get install graphviz graphviz-dev\n",
        "!pip install pygraphviz"
      ],
      "metadata": {
        "colab": {
          "base_uri": "https://localhost:8080/"
        },
        "id": "CzF8crBRp72s",
        "outputId": "4733faf2-4a05-4ab5-8cbf-92a4620912d9"
      },
      "execution_count": null,
      "outputs": [
        {
          "output_type": "stream",
          "name": "stdout",
          "text": [
            "Reading package lists... Done\n",
            "Building dependency tree       \n",
            "Reading state information... Done\n",
            "Note, selecting 'libgraphviz-dev' instead of 'graphviz-dev'\n",
            "graphviz is already the newest version (2.40.1-2).\n",
            "libgraphviz-dev is already the newest version (2.40.1-2).\n",
            "The following package was automatically installed and is no longer required:\n",
            "  libnvidia-common-460\n",
            "Use 'sudo apt autoremove' to remove it.\n",
            "0 upgraded, 0 newly installed, 0 to remove and 49 not upgraded.\n",
            "Looking in indexes: https://pypi.org/simple, https://us-python.pkg.dev/colab-wheels/public/simple/\n",
            "Requirement already satisfied: pygraphviz in /usr/local/lib/python3.7/dist-packages (1.7)\n"
          ]
        }
      ]
    },
    {
      "cell_type": "code",
      "source": [
        "%cd examples"
      ],
      "metadata": {
        "colab": {
          "base_uri": "https://localhost:8080/"
        },
        "id": "dAtLDr9XqBzT",
        "outputId": "666d05f3-b8ae-411a-e360-fa1edc654a71"
      },
      "execution_count": null,
      "outputs": [
        {
          "output_type": "stream",
          "name": "stdout",
          "text": [
            "/content/drive/MyDrive/Hardware_Trojan/hw2vec/examples\n"
          ]
        }
      ]
    },
    {
      "cell_type": "code",
      "source": [
        "!pip install torch-scatter -f https://data.pyg.org/whl/torch-1.6.0+${CUDA}.html"
      ],
      "metadata": {
        "colab": {
          "base_uri": "https://localhost:8080/"
        },
        "id": "4WVEPQyfqCR3",
        "outputId": "eb0a85b5-90dd-413e-d836-f8a9cca5cb6b"
      },
      "execution_count": null,
      "outputs": [
        {
          "output_type": "stream",
          "name": "stdout",
          "text": [
            "Looking in indexes: https://pypi.org/simple, https://us-python.pkg.dev/colab-wheels/public/simple/\n",
            "Looking in links: https://data.pyg.org/whl/torch-1.6.0+.html\n",
            "Collecting torch-scatter\n",
            "  Using cached torch_scatter-2.0.9.tar.gz (21 kB)\n",
            "Building wheels for collected packages: torch-scatter\n",
            "  Building wheel for torch-scatter (setup.py) ... \u001b[?25l\u001b[?25hdone\n",
            "  Created wheel for torch-scatter: filename=torch_scatter-2.0.9-cp37-cp37m-linux_x86_64.whl size=3577516 sha256=016c259dfb4dddb70ff0bb0cffe5fd9969d407c5e852b2286ba275aab132dc2b\n",
            "  Stored in directory: /root/.cache/pip/wheels/dd/57/a3/42ea193b77378ce634eb9454c9bc1e3163f3b482a35cdee4d1\n",
            "Successfully built torch-scatter\n",
            "Installing collected packages: torch-scatter\n",
            "Successfully installed torch-scatter-2.0.9\n"
          ]
        }
      ]
    },
    {
      "cell_type": "code",
      "source": [
        "!pip install torch-sparse -f https://data.pyg.org/whl/torch-1.6.0+${CUDA}.html"
      ],
      "metadata": {
        "colab": {
          "base_uri": "https://localhost:8080/"
        },
        "id": "ZmW_YmHNqEra",
        "outputId": "37d2437c-155f-4aeb-a097-6ebf89d1d18c"
      },
      "execution_count": null,
      "outputs": [
        {
          "output_type": "stream",
          "name": "stdout",
          "text": [
            "Looking in indexes: https://pypi.org/simple, https://us-python.pkg.dev/colab-wheels/public/simple/\n",
            "Looking in links: https://data.pyg.org/whl/torch-1.6.0+.html\n",
            "Collecting torch-sparse\n",
            "  Downloading torch_sparse-0.6.14.tar.gz (51 kB)\n",
            "\u001b[K     |████████████████████████████████| 51 kB 182 kB/s \n",
            "\u001b[?25hRequirement already satisfied: scipy in /usr/local/lib/python3.7/dist-packages (from torch-sparse) (1.4.1)\n",
            "Requirement already satisfied: numpy>=1.13.3 in /usr/local/lib/python3.7/dist-packages (from scipy->torch-sparse) (1.16.5)\n",
            "Building wheels for collected packages: torch-sparse\n",
            "  Building wheel for torch-sparse (setup.py) ... \u001b[?25l\u001b[?25hdone\n",
            "  Created wheel for torch-sparse: filename=torch_sparse-0.6.14-cp37-cp37m-linux_x86_64.whl size=1735921 sha256=8ae38916f6e8dda1c5410905d4578284d0c690d69dd70c4d9f18ce43958626b3\n",
            "  Stored in directory: /root/.cache/pip/wheels/3c/aa/62/db0259eae2abce84f1ee2cf1c531bba683aab4bf79054172f8\n",
            "Successfully built torch-sparse\n",
            "Installing collected packages: torch-sparse\n",
            "Successfully installed torch-sparse-0.6.14\n"
          ]
        }
      ]
    },
    {
      "cell_type": "code",
      "source": [
        "!pip install torch-geometric"
      ],
      "metadata": {
        "colab": {
          "base_uri": "https://localhost:8080/"
        },
        "id": "qshfLU8BqITc",
        "outputId": "cb402014-3c34-451f-ab6e-b8391222cc0f"
      },
      "execution_count": null,
      "outputs": [
        {
          "output_type": "stream",
          "name": "stdout",
          "text": [
            "Looking in indexes: https://pypi.org/simple, https://us-python.pkg.dev/colab-wheels/public/simple/\n",
            "Collecting torch-geometric\n",
            "  Downloading torch_geometric-2.0.4.tar.gz (407 kB)\n",
            "\u001b[K     |████████████████████████████████| 407 kB 5.1 MB/s \n",
            "\u001b[?25hRequirement already satisfied: tqdm in /usr/local/lib/python3.7/dist-packages (from torch-geometric) (4.36.1)\n",
            "Requirement already satisfied: numpy in /usr/local/lib/python3.7/dist-packages (from torch-geometric) (1.16.5)\n",
            "Requirement already satisfied: scipy in /usr/local/lib/python3.7/dist-packages (from torch-geometric) (1.4.1)\n",
            "Requirement already satisfied: pandas in /usr/local/lib/python3.7/dist-packages (from torch-geometric) (0.23.4)\n",
            "Requirement already satisfied: jinja2 in /usr/local/lib/python3.7/dist-packages (from torch-geometric) (2.11.3)\n",
            "Requirement already satisfied: requests in /usr/local/lib/python3.7/dist-packages (from torch-geometric) (2.23.0)\n",
            "Requirement already satisfied: pyparsing in /usr/local/lib/python3.7/dist-packages (from torch-geometric) (3.0.9)\n",
            "Requirement already satisfied: scikit-learn in /usr/local/lib/python3.7/dist-packages (from torch-geometric) (0.23.1)\n",
            "Requirement already satisfied: MarkupSafe>=0.23 in /usr/local/lib/python3.7/dist-packages (from jinja2->torch-geometric) (2.0.1)\n",
            "Requirement already satisfied: python-dateutil>=2.5.0 in /usr/local/lib/python3.7/dist-packages (from pandas->torch-geometric) (2.8.2)\n",
            "Requirement already satisfied: pytz>=2011k in /usr/local/lib/python3.7/dist-packages (from pandas->torch-geometric) (2022.1)\n",
            "Requirement already satisfied: six>=1.5 in /usr/local/lib/python3.7/dist-packages (from python-dateutil>=2.5.0->pandas->torch-geometric) (1.15.0)\n",
            "Requirement already satisfied: urllib3!=1.25.0,!=1.25.1,<1.26,>=1.21.1 in /usr/local/lib/python3.7/dist-packages (from requests->torch-geometric) (1.24.3)\n",
            "Requirement already satisfied: chardet<4,>=3.0.2 in /usr/local/lib/python3.7/dist-packages (from requests->torch-geometric) (3.0.4)\n",
            "Requirement already satisfied: certifi>=2017.4.17 in /usr/local/lib/python3.7/dist-packages (from requests->torch-geometric) (2022.6.15)\n",
            "Requirement already satisfied: idna<3,>=2.5 in /usr/local/lib/python3.7/dist-packages (from requests->torch-geometric) (2.10)\n",
            "Requirement already satisfied: threadpoolctl>=2.0.0 in /usr/local/lib/python3.7/dist-packages (from scikit-learn->torch-geometric) (3.1.0)\n",
            "Requirement already satisfied: joblib>=0.11 in /usr/local/lib/python3.7/dist-packages (from scikit-learn->torch-geometric) (1.1.0)\n",
            "Building wheels for collected packages: torch-geometric\n",
            "  Building wheel for torch-geometric (setup.py) ... \u001b[?25l\u001b[?25hdone\n",
            "  Created wheel for torch-geometric: filename=torch_geometric-2.0.4-py3-none-any.whl size=616603 sha256=d8e47ae285d8f16eb55f32829189f10d196fcb7d64ec8ab9e6b8208079b0ce77\n",
            "  Stored in directory: /root/.cache/pip/wheels/18/a6/a4/ca18c3051fcead866fe7b85700ee2240d883562a1bc70ce421\n",
            "Successfully built torch-geometric\n",
            "Installing collected packages: torch-geometric\n",
            "Successfully installed torch-geometric-2.0.4\n"
          ]
        }
      ]
    },
    {
      "cell_type": "code",
      "source": [
        "!python use_case_2.py --yaml_path ./example_gnn4tj.yaml --raw_dataset_path ../assets/TJ-RTL-toy --data_pkl_path dfg_tj_rtl.pkl --graph_type DFG"
      ],
      "metadata": {
        "colab": {
          "base_uri": "https://localhost:8080/"
        },
        "id": "pE7CuODxx3uB",
        "outputId": "4185046d-73bc-4ff0-f592-7e579881cab8"
      },
      "execution_count": null,
      "outputs": [
        {
          "output_type": "stream",
          "name": "stdout",
          "text": [
            "/content/drive/MyDrive/Hardware_Trojan/hw2vec/assets/TJ-RTL-toy/TjFree/RC5/topModule.v , 2180 , 2463 , 9.419161319732666\n",
            "/content/drive/MyDrive/Hardware_Trojan/hw2vec/assets/TJ-RTL-toy/TjIn/RS232-T901/topModule.v , 882 , 1102 , 2.23740291595459\n",
            "/content/drive/MyDrive/Hardware_Trojan/hw2vec/assets/TJ-RTL-toy/TjIn/RS232-T600/topModule.v , 833 , 1034 , 2.484103202819824\n",
            "/content/drive/MyDrive/Hardware_Trojan/hw2vec/assets/TJ-RTL-toy/TjIn/RS232-T800/topModule.v , 870 , 1075 , 2.169098377227783\n",
            "/content/drive/MyDrive/Hardware_Trojan/hw2vec/assets/TJ-RTL-toy/TjFree/syncRAM/topModule.v , 32 , 32 , 1.585317611694336\n",
            "/content/drive/MyDrive/Hardware_Trojan/hw2vec/assets/TJ-RTL-toy/TjIn/RS232-T200/topModule.v , 795 , 926 , 2.1378164291381836\n",
            "/content/drive/MyDrive/Hardware_Trojan/hw2vec/assets/TJ-RTL-toy/TjFree/RC6/topModule.v , 2411 , 2716 , 7.534518718719482\n",
            "/content/drive/MyDrive/Hardware_Trojan/hw2vec/assets/TJ-RTL-toy/TjFree/RS232/topModule.v , 668 , 783 , 1.9631037712097168\n",
            "/content/drive/MyDrive/Hardware_Trojan/hw2vec/assets/TJ-RTL-toy/TjIn/PIC16F84-T400/topModule.v , 2636 , 3694 , 4.986768484115601\n",
            "/content/drive/MyDrive/Hardware_Trojan/hw2vec/assets/TJ-RTL-toy/TjIn/PIC16F84-T200/topModule.v , 2636 , 3694 , 4.909675121307373\n",
            "/content/drive/MyDrive/Hardware_Trojan/hw2vec/assets/TJ-RTL-toy/TjIn/PIC16F84-T100/topModule.v , 2632 , 3692 , 4.993531703948975\n",
            "/content/drive/MyDrive/Hardware_Trojan/hw2vec/assets/TJ-RTL-toy/TjIn/RS232-T500/topModule.v , 739 , 862 , 2.2464239597320557\n",
            "/content/drive/MyDrive/Hardware_Trojan/hw2vec/assets/TJ-RTL-toy/TjFree/spi_master/topModule.v , 144 , 195 , 1.727696180343628\n",
            "/content/drive/MyDrive/Hardware_Trojan/hw2vec/assets/TJ-RTL-toy/TjFree/PIC16F84/topModule.v , 2541 , 3576 , 4.933305025100708\n",
            "/content/drive/MyDrive/Hardware_Trojan/hw2vec/assets/TJ-RTL-toy/TjFree/xtea/topModule.v , 1830 , 2170 , 2.592597723007202\n",
            "/content/drive/MyDrive/Hardware_Trojan/hw2vec/assets/TJ-RTL-toy/TjFree/det_1011/topModule.v , 71 , 63 , 1.6883199214935303\n",
            "/content/drive/MyDrive/Hardware_Trojan/hw2vec/assets/TJ-RTL-toy/TjFree/vga/topModule.v , 41 , 46 , 1.587186336517334\n",
            "/content/drive/MyDrive/Hardware_Trojan/hw2vec/assets/TJ-RTL-toy/TjIn/RS232-T400/topModule.v , 747 , 875 , 2.0582637786865234\n",
            "/content/drive/MyDrive/Hardware_Trojan/hw2vec/assets/TJ-RTL-toy/TjIn/RS232-T700/topModule.v , 833 , 1034 , 2.138878345489502\n",
            "/content/drive/MyDrive/Hardware_Trojan/hw2vec/assets/TJ-RTL-toy/TjIn/PIC16F84-T300/topModule.v , 2636 , 3694 , 4.996642827987671\n",
            "/content/drive/MyDrive/Hardware_Trojan/hw2vec/assets/TJ-RTL-toy/TjIn/RS232-T100/topModule.v , 760 , 891 , 1.9564647674560547\n",
            "/content/drive/MyDrive/Hardware_Trojan/hw2vec/assets/TJ-RTL-toy/TjIn/RS232-T300/topModule.v , 717 , 838 , 2.0128448009490967\n",
            "/content/drive/MyDrive/Hardware_Trojan/hw2vec/assets/TJ-RTL-toy/TjIn/RS232-T900/topModule.v , 782 , 972 , 2.0897440910339355\n",
            "[Data(x=[2180], edge_index=[2, 2463], label=0, hw_name='RC5', hw_type='TjFree'), Data(x=[882], edge_index=[2, 1102], label=1, hw_name='RS232-T901', hw_type='TjIn'), Data(x=[833], edge_index=[2, 1034], label=1, hw_name='RS232-T600', hw_type='TjIn'), Data(x=[870], edge_index=[2, 1075], label=1, hw_name='RS232-T800', hw_type='TjIn'), Data(x=[32], edge_index=[2, 32], label=0, hw_name='syncRAM', hw_type='TjFree'), Data(x=[795], edge_index=[2, 926], label=1, hw_name='RS232-T200', hw_type='TjIn'), Data(x=[2411], edge_index=[2, 2716], label=0, hw_name='RC6', hw_type='TjFree'), Data(x=[668], edge_index=[2, 783], label=0, hw_name='RS232', hw_type='TjFree'), Data(x=[2636], edge_index=[2, 3694], label=1, hw_name='PIC16F84-T400', hw_type='TjIn'), Data(x=[2636], edge_index=[2, 3694], label=1, hw_name='PIC16F84-T200', hw_type='TjIn'), Data(x=[2632], edge_index=[2, 3692], label=1, hw_name='PIC16F84-T100', hw_type='TjIn'), Data(x=[739], edge_index=[2, 862], label=1, hw_name='RS232-T500', hw_type='TjIn'), Data(x=[144], edge_index=[2, 195], label=0, hw_name='spi_master', hw_type='TjFree'), Data(x=[2541], edge_index=[2, 3576], label=0, hw_name='PIC16F84', hw_type='TjFree'), Data(x=[1830], edge_index=[2, 2170], label=0, hw_name='xtea', hw_type='TjFree'), Data(x=[71], edge_index=[2, 63], label=0, hw_name='det_1011', hw_type='TjFree'), Data(x=[41], edge_index=[2, 46], label=0, hw_name='vga', hw_type='TjFree'), Data(x=[747], edge_index=[2, 875], label=1, hw_name='RS232-T400', hw_type='TjIn'), Data(x=[833], edge_index=[2, 1034], label=1, hw_name='RS232-T700', hw_type='TjIn'), Data(x=[2636], edge_index=[2, 3694], label=1, hw_name='PIC16F84-T300', hw_type='TjIn'), Data(x=[760], edge_index=[2, 891], label=1, hw_name='RS232-T100', hw_type='TjIn'), Data(x=[717], edge_index=[2, 838], label=1, hw_name='RS232-T300', hw_type='TjIn'), Data(x=[782], edge_index=[2, 972], label=1, hw_name='RS232-T900', hw_type='TjIn')]\n",
            "Epoch: 0000, loss_train: 3.4821:   0% 0/200 [00:00<?, ?it/s]\n",
            "Mini Test for Epochs 0:\n",
            "train loss: 0.694933, train accuracy: 0.3889, train f1 score: 0.0000, train confusion_matrix: [[ 7  0], [11  0]], train precision: 0.0000, train recall: 0.0000\n",
            "test  loss: 0.695512, test  accuracy: 0.4000, test  f1 score: 0.0000, test  confusion_matrix: [[2 0], [3 0]], test  precision: 0.0000, test  recall: 0.0000\n",
            "Epoch: 0010, loss_train: 2.6254:   5% 10/200 [00:04<01:08,  2.77it/s]\n",
            "Mini Test for Epochs 10:\n",
            "train loss: 0.497738, train accuracy: 0.8333, train f1 score: 0.8800, train confusion_matrix: [[ 4  3], [ 0 11]], train precision: 0.7857, train recall: 1.0000\n",
            "test  loss: 0.656118, test  accuracy: 0.6000, test  f1 score: 0.7500, test  confusion_matrix: [[0 2], [0 3]], test  precision: 0.6000, test  recall: 1.0000\n",
            "Epoch: 0020, loss_train: 2.0287:  10% 20/200 [00:08<01:05,  2.77it/s]\n",
            "Mini Test for Epochs 20:\n",
            "train loss: 0.351684, train accuracy: 0.8889, train f1 score: 0.9167, train confusion_matrix: [[ 5  2], [ 0 11]], train precision: 0.8462, train recall: 1.0000\n",
            "test  loss: 0.796635, test  accuracy: 0.8000, test  f1 score: 0.8571, test  confusion_matrix: [[1 1], [0 3]], test  precision: 0.7500, test  recall: 1.0000\n",
            "Epoch: 0030, loss_train: 1.5163:  15% 30/200 [00:11<01:00,  2.81it/s]\n",
            "Mini Test for Epochs 30:\n",
            "train loss: 0.353821, train accuracy: 0.8333, train f1 score: 0.8421, train confusion_matrix: [[7 0], [3 8]], train precision: 1.0000, train recall: 0.7273\n",
            "test  loss: 0.512627, test  accuracy: 0.8000, test  f1 score: 0.8571, test  confusion_matrix: [[1 1], [0 3]], test  precision: 0.7500, test  recall: 1.0000\n",
            "Epoch: 0040, loss_train: 2.1034:  20% 40/200 [00:15<00:55,  2.88it/s]\n",
            "Mini Test for Epochs 40:\n",
            "train loss: 0.319090, train accuracy: 0.9444, train f1 score: 0.9565, train confusion_matrix: [[ 6  1], [ 0 11]], train precision: 0.9167, train recall: 1.0000\n",
            "test  loss: 0.746695, test  accuracy: 0.8000, test  f1 score: 0.8571, test  confusion_matrix: [[1 1], [0 3]], test  precision: 0.7500, test  recall: 1.0000\n",
            "Epoch: 0050, loss_train: 1.5155:  25% 50/200 [00:19<00:52,  2.86it/s]\n",
            "Mini Test for Epochs 50:\n",
            "train loss: 0.271711, train accuracy: 0.9444, train f1 score: 0.9565, train confusion_matrix: [[ 6  1], [ 0 11]], train precision: 0.9167, train recall: 1.0000\n",
            "test  loss: 0.638463, test  accuracy: 0.8000, test  f1 score: 0.8571, test  confusion_matrix: [[1 1], [0 3]], test  precision: 0.7500, test  recall: 1.0000\n",
            "Epoch: 0060, loss_train: 1.2601:  30% 60/200 [00:22<00:48,  2.87it/s]\n",
            "Mini Test for Epochs 60:\n",
            "train loss: 0.218354, train accuracy: 1.0000, train f1 score: 1.0000, train confusion_matrix: [[ 7  0], [ 0 11]], train precision: 1.0000, train recall: 1.0000\n",
            "test  loss: 0.481638, test  accuracy: 0.8000, test  f1 score: 0.8571, test  confusion_matrix: [[1 1], [0 3]], test  precision: 0.7500, test  recall: 1.0000\n",
            "Epoch: 0070, loss_train: 0.7758:  35% 70/200 [00:26<00:45,  2.83it/s]\n",
            "Mini Test for Epochs 70:\n",
            "train loss: 0.195079, train accuracy: 0.9444, train f1 score: 0.9565, train confusion_matrix: [[ 6  1], [ 0 11]], train precision: 0.9167, train recall: 1.0000\n",
            "test  loss: 0.629963, test  accuracy: 0.8000, test  f1 score: 0.8571, test  confusion_matrix: [[1 1], [0 3]], test  precision: 0.7500, test  recall: 1.0000\n",
            "Epoch: 0080, loss_train: 0.6356:  40% 80/200 [00:30<00:41,  2.90it/s]\n",
            "Mini Test for Epochs 80:\n",
            "train loss: 0.172106, train accuracy: 0.9444, train f1 score: 0.9565, train confusion_matrix: [[ 6  1], [ 0 11]], train precision: 0.9167, train recall: 1.0000\n",
            "test  loss: 0.621850, test  accuracy: 0.8000, test  f1 score: 0.8571, test  confusion_matrix: [[1 1], [0 3]], test  precision: 0.7500, test  recall: 1.0000\n",
            "Epoch: 0090, loss_train: 0.5831:  45% 90/200 [00:34<00:37,  2.95it/s]\n",
            "Mini Test for Epochs 90:\n",
            "train loss: 0.151338, train accuracy: 0.9444, train f1 score: 0.9565, train confusion_matrix: [[ 6  1], [ 0 11]], train precision: 0.9167, train recall: 1.0000\n",
            "test  loss: 0.853466, test  accuracy: 0.8000, test  f1 score: 0.8571, test  confusion_matrix: [[1 1], [0 3]], test  precision: 0.7500, test  recall: 1.0000\n",
            "Epoch: 0100, loss_train: 0.8541:  50% 100/200 [00:37<00:33,  2.94it/s]\n",
            "Mini Test for Epochs 100:\n",
            "train loss: 0.185072, train accuracy: 0.9444, train f1 score: 0.9565, train confusion_matrix: [[ 6  1], [ 0 11]], train precision: 0.9167, train recall: 1.0000\n",
            "test  loss: 0.780976, test  accuracy: 0.8000, test  f1 score: 0.8571, test  confusion_matrix: [[1 1], [0 3]], test  precision: 0.7500, test  recall: 1.0000\n",
            "Epoch: 0110, loss_train: 0.4811:  55% 110/200 [00:41<00:30,  2.95it/s]\n",
            "Mini Test for Epochs 110:\n",
            "train loss: 0.194341, train accuracy: 0.9444, train f1 score: 0.9565, train confusion_matrix: [[ 6  1], [ 0 11]], train precision: 0.9167, train recall: 1.0000\n",
            "test  loss: 0.804976, test  accuracy: 0.8000, test  f1 score: 0.8571, test  confusion_matrix: [[1 1], [0 3]], test  precision: 0.7500, test  recall: 1.0000\n",
            "Epoch: 0120, loss_train: 0.8172:  60% 120/200 [00:44<00:26,  2.98it/s]\n",
            "Mini Test for Epochs 120:\n",
            "train loss: 0.139290, train accuracy: 0.9444, train f1 score: 0.9565, train confusion_matrix: [[ 6  1], [ 0 11]], train precision: 0.9167, train recall: 1.0000\n",
            "test  loss: 0.931755, test  accuracy: 0.8000, test  f1 score: 0.8571, test  confusion_matrix: [[1 1], [0 3]], test  precision: 0.7500, test  recall: 1.0000\n",
            "Epoch: 0130, loss_train: 0.9863:  65% 130/200 [00:48<00:23,  2.95it/s]\n",
            "Mini Test for Epochs 130:\n",
            "train loss: 0.138888, train accuracy: 0.9444, train f1 score: 0.9565, train confusion_matrix: [[ 6  1], [ 0 11]], train precision: 0.9167, train recall: 1.0000\n",
            "test  loss: 1.179915, test  accuracy: 0.8000, test  f1 score: 0.8571, test  confusion_matrix: [[1 1], [0 3]], test  precision: 0.7500, test  recall: 1.0000\n",
            "Epoch: 0140, loss_train: 0.5758:  70% 140/200 [00:52<00:20,  2.95it/s]\n",
            "Mini Test for Epochs 140:\n",
            "train loss: 0.141279, train accuracy: 0.9444, train f1 score: 0.9565, train confusion_matrix: [[ 6  1], [ 0 11]], train precision: 0.9167, train recall: 1.0000\n",
            "test  loss: 1.137298, test  accuracy: 0.8000, test  f1 score: 0.8571, test  confusion_matrix: [[1 1], [0 3]], test  precision: 0.7500, test  recall: 1.0000\n",
            "Epoch: 0150, loss_train: 0.6513:  75% 150/200 [00:55<00:17,  2.92it/s]\n",
            "Mini Test for Epochs 150:\n",
            "train loss: 0.117662, train accuracy: 0.9444, train f1 score: 0.9565, train confusion_matrix: [[ 6  1], [ 0 11]], train precision: 0.9167, train recall: 1.0000\n",
            "test  loss: 1.022224, test  accuracy: 0.8000, test  f1 score: 0.8571, test  confusion_matrix: [[1 1], [0 3]], test  precision: 0.7500, test  recall: 1.0000\n",
            "Epoch: 0160, loss_train: 0.6827:  80% 160/200 [00:59<00:13,  2.92it/s]\n",
            "Mini Test for Epochs 160:\n",
            "train loss: 0.133550, train accuracy: 0.9444, train f1 score: 0.9565, train confusion_matrix: [[ 6  1], [ 0 11]], train precision: 0.9167, train recall: 1.0000\n",
            "test  loss: 1.217438, test  accuracy: 0.8000, test  f1 score: 0.8571, test  confusion_matrix: [[1 1], [0 3]], test  precision: 0.7500, test  recall: 1.0000\n",
            "Epoch: 0170, loss_train: 0.7947:  85% 170/200 [01:03<00:10,  2.88it/s]\n",
            "Mini Test for Epochs 170:\n",
            "train loss: 0.126207, train accuracy: 0.9444, train f1 score: 0.9565, train confusion_matrix: [[ 6  1], [ 0 11]], train precision: 0.9167, train recall: 1.0000\n",
            "test  loss: 1.432469, test  accuracy: 0.8000, test  f1 score: 0.8571, test  confusion_matrix: [[1 1], [0 3]], test  precision: 0.7500, test  recall: 1.0000\n",
            "Epoch: 0180, loss_train: 0.8126:  90% 180/200 [01:06<00:06,  3.01it/s]\n",
            "Mini Test for Epochs 180:\n",
            "train loss: 0.127783, train accuracy: 0.9444, train f1 score: 0.9565, train confusion_matrix: [[ 6  1], [ 0 11]], train precision: 0.9167, train recall: 1.0000\n",
            "test  loss: 0.877573, test  accuracy: 0.8000, test  f1 score: 0.8571, test  confusion_matrix: [[1 1], [0 3]], test  precision: 0.7500, test  recall: 1.0000\n",
            "Epoch: 0190, loss_train: 0.5068:  95% 190/200 [01:10<00:03,  2.95it/s]\n",
            "Mini Test for Epochs 190:\n",
            "train loss: 0.113271, train accuracy: 0.9444, train f1 score: 0.9565, train confusion_matrix: [[ 6  1], [ 0 11]], train precision: 0.9167, train recall: 1.0000\n",
            "test  loss: 1.855218, test  accuracy: 0.8000, test  f1 score: 0.8571, test  confusion_matrix: [[1 1], [0 3]], test  precision: 0.7500, test  recall: 1.0000\n",
            "Epoch: 0199, loss_train: 0.4138: 100% 200/200 [01:13<00:00,  2.72it/s]\n",
            "\n",
            "Mini Test for Epochs 200:\n",
            "train loss: 0.105924, train accuracy: 0.9444, train f1 score: 0.9565, train confusion_matrix: [[ 6  1], [ 0 11]], train precision: 0.9167, train recall: 1.0000\n",
            "test  loss: 2.356536, test  accuracy: 0.8000, test  f1 score: 0.8571, test  confusion_matrix: [[1 1], [0 3]], test  precision: 0.7500, test  recall: 1.0000\n",
            "best  loss: 0.481638, best  accuracy: 0.8000, best  f1 score: 0.8571, best  confusion_matrix: [[1 1], [0 3]], best  precision: 0.7500, best  recall: 1.0000\n"
          ]
        }
      ]
    },
    {
      "cell_type": "code",
      "source": [
        "!python use_case_2.py --yaml_path ./example_gnn4tj.yaml --raw_dataset_path ../assets/TJ-RTL-toy --data_pkl_path ast_tj_rtl.pkl --graph_type AST"
      ],
      "metadata": {
        "id": "usuI0HEAutpY",
        "colab": {
          "base_uri": "https://localhost:8080/"
        },
        "outputId": "61c627c7-82e1-4843-f482-ddce13228b5c"
      },
      "execution_count": null,
      "outputs": [
        {
          "output_type": "stream",
          "name": "stdout",
          "text": [
            "[Data(x=[9343], edge_index=[2, 9342], label=1, hw_name='PIC16F84-T200', hw_type='TjIn'), Data(x=[292], edge_index=[2, 291], label=1, hw_name='RS232-T900', hw_type='TjIn'), Data(x=[292], edge_index=[2, 291], label=1, hw_name='RS232-T200', hw_type='TjIn'), Data(x=[9345], edge_index=[2, 9344], label=1, hw_name='PIC16F84-T300', hw_type='TjIn'), Data(x=[292], edge_index=[2, 291], label=1, hw_name='RS232-T500', hw_type='TjIn'), Data(x=[203], edge_index=[2, 202], label=0, hw_name='RC6', hw_type='TjFree'), Data(x=[9345], edge_index=[2, 9344], label=1, hw_name='PIC16F84-T400', hw_type='TjIn'), Data(x=[265], edge_index=[2, 264], label=0, hw_name='syncRAM', hw_type='TjFree'), Data(x=[292], edge_index=[2, 291], label=1, hw_name='RS232-T300', hw_type='TjIn'), Data(x=[144], edge_index=[2, 143], label=0, hw_name='RC5', hw_type='TjFree'), Data(x=[476], edge_index=[2, 475], label=1, hw_name='RS232-T400', hw_type='TjIn'), Data(x=[733], edge_index=[2, 732], label=0, hw_name='spi_master', hw_type='TjFree'), Data(x=[320], edge_index=[2, 319], label=0, hw_name='vga', hw_type='TjFree'), Data(x=[292], edge_index=[2, 291], label=1, hw_name='RS232-T600', hw_type='TjIn'), Data(x=[9334], edge_index=[2, 9333], label=1, hw_name='PIC16F84-T100', hw_type='TjIn'), Data(x=[8996], edge_index=[2, 8995], label=0, hw_name='PIC16F84', hw_type='TjFree'), Data(x=[218], edge_index=[2, 217], label=0, hw_name='xtea', hw_type='TjFree'), Data(x=[292], edge_index=[2, 291], label=1, hw_name='RS232-T700', hw_type='TjIn'), Data(x=[292], edge_index=[2, 291], label=0, hw_name='RS232', hw_type='TjFree'), Data(x=[292], edge_index=[2, 291], label=1, hw_name='RS232-T901', hw_type='TjIn'), Data(x=[293], edge_index=[2, 292], label=0, hw_name='det_1011', hw_type='TjFree'), Data(x=[303], edge_index=[2, 302], label=1, hw_name='RS232-T100', hw_type='TjIn'), Data(x=[292], edge_index=[2, 291], label=1, hw_name='RS232-T800', hw_type='TjIn')]\n",
            "Epoch: 0000, loss_train: 3.4869:   0% 0/200 [00:00<?, ?it/s]\n",
            "Mini Test for Epochs 0:\n",
            "train loss: 0.692551, train accuracy: 0.6111, train f1 score: 0.7586, train confusion_matrix: [[ 0  7], [ 0 11]], train precision: 0.6111, train recall: 1.0000\n",
            "test  loss: 0.692348, test  accuracy: 0.6000, test  f1 score: 0.7500, test  confusion_matrix: [[0 2], [0 3]], test  precision: 0.6000, test  recall: 1.0000\n",
            "Epoch: 0010, loss_train: 3.5276:   5% 10/200 [00:07<02:12,  1.43it/s]\n",
            "Mini Test for Epochs 10:\n",
            "train loss: 0.681206, train accuracy: 0.6111, train f1 score: 0.7586, train confusion_matrix: [[ 0  7], [ 0 11]], train precision: 0.6111, train recall: 1.0000\n",
            "test  loss: 0.671563, test  accuracy: 0.6000, test  f1 score: 0.7500, test  confusion_matrix: [[0 2], [0 3]], test  precision: 0.6000, test  recall: 1.0000\n",
            "Epoch: 0020, loss_train: 3.3268:  10% 20/200 [00:15<02:05,  1.44it/s]\n",
            "Mini Test for Epochs 20:\n",
            "train loss: 0.662957, train accuracy: 0.7222, train f1 score: 0.8148, train confusion_matrix: [[ 2  5], [ 0 11]], train precision: 0.6875, train recall: 1.0000\n",
            "test  loss: 0.659423, test  accuracy: 0.8000, test  f1 score: 0.8571, test  confusion_matrix: [[1 1], [0 3]], test  precision: 0.7500, test  recall: 1.0000\n",
            "Epoch: 0030, loss_train: 3.1933:  15% 30/200 [00:23<01:58,  1.44it/s]\n",
            "Mini Test for Epochs 30:\n",
            "train loss: 0.680014, train accuracy: 0.7778, train f1 score: 0.8462, train confusion_matrix: [[ 3  4], [ 0 11]], train precision: 0.7333, train recall: 1.0000\n",
            "test  loss: 0.676403, test  accuracy: 0.8000, test  f1 score: 0.8571, test  confusion_matrix: [[1 1], [0 3]], test  precision: 0.7500, test  recall: 1.0000\n",
            "Epoch: 0040, loss_train: 3.4215:  20% 40/200 [00:30<01:53,  1.41it/s]\n",
            "Mini Test for Epochs 40:\n",
            "train loss: 0.623036, train accuracy: 0.7778, train f1 score: 0.8462, train confusion_matrix: [[ 3  4], [ 0 11]], train precision: 0.7333, train recall: 1.0000\n",
            "test  loss: 0.603839, test  accuracy: 0.8000, test  f1 score: 0.8571, test  confusion_matrix: [[1 1], [0 3]], test  precision: 0.7500, test  recall: 1.0000\n",
            "Epoch: 0050, loss_train: 2.2028:  25% 50/200 [00:37<01:46,  1.41it/s]\n",
            "Mini Test for Epochs 50:\n",
            "train loss: 0.500946, train accuracy: 0.9444, train f1 score: 0.9565, train confusion_matrix: [[ 6  1], [ 0 11]], train precision: 0.9167, train recall: 1.0000\n",
            "test  loss: 0.556038, test  accuracy: 0.8000, test  f1 score: 0.8571, test  confusion_matrix: [[1 1], [0 3]], test  precision: 0.7500, test  recall: 1.0000\n",
            "Epoch: 0060, loss_train: 2.0353:  30% 60/200 [00:45<01:37,  1.43it/s]\n",
            "Mini Test for Epochs 60:\n",
            "train loss: 0.476413, train accuracy: 0.9444, train f1 score: 0.9565, train confusion_matrix: [[ 6  1], [ 0 11]], train precision: 0.9167, train recall: 1.0000\n",
            "test  loss: 0.544277, test  accuracy: 0.8000, test  f1 score: 0.8571, test  confusion_matrix: [[1 1], [0 3]], test  precision: 0.7500, test  recall: 1.0000\n",
            "Epoch: 0070, loss_train: 2.0562:  35% 70/200 [00:52<01:28,  1.47it/s]\n",
            "Mini Test for Epochs 70:\n",
            "train loss: 0.431690, train accuracy: 0.9444, train f1 score: 0.9565, train confusion_matrix: [[ 6  1], [ 0 11]], train precision: 0.9167, train recall: 1.0000\n",
            "test  loss: 0.523823, test  accuracy: 0.8000, test  f1 score: 0.8571, test  confusion_matrix: [[1 1], [0 3]], test  precision: 0.7500, test  recall: 1.0000\n",
            "Epoch: 0080, loss_train: 2.2196:  40% 80/200 [00:59<01:21,  1.48it/s]\n",
            "Mini Test for Epochs 80:\n",
            "train loss: 0.466678, train accuracy: 0.9444, train f1 score: 0.9565, train confusion_matrix: [[ 6  1], [ 0 11]], train precision: 0.9167, train recall: 1.0000\n",
            "test  loss: 0.534002, test  accuracy: 0.8000, test  f1 score: 0.8571, test  confusion_matrix: [[1 1], [0 3]], test  precision: 0.7500, test  recall: 1.0000\n",
            "Epoch: 0090, loss_train: 2.1710:  45% 90/200 [01:07<01:15,  1.46it/s]\n",
            "Mini Test for Epochs 90:\n",
            "train loss: 0.449762, train accuracy: 0.9444, train f1 score: 0.9565, train confusion_matrix: [[ 6  1], [ 0 11]], train precision: 0.9167, train recall: 1.0000\n",
            "test  loss: 0.526072, test  accuracy: 0.8000, test  f1 score: 0.8571, test  confusion_matrix: [[1 1], [0 3]], test  precision: 0.7500, test  recall: 1.0000\n",
            "Epoch: 0100, loss_train: 2.1194:  50% 100/200 [01:14<01:08,  1.45it/s]\n",
            "Mini Test for Epochs 100:\n",
            "train loss: 0.438813, train accuracy: 0.9444, train f1 score: 0.9565, train confusion_matrix: [[ 6  1], [ 0 11]], train precision: 0.9167, train recall: 1.0000\n",
            "test  loss: 0.526757, test  accuracy: 0.8000, test  f1 score: 0.8571, test  confusion_matrix: [[1 1], [0 3]], test  precision: 0.7500, test  recall: 1.0000\n",
            "Epoch: 0110, loss_train: 1.8666:  55% 110/200 [01:21<01:00,  1.48it/s]\n",
            "Mini Test for Epochs 110:\n",
            "train loss: 0.488030, train accuracy: 0.9444, train f1 score: 0.9565, train confusion_matrix: [[ 6  1], [ 0 11]], train precision: 0.9167, train recall: 1.0000\n",
            "test  loss: 0.555710, test  accuracy: 0.8000, test  f1 score: 0.8571, test  confusion_matrix: [[1 1], [0 3]], test  precision: 0.7500, test  recall: 1.0000\n",
            "Epoch: 0120, loss_train: 1.7707:  60% 120/200 [01:28<00:53,  1.50it/s]\n",
            "Mini Test for Epochs 120:\n",
            "train loss: 0.429358, train accuracy: 0.9444, train f1 score: 0.9565, train confusion_matrix: [[ 6  1], [ 0 11]], train precision: 0.9167, train recall: 1.0000\n",
            "test  loss: 0.528272, test  accuracy: 0.8000, test  f1 score: 0.8571, test  confusion_matrix: [[1 1], [0 3]], test  precision: 0.7500, test  recall: 1.0000\n",
            "Epoch: 0130, loss_train: 1.9277:  65% 130/200 [01:35<00:46,  1.49it/s]\n",
            "Mini Test for Epochs 130:\n",
            "train loss: 0.422900, train accuracy: 0.9444, train f1 score: 0.9565, train confusion_matrix: [[ 6  1], [ 0 11]], train precision: 0.9167, train recall: 1.0000\n",
            "test  loss: 0.525228, test  accuracy: 0.8000, test  f1 score: 0.8571, test  confusion_matrix: [[1 1], [0 3]], test  precision: 0.7500, test  recall: 1.0000\n",
            "Epoch: 0140, loss_train: 2.2836:  70% 140/200 [01:42<00:39,  1.51it/s]\n",
            "Mini Test for Epochs 140:\n",
            "train loss: 0.423874, train accuracy: 0.9444, train f1 score: 0.9565, train confusion_matrix: [[ 6  1], [ 0 11]], train precision: 0.9167, train recall: 1.0000\n",
            "test  loss: 0.525281, test  accuracy: 0.8000, test  f1 score: 0.8571, test  confusion_matrix: [[1 1], [0 3]], test  precision: 0.7500, test  recall: 1.0000\n",
            "Epoch: 0150, loss_train: 1.8578:  75% 150/200 [01:49<00:33,  1.50it/s]\n",
            "Mini Test for Epochs 150:\n",
            "train loss: 0.419718, train accuracy: 0.9444, train f1 score: 0.9565, train confusion_matrix: [[ 6  1], [ 0 11]], train precision: 0.9167, train recall: 1.0000\n",
            "test  loss: 0.525887, test  accuracy: 0.8000, test  f1 score: 0.8571, test  confusion_matrix: [[1 1], [0 3]], test  precision: 0.7500, test  recall: 1.0000\n",
            "Epoch: 0160, loss_train: 1.7322:  80% 160/200 [01:57<00:26,  1.48it/s]\n",
            "Mini Test for Epochs 160:\n",
            "train loss: 0.460826, train accuracy: 0.9444, train f1 score: 0.9565, train confusion_matrix: [[ 6  1], [ 0 11]], train precision: 0.9167, train recall: 1.0000\n",
            "test  loss: 0.544837, test  accuracy: 0.8000, test  f1 score: 0.8571, test  confusion_matrix: [[1 1], [0 3]], test  precision: 0.7500, test  recall: 1.0000\n",
            "Epoch: 0170, loss_train: 1.7955:  85% 170/200 [02:04<00:20,  1.46it/s]\n",
            "Mini Test for Epochs 170:\n",
            "train loss: 0.417105, train accuracy: 0.9444, train f1 score: 0.9565, train confusion_matrix: [[ 6  1], [ 0 11]], train precision: 0.9167, train recall: 1.0000\n",
            "test  loss: 0.529758, test  accuracy: 0.8000, test  f1 score: 0.8571, test  confusion_matrix: [[1 1], [0 3]], test  precision: 0.7500, test  recall: 1.0000\n",
            "Epoch: 0180, loss_train: 1.5358:  90% 180/200 [02:11<00:13,  1.51it/s]\n",
            "Mini Test for Epochs 180:\n",
            "train loss: 0.409026, train accuracy: 0.9444, train f1 score: 0.9565, train confusion_matrix: [[ 6  1], [ 0 11]], train precision: 0.9167, train recall: 1.0000\n",
            "test  loss: 0.525578, test  accuracy: 0.8000, test  f1 score: 0.8571, test  confusion_matrix: [[1 1], [0 3]], test  precision: 0.7500, test  recall: 1.0000\n",
            "Epoch: 0190, loss_train: 1.2841:  95% 190/200 [02:18<00:06,  1.54it/s]\n",
            "Mini Test for Epochs 190:\n",
            "train loss: 0.401924, train accuracy: 0.9444, train f1 score: 0.9565, train confusion_matrix: [[ 6  1], [ 0 11]], train precision: 0.9167, train recall: 1.0000\n",
            "test  loss: 0.521294, test  accuracy: 0.8000, test  f1 score: 0.8571, test  confusion_matrix: [[1 1], [0 3]], test  precision: 0.7500, test  recall: 1.0000\n",
            "Epoch: 0199, loss_train: 1.5364: 100% 200/200 [02:24<00:00,  1.38it/s]\n",
            "\n",
            "Mini Test for Epochs 200:\n",
            "train loss: 0.379274, train accuracy: 0.9444, train f1 score: 0.9565, train confusion_matrix: [[ 6  1], [ 0 11]], train precision: 0.9167, train recall: 1.0000\n",
            "test  loss: 0.506918, test  accuracy: 0.8000, test  f1 score: 0.8571, test  confusion_matrix: [[1 1], [0 3]], test  precision: 0.7500, test  recall: 1.0000\n",
            "best  loss: 0.506918, best  accuracy: 0.8000, best  f1 score: 0.8571, best  confusion_matrix: [[1 1], [0 3]], best  precision: 0.7500, best  recall: 1.0000\n"
          ]
        }
      ]
    }
  ]
}