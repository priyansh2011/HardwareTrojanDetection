{
  "nbformat": 4,
  "nbformat_minor": 0,
  "metadata": {
    "colab": {
      "name": "Hardware Trojan MLP-3.ipynb",
      "provenance": [],
      "collapsed_sections": []
    },
    "kernelspec": {
      "name": "python3",
      "display_name": "Python 3"
    },
    "language_info": {
      "name": "python"
    },
    "gpuClass": "standard"
  },
  "cells": [
    {
      "cell_type": "code",
      "execution_count": null,
      "metadata": {
        "id": "lAeGK4BmpGZo"
      },
      "outputs": [],
      "source": [
        "import pandas as pd\n",
        "import numpy as np\n",
        "import os\n",
        "import sys"
      ]
    },
    {
      "cell_type": "code",
      "source": [
        "from google.colab import drive\n",
        "drive.mount('/content/drive',force_remount=True)"
      ],
      "metadata": {
        "colab": {
          "base_uri": "https://localhost:8080/"
        },
        "id": "HhMGzj6uzXWK",
        "outputId": "24baa4b9-5c0c-4837-8b70-ef8a210e57ad"
      },
      "execution_count": null,
      "outputs": [
        {
          "output_type": "stream",
          "name": "stdout",
          "text": [
            "Mounted at /content/drive\n"
          ]
        }
      ]
    },
    {
      "cell_type": "code",
      "source": [
        "!sudo apt install iverilog"
      ],
      "metadata": {
        "colab": {
          "base_uri": "https://localhost:8080/"
        },
        "id": "hMeKjLaPpW9G",
        "outputId": "050f2b03-46a4-4d63-d735-3c371f5c7b58"
      },
      "execution_count": null,
      "outputs": [
        {
          "output_type": "stream",
          "name": "stdout",
          "text": [
            "Reading package lists... Done\n",
            "Building dependency tree       \n",
            "Reading state information... Done\n",
            "The following package was automatically installed and is no longer required:\n",
            "  libnvidia-common-460\n",
            "Use 'sudo apt autoremove' to remove it.\n",
            "Suggested packages:\n",
            "  gtkwave\n",
            "The following NEW packages will be installed:\n",
            "  iverilog\n",
            "0 upgraded, 1 newly installed, 0 to remove and 49 not upgraded.\n",
            "Need to get 1,811 kB of archives.\n",
            "After this operation, 6,206 kB of additional disk space will be used.\n",
            "Get:1 http://archive.ubuntu.com/ubuntu bionic/universe amd64 iverilog amd64 10.1-0.1build1 [1,811 kB]\n",
            "Fetched 1,811 kB in 1s (1,595 kB/s)\n",
            "debconf: unable to initialize frontend: Dialog\n",
            "debconf: (No usable dialog-like program is installed, so the dialog based frontend cannot be used. at /usr/share/perl5/Debconf/FrontEnd/Dialog.pm line 76, <> line 1.)\n",
            "debconf: falling back to frontend: Readline\n",
            "debconf: unable to initialize frontend: Readline\n",
            "debconf: (This frontend requires a controlling tty.)\n",
            "debconf: falling back to frontend: Teletype\n",
            "dpkg-preconfigure: unable to re-open stdin: \n",
            "Selecting previously unselected package iverilog.\n",
            "(Reading database ... 155653 files and directories currently installed.)\n",
            "Preparing to unpack .../iverilog_10.1-0.1build1_amd64.deb ...\n",
            "Unpacking iverilog (10.1-0.1build1) ...\n",
            "Setting up iverilog (10.1-0.1build1) ...\n",
            "Processing triggers for man-db (2.8.3-2ubuntu0.1) ...\n"
          ]
        }
      ]
    },
    {
      "cell_type": "code",
      "source": [
        "!pip install pyverilog"
      ],
      "metadata": {
        "colab": {
          "base_uri": "https://localhost:8080/"
        },
        "id": "g83m9GdLptuu",
        "outputId": "15d4209a-d109-456f-c639-f6b09e9ab4b4"
      },
      "execution_count": null,
      "outputs": [
        {
          "output_type": "stream",
          "name": "stdout",
          "text": [
            "Looking in indexes: https://pypi.org/simple, https://us-python.pkg.dev/colab-wheels/public/simple/\n",
            "Collecting pyverilog\n",
            "  Downloading pyverilog-1.3.0.tar.gz (136 kB)\n",
            "\u001b[K     |████████████████████████████████| 136 kB 5.3 MB/s \n",
            "\u001b[?25hRequirement already satisfied: Jinja2>=2.10 in /usr/local/lib/python3.7/dist-packages (from pyverilog) (2.11.3)\n",
            "Collecting ply>=3.4\n",
            "  Downloading ply-3.11-py2.py3-none-any.whl (49 kB)\n",
            "\u001b[K     |████████████████████████████████| 49 kB 5.5 MB/s \n",
            "\u001b[?25hRequirement already satisfied: MarkupSafe>=0.23 in /usr/local/lib/python3.7/dist-packages (from Jinja2>=2.10->pyverilog) (2.0.1)\n",
            "Building wheels for collected packages: pyverilog\n",
            "  Building wheel for pyverilog (setup.py) ... \u001b[?25l\u001b[?25hdone\n",
            "  Created wheel for pyverilog: filename=pyverilog-1.3.0-py3-none-any.whl size=118948 sha256=6657f3d1eb2a8ce904ede9746f5f3c3ddaab45ef016b927c848ddcd79b55a405\n",
            "  Stored in directory: /root/.cache/pip/wheels/4e/4b/c4/20afdbfa7d0b4d0b51ab0525e632efd8896c67abfb601824b9\n",
            "Successfully built pyverilog\n",
            "Installing collected packages: ply, pyverilog\n",
            "Successfully installed ply-3.11 pyverilog-1.3.0\n"
          ]
        }
      ]
    },
    {
      "cell_type": "code",
      "source": [
        "!pip install jinja2 ply"
      ],
      "metadata": {
        "colab": {
          "base_uri": "https://localhost:8080/"
        },
        "id": "ouhxJfBjpwQT",
        "outputId": "9a88ea3e-f3a4-40c4-d4b0-4ee0c6d7b059"
      },
      "execution_count": null,
      "outputs": [
        {
          "output_type": "stream",
          "name": "stdout",
          "text": [
            "Looking in indexes: https://pypi.org/simple, https://us-python.pkg.dev/colab-wheels/public/simple/\n",
            "Requirement already satisfied: jinja2 in /usr/local/lib/python3.7/dist-packages (2.11.3)\n",
            "Requirement already satisfied: ply in /usr/local/lib/python3.7/dist-packages (3.11)\n",
            "Requirement already satisfied: MarkupSafe>=0.23 in /usr/local/lib/python3.7/dist-packages (from jinja2) (2.0.1)\n"
          ]
        }
      ]
    },
    {
      "cell_type": "code",
      "source": [
        "%cd /content/drive/MyDrive/Hardware_Trojan/hw2vec"
      ],
      "metadata": {
        "colab": {
          "base_uri": "https://localhost:8080/"
        },
        "id": "0qG7wjzIpz8E",
        "outputId": "1499b840-9476-4de2-eda5-f811b170dac4"
      },
      "execution_count": null,
      "outputs": [
        {
          "output_type": "stream",
          "name": "stdout",
          "text": [
            "/content/drive/MyDrive/Hardware_Trojan/hw2vec\n"
          ]
        }
      ]
    },
    {
      "cell_type": "code",
      "source": [
        "!pip install -r requirements.txt"
      ],
      "metadata": {
        "colab": {
          "base_uri": "https://localhost:8080/",
          "height": 1000
        },
        "id": "Mpag0xwYp24N",
        "outputId": "2a423485-b4dd-4c9f-e9d2-c1173a9680c6"
      },
      "execution_count": null,
      "outputs": [
        {
          "output_type": "stream",
          "name": "stdout",
          "text": [
            "Looking in indexes: https://pypi.org/simple, https://us-python.pkg.dev/colab-wheels/public/simple/\n",
            "Collecting matplotlib==3.1.1\n",
            "  Downloading matplotlib-3.1.1-cp37-cp37m-manylinux1_x86_64.whl (13.1 MB)\n",
            "\u001b[K     |████████████████████████████████| 13.1 MB 5.0 MB/s \n",
            "\u001b[?25hCollecting networkx==2.4\n",
            "  Downloading networkx-2.4-py3-none-any.whl (1.6 MB)\n",
            "\u001b[K     |████████████████████████████████| 1.6 MB 37.3 MB/s \n",
            "\u001b[?25hCollecting numpy==1.16.5\n",
            "  Downloading numpy-1.16.5-cp37-cp37m-manylinux1_x86_64.whl (17.3 MB)\n",
            "\u001b[K     |████████████████████████████████| 17.3 MB 269 kB/s \n",
            "\u001b[?25hCollecting pandas==0.23.4\n",
            "  Downloading pandas-0.23.4-cp37-cp37m-manylinux1_x86_64.whl (8.8 MB)\n",
            "\u001b[K     |████████████████████████████████| 8.8 MB 8.3 MB/s \n",
            "\u001b[?25hCollecting scikit-image==0.15.0\n",
            "  Downloading scikit_image-0.15.0-cp37-cp37m-manylinux1_x86_64.whl (26.3 MB)\n",
            "\u001b[K     |████████████████████████████████| 26.3 MB 28 kB/s \n",
            "\u001b[?25hCollecting scikit-learn==0.23.1\n",
            "  Downloading scikit_learn-0.23.1-cp37-cp37m-manylinux1_x86_64.whl (6.8 MB)\n",
            "\u001b[K     |████████████████████████████████| 6.8 MB 32.7 MB/s \n",
            "\u001b[?25hCollecting scipy==1.4.1\n",
            "  Downloading scipy-1.4.1-cp37-cp37m-manylinux1_x86_64.whl (26.1 MB)\n",
            "\u001b[K     |████████████████████████████████| 26.1 MB 48.6 MB/s \n",
            "\u001b[?25hCollecting tqdm==4.36.1\n",
            "  Downloading tqdm-4.36.1-py2.py3-none-any.whl (52 kB)\n",
            "\u001b[K     |████████████████████████████████| 52 kB 1.4 MB/s \n",
            "\u001b[?25hCollecting pytorch-nlp==0.5.0\n",
            "  Downloading pytorch_nlp-0.5.0-py3-none-any.whl (90 kB)\n",
            "\u001b[K     |████████████████████████████████| 90 kB 7.7 MB/s \n",
            "\u001b[?25hCollecting pyyaml==5.4.1\n",
            "  Downloading PyYAML-5.4.1-cp37-cp37m-manylinux1_x86_64.whl (636 kB)\n",
            "\u001b[K     |████████████████████████████████| 636 kB 51.4 MB/s \n",
            "\u001b[?25hRequirement already satisfied: pyverilog in /usr/local/lib/python3.7/dist-packages (from -r requirements.txt (line 11)) (1.3.0)\n",
            "Collecting pyunpack\n",
            "  Downloading pyunpack-0.3-py2.py3-none-any.whl (4.1 kB)\n",
            "Collecting patool\n",
            "  Downloading patool-1.12-py2.py3-none-any.whl (77 kB)\n",
            "\u001b[K     |████████████████████████████████| 77 kB 6.4 MB/s \n",
            "\u001b[?25hRequirement already satisfied: pathlib in /usr/local/lib/python3.7/dist-packages (from -r requirements.txt (line 14)) (1.0.1)\n",
            "Requirement already satisfied: pydot in /usr/local/lib/python3.7/dist-packages (from -r requirements.txt (line 15)) (1.3.0)\n",
            "Requirement already satisfied: python-dateutil>=2.1 in /usr/local/lib/python3.7/dist-packages (from matplotlib==3.1.1->-r requirements.txt (line 1)) (2.8.2)\n",
            "Requirement already satisfied: cycler>=0.10 in /usr/local/lib/python3.7/dist-packages (from matplotlib==3.1.1->-r requirements.txt (line 1)) (0.11.0)\n",
            "Requirement already satisfied: kiwisolver>=1.0.1 in /usr/local/lib/python3.7/dist-packages (from matplotlib==3.1.1->-r requirements.txt (line 1)) (1.4.3)\n",
            "Requirement already satisfied: pyparsing!=2.0.4,!=2.1.2,!=2.1.6,>=2.0.1 in /usr/local/lib/python3.7/dist-packages (from matplotlib==3.1.1->-r requirements.txt (line 1)) (3.0.9)\n",
            "Requirement already satisfied: decorator>=4.3.0 in /usr/local/lib/python3.7/dist-packages (from networkx==2.4->-r requirements.txt (line 2)) (4.4.2)\n",
            "Requirement already satisfied: pytz>=2011k in /usr/local/lib/python3.7/dist-packages (from pandas==0.23.4->-r requirements.txt (line 4)) (2022.1)\n",
            "Requirement already satisfied: PyWavelets>=0.4.0 in /usr/local/lib/python3.7/dist-packages (from scikit-image==0.15.0->-r requirements.txt (line 5)) (1.3.0)\n",
            "Requirement already satisfied: pillow>=4.3.0 in /usr/local/lib/python3.7/dist-packages (from scikit-image==0.15.0->-r requirements.txt (line 5)) (7.1.2)\n",
            "Requirement already satisfied: imageio>=2.0.1 in /usr/local/lib/python3.7/dist-packages (from scikit-image==0.15.0->-r requirements.txt (line 5)) (2.4.1)\n",
            "Requirement already satisfied: threadpoolctl>=2.0.0 in /usr/local/lib/python3.7/dist-packages (from scikit-learn==0.23.1->-r requirements.txt (line 6)) (3.1.0)\n",
            "Requirement already satisfied: joblib>=0.11 in /usr/local/lib/python3.7/dist-packages (from scikit-learn==0.23.1->-r requirements.txt (line 6)) (1.1.0)\n",
            "Requirement already satisfied: typing-extensions in /usr/local/lib/python3.7/dist-packages (from kiwisolver>=1.0.1->matplotlib==3.1.1->-r requirements.txt (line 1)) (4.1.1)\n",
            "Requirement already satisfied: six>=1.5 in /usr/local/lib/python3.7/dist-packages (from python-dateutil>=2.1->matplotlib==3.1.1->-r requirements.txt (line 1)) (1.15.0)\n",
            "Collecting PyWavelets>=0.4.0\n",
            "  Downloading PyWavelets-1.2.0-cp37-cp37m-manylinux_2_5_x86_64.manylinux1_x86_64.whl (6.1 MB)\n",
            "\u001b[K     |████████████████████████████████| 6.1 MB 18.2 MB/s \n",
            "\u001b[?25h  Downloading PyWavelets-1.1.1-cp37-cp37m-manylinux1_x86_64.whl (4.4 MB)\n",
            "\u001b[K     |████████████████████████████████| 4.4 MB 33.3 MB/s \n",
            "\u001b[?25hRequirement already satisfied: ply>=3.4 in /usr/local/lib/python3.7/dist-packages (from pyverilog->-r requirements.txt (line 11)) (3.11)\n",
            "Requirement already satisfied: Jinja2>=2.10 in /usr/local/lib/python3.7/dist-packages (from pyverilog->-r requirements.txt (line 11)) (2.11.3)\n",
            "Requirement already satisfied: MarkupSafe>=0.23 in /usr/local/lib/python3.7/dist-packages (from Jinja2>=2.10->pyverilog->-r requirements.txt (line 11)) (2.0.1)\n",
            "Collecting entrypoint2\n",
            "  Downloading entrypoint2-1.1-py2.py3-none-any.whl (9.9 kB)\n",
            "Collecting easyprocess\n",
            "  Downloading EasyProcess-1.1-py3-none-any.whl (8.7 kB)\n",
            "Installing collected packages: numpy, tqdm, scipy, PyWavelets, networkx, matplotlib, entrypoint2, easyprocess, scikit-learn, scikit-image, pyyaml, pyunpack, pytorch-nlp, patool, pandas\n",
            "  Attempting uninstall: numpy\n",
            "    Found existing installation: numpy 1.21.6\n",
            "    Uninstalling numpy-1.21.6:\n",
            "      Successfully uninstalled numpy-1.21.6\n",
            "  Attempting uninstall: tqdm\n",
            "    Found existing installation: tqdm 4.64.0\n",
            "    Uninstalling tqdm-4.64.0:\n",
            "      Successfully uninstalled tqdm-4.64.0\n",
            "  Attempting uninstall: scipy\n",
            "    Found existing installation: scipy 1.7.3\n",
            "    Uninstalling scipy-1.7.3:\n",
            "      Successfully uninstalled scipy-1.7.3\n",
            "  Attempting uninstall: PyWavelets\n",
            "    Found existing installation: PyWavelets 1.3.0\n",
            "    Uninstalling PyWavelets-1.3.0:\n",
            "      Successfully uninstalled PyWavelets-1.3.0\n",
            "  Attempting uninstall: networkx\n",
            "    Found existing installation: networkx 2.6.3\n",
            "    Uninstalling networkx-2.6.3:\n",
            "      Successfully uninstalled networkx-2.6.3\n",
            "  Attempting uninstall: matplotlib\n",
            "    Found existing installation: matplotlib 3.2.2\n",
            "    Uninstalling matplotlib-3.2.2:\n",
            "      Successfully uninstalled matplotlib-3.2.2\n",
            "  Attempting uninstall: scikit-learn\n",
            "    Found existing installation: scikit-learn 1.0.2\n",
            "    Uninstalling scikit-learn-1.0.2:\n",
            "      Successfully uninstalled scikit-learn-1.0.2\n",
            "  Attempting uninstall: scikit-image\n",
            "    Found existing installation: scikit-image 0.18.3\n",
            "    Uninstalling scikit-image-0.18.3:\n",
            "      Successfully uninstalled scikit-image-0.18.3\n",
            "  Attempting uninstall: pyyaml\n",
            "    Found existing installation: PyYAML 3.13\n",
            "    Uninstalling PyYAML-3.13:\n",
            "      Successfully uninstalled PyYAML-3.13\n",
            "  Attempting uninstall: pandas\n",
            "    Found existing installation: pandas 1.3.5\n",
            "    Uninstalling pandas-1.3.5:\n",
            "      Successfully uninstalled pandas-1.3.5\n",
            "\u001b[31mERROR: pip's dependency resolver does not currently take into account all the packages that are installed. This behaviour is the source of the following dependency conflicts.\n",
            "yellowbrick 1.4 requires scikit-learn>=1.0.0, but you have scikit-learn 0.23.1 which is incompatible.\n",
            "xarray 0.20.2 requires numpy>=1.18, but you have numpy 1.16.5 which is incompatible.\n",
            "xarray 0.20.2 requires pandas>=1.1, but you have pandas 0.23.4 which is incompatible.\n",
            "xarray-einstats 0.2.2 requires numpy>=1.21, but you have numpy 1.16.5 which is incompatible.\n",
            "tensorflow 2.8.2+zzzcolab20220527125636 requires numpy>=1.20, but you have numpy 1.16.5 which is incompatible.\n",
            "tables 3.7.0 requires numpy>=1.19.0, but you have numpy 1.16.5 which is incompatible.\n",
            "spacy 3.3.1 requires tqdm<5.0.0,>=4.38.0, but you have tqdm 4.36.1 which is incompatible.\n",
            "resampy 0.3.1 requires numpy>=1.17, but you have numpy 1.16.5 which is incompatible.\n",
            "pymc3 3.11.5 requires pandas>=0.24.0, but you have pandas 0.23.4 which is incompatible.\n",
            "pymc3 3.11.5 requires scipy<1.8.0,>=1.7.3, but you have scipy 1.4.1 which is incompatible.\n",
            "pyerfa 2.0.0.1 requires numpy>=1.17, but you have numpy 1.16.5 which is incompatible.\n",
            "pyarrow 6.0.1 requires numpy>=1.16.6, but you have numpy 1.16.5 which is incompatible.\n",
            "plotnine 0.6.0 requires pandas>=0.25.0, but you have pandas 0.23.4 which is incompatible.\n",
            "panel 0.12.1 requires tqdm>=4.48.0, but you have tqdm 4.36.1 which is incompatible.\n",
            "mizani 0.6.0 requires pandas>=0.25.0, but you have pandas 0.23.4 which is incompatible.\n",
            "kapre 0.3.7 requires numpy>=1.18.5, but you have numpy 1.16.5 which is incompatible.\n",
            "jaxlib 0.3.14+cuda11.cudnn805 requires numpy>=1.19, but you have numpy 1.16.5 which is incompatible.\n",
            "jaxlib 0.3.14+cuda11.cudnn805 requires scipy>=1.5, but you have scipy 1.4.1 which is incompatible.\n",
            "jax 0.3.14 requires numpy>=1.19, but you have numpy 1.16.5 which is incompatible.\n",
            "jax 0.3.14 requires scipy>=1.5, but you have scipy 1.4.1 which is incompatible.\n",
            "imbalanced-learn 0.8.1 requires scikit-learn>=0.24, but you have scikit-learn 0.23.1 which is incompatible.\n",
            "google-colab 1.0.0 requires pandas>=1.1.0; python_version >= \"3.0\", but you have pandas 0.23.4 which is incompatible.\n",
            "fbprophet 0.7.1 requires pandas>=1.0.4, but you have pandas 0.23.4 which is incompatible.\n",
            "datascience 0.10.6 requires folium==0.2.1, but you have folium 0.8.3 which is incompatible.\n",
            "astropy 4.3.1 requires numpy>=1.17, but you have numpy 1.16.5 which is incompatible.\n",
            "albumentations 0.1.12 requires imgaug<0.2.7,>=0.2.5, but you have imgaug 0.2.9 which is incompatible.\u001b[0m\n",
            "Successfully installed PyWavelets-1.1.1 easyprocess-1.1 entrypoint2-1.1 matplotlib-3.1.1 networkx-2.4 numpy-1.16.5 pandas-0.23.4 patool-1.12 pytorch-nlp-0.5.0 pyunpack-0.3 pyyaml-5.4.1 scikit-image-0.15.0 scikit-learn-0.23.1 scipy-1.4.1 tqdm-4.36.1\n"
          ]
        },
        {
          "output_type": "display_data",
          "data": {
            "application/vnd.colab-display-data+json": {
              "pip_warning": {
                "packages": [
                  "matplotlib",
                  "mpl_toolkits",
                  "numpy",
                  "pandas"
                ]
              }
            }
          },
          "metadata": {}
        }
      ]
    },
    {
      "cell_type": "code",
      "source": [
        "!pip install -r requirements_dev.txt"
      ],
      "metadata": {
        "colab": {
          "base_uri": "https://localhost:8080/"
        },
        "id": "tSg35N-xp7J0",
        "outputId": "95d251b1-0d05-4cca-a391-f3e93ce76cf5"
      },
      "execution_count": null,
      "outputs": [
        {
          "output_type": "stream",
          "name": "stdout",
          "text": [
            "Looking in indexes: https://pypi.org/simple, https://us-python.pkg.dev/colab-wheels/public/simple/\n",
            "Collecting coverage>=5.0.4\n",
            "  Downloading coverage-6.4.2-cp37-cp37m-manylinux_2_5_x86_64.manylinux1_x86_64.manylinux_2_17_x86_64.manylinux2014_x86_64.whl (209 kB)\n",
            "\u001b[K     |████████████████████████████████| 209 kB 5.5 MB/s \n",
            "\u001b[?25hCollecting coveralls>=1.11.1\n",
            "  Downloading coveralls-3.3.1-py2.py3-none-any.whl (14 kB)\n",
            "Collecting pytest-cov>=2.8.1\n",
            "  Downloading pytest_cov-3.0.0-py3-none-any.whl (20 kB)\n",
            "Collecting pylint>=2.5.3\n",
            "  Downloading pylint-2.14.4-py3-none-any.whl (488 kB)\n",
            "\u001b[K     |████████████████████████████████| 488 kB 52.3 MB/s \n",
            "\u001b[?25hRequirement already satisfied: pytest>=3.6 in /usr/local/lib/python3.7/dist-packages (from -r requirements_dev.txt (line 5)) (3.6.4)\n",
            "Requirement already satisfied: docopt>=0.6.1 in /usr/local/lib/python3.7/dist-packages (from coveralls>=1.11.1->-r requirements_dev.txt (line 2)) (0.6.2)\n",
            "Requirement already satisfied: requests>=1.0.0 in /usr/local/lib/python3.7/dist-packages (from coveralls>=1.11.1->-r requirements_dev.txt (line 2)) (2.23.0)\n",
            "Collecting pytest>=3.6\n",
            "  Downloading pytest-7.1.2-py3-none-any.whl (297 kB)\n",
            "\u001b[K     |████████████████████████████████| 297 kB 52.7 MB/s \n",
            "\u001b[?25hCollecting astroid<=2.12.0-dev0,>=2.11.6\n",
            "  Downloading astroid-2.11.7-py3-none-any.whl (251 kB)\n",
            "\u001b[K     |████████████████████████████████| 251 kB 48.2 MB/s \n",
            "\u001b[?25hCollecting tomlkit>=0.10.1\n",
            "  Downloading tomlkit-0.11.1-py3-none-any.whl (34 kB)\n",
            "Collecting mccabe<0.8,>=0.6\n",
            "  Downloading mccabe-0.7.0-py2.py3-none-any.whl (7.3 kB)\n",
            "Requirement already satisfied: tomli>=1.1.0 in /usr/local/lib/python3.7/dist-packages (from pylint>=2.5.3->-r requirements_dev.txt (line 4)) (2.0.1)\n",
            "Collecting isort<6,>=4.2.5\n",
            "  Downloading isort-5.10.1-py3-none-any.whl (103 kB)\n",
            "\u001b[K     |████████████████████████████████| 103 kB 45.2 MB/s \n",
            "\u001b[?25hCollecting platformdirs>=2.2.0\n",
            "  Downloading platformdirs-2.5.2-py3-none-any.whl (14 kB)\n",
            "Requirement already satisfied: typing-extensions>=3.10.0 in /usr/local/lib/python3.7/dist-packages (from pylint>=2.5.3->-r requirements_dev.txt (line 4)) (4.1.1)\n",
            "Requirement already satisfied: dill>=0.2 in /usr/local/lib/python3.7/dist-packages (from pylint>=2.5.3->-r requirements_dev.txt (line 4)) (0.3.5.1)\n",
            "Requirement already satisfied: attrs>=19.2.0 in /usr/local/lib/python3.7/dist-packages (from pytest>=3.6->-r requirements_dev.txt (line 5)) (21.4.0)\n",
            "Requirement already satisfied: iniconfig in /usr/local/lib/python3.7/dist-packages (from pytest>=3.6->-r requirements_dev.txt (line 5)) (1.1.1)\n",
            "Requirement already satisfied: packaging in /usr/local/lib/python3.7/dist-packages (from pytest>=3.6->-r requirements_dev.txt (line 5)) (21.3)\n",
            "Requirement already satisfied: py>=1.8.2 in /usr/local/lib/python3.7/dist-packages (from pytest>=3.6->-r requirements_dev.txt (line 5)) (1.11.0)\n",
            "Collecting pluggy<2.0,>=0.12\n",
            "  Downloading pluggy-1.0.0-py2.py3-none-any.whl (13 kB)\n",
            "Requirement already satisfied: importlib-metadata>=0.12 in /usr/local/lib/python3.7/dist-packages (from pytest>=3.6->-r requirements_dev.txt (line 5)) (4.12.0)\n",
            "Collecting typed-ast<2.0,>=1.4.0\n",
            "  Downloading typed_ast-1.5.4-cp37-cp37m-manylinux_2_5_x86_64.manylinux1_x86_64.manylinux_2_12_x86_64.manylinux2010_x86_64.whl (843 kB)\n",
            "\u001b[K     |████████████████████████████████| 843 kB 39.2 MB/s \n",
            "\u001b[?25hRequirement already satisfied: setuptools>=20.0 in /usr/local/lib/python3.7/dist-packages (from astroid<=2.12.0-dev0,>=2.11.6->pylint>=2.5.3->-r requirements_dev.txt (line 4)) (57.4.0)\n",
            "Requirement already satisfied: wrapt<2,>=1.11 in /usr/local/lib/python3.7/dist-packages (from astroid<=2.12.0-dev0,>=2.11.6->pylint>=2.5.3->-r requirements_dev.txt (line 4)) (1.14.1)\n",
            "Collecting lazy-object-proxy>=1.4.0\n",
            "  Downloading lazy_object_proxy-1.7.1-cp37-cp37m-manylinux_2_5_x86_64.manylinux1_x86_64.manylinux_2_17_x86_64.manylinux2014_x86_64.whl (57 kB)\n",
            "\u001b[K     |████████████████████████████████| 57 kB 3.6 MB/s \n",
            "\u001b[?25hRequirement already satisfied: zipp>=0.5 in /usr/local/lib/python3.7/dist-packages (from importlib-metadata>=0.12->pytest>=3.6->-r requirements_dev.txt (line 5)) (3.8.0)\n",
            "Requirement already satisfied: idna<3,>=2.5 in /usr/local/lib/python3.7/dist-packages (from requests>=1.0.0->coveralls>=1.11.1->-r requirements_dev.txt (line 2)) (2.10)\n",
            "Requirement already satisfied: chardet<4,>=3.0.2 in /usr/local/lib/python3.7/dist-packages (from requests>=1.0.0->coveralls>=1.11.1->-r requirements_dev.txt (line 2)) (3.0.4)\n",
            "Requirement already satisfied: certifi>=2017.4.17 in /usr/local/lib/python3.7/dist-packages (from requests>=1.0.0->coveralls>=1.11.1->-r requirements_dev.txt (line 2)) (2022.6.15)\n",
            "Requirement already satisfied: urllib3!=1.25.0,!=1.25.1,<1.26,>=1.21.1 in /usr/local/lib/python3.7/dist-packages (from requests>=1.0.0->coveralls>=1.11.1->-r requirements_dev.txt (line 2)) (1.24.3)\n",
            "Requirement already satisfied: pyparsing!=3.0.5,>=2.0.2 in /usr/local/lib/python3.7/dist-packages (from packaging->pytest>=3.6->-r requirements_dev.txt (line 5)) (3.0.9)\n",
            "Installing collected packages: typed-ast, pluggy, lazy-object-proxy, coverage, tomlkit, pytest, platformdirs, mccabe, isort, astroid, pytest-cov, pylint, coveralls\n",
            "  Attempting uninstall: pluggy\n",
            "    Found existing installation: pluggy 0.7.1\n",
            "    Uninstalling pluggy-0.7.1:\n",
            "      Successfully uninstalled pluggy-0.7.1\n",
            "  Attempting uninstall: coverage\n",
            "    Found existing installation: coverage 3.7.1\n",
            "    Uninstalling coverage-3.7.1:\n",
            "      Successfully uninstalled coverage-3.7.1\n",
            "  Attempting uninstall: pytest\n",
            "    Found existing installation: pytest 3.6.4\n",
            "    Uninstalling pytest-3.6.4:\n",
            "      Successfully uninstalled pytest-3.6.4\n",
            "  Attempting uninstall: coveralls\n",
            "    Found existing installation: coveralls 0.5\n",
            "    Uninstalling coveralls-0.5:\n",
            "      Successfully uninstalled coveralls-0.5\n",
            "\u001b[31mERROR: pip's dependency resolver does not currently take into account all the packages that are installed. This behaviour is the source of the following dependency conflicts.\n",
            "datascience 0.10.6 requires coverage==3.7.1, but you have coverage 6.4.2 which is incompatible.\n",
            "datascience 0.10.6 requires coveralls==0.5, but you have coveralls 3.3.1 which is incompatible.\n",
            "datascience 0.10.6 requires folium==0.2.1, but you have folium 0.8.3 which is incompatible.\u001b[0m\n",
            "Successfully installed astroid-2.11.7 coverage-6.4.2 coveralls-3.3.1 isort-5.10.1 lazy-object-proxy-1.7.1 mccabe-0.7.0 platformdirs-2.5.2 pluggy-1.0.0 pylint-2.14.4 pytest-7.1.2 pytest-cov-3.0.0 tomlkit-0.11.1 typed-ast-1.5.4\n"
          ]
        }
      ]
    },
    {
      "cell_type": "code",
      "source": [
        "!sudo apt-get install graphviz graphviz-dev\n",
        "!pip install pygraphviz"
      ],
      "metadata": {
        "colab": {
          "base_uri": "https://localhost:8080/"
        },
        "id": "CzF8crBRp72s",
        "outputId": "e0776fdd-2fcd-43fe-a09c-061ac6a3e65e"
      },
      "execution_count": null,
      "outputs": [
        {
          "output_type": "stream",
          "name": "stdout",
          "text": [
            "Reading package lists... Done\n",
            "Building dependency tree       \n",
            "Reading state information... Done\n",
            "Note, selecting 'libgraphviz-dev' instead of 'graphviz-dev'\n",
            "graphviz is already the newest version (2.40.1-2).\n",
            "The following package was automatically installed and is no longer required:\n",
            "  libnvidia-common-460\n",
            "Use 'sudo apt autoremove' to remove it.\n",
            "The following additional packages will be installed:\n",
            "  libgail-common libgail18 libgtk2.0-0 libgtk2.0-bin libgtk2.0-common\n",
            "  libgvc6-plugins-gtk libxdot4\n",
            "Suggested packages:\n",
            "  gvfs\n",
            "The following NEW packages will be installed:\n",
            "  libgail-common libgail18 libgraphviz-dev libgtk2.0-0 libgtk2.0-bin\n",
            "  libgtk2.0-common libgvc6-plugins-gtk libxdot4\n",
            "0 upgraded, 8 newly installed, 0 to remove and 49 not upgraded.\n",
            "Need to get 2,120 kB of archives.\n",
            "After this operation, 7,128 kB of additional disk space will be used.\n",
            "Get:1 http://archive.ubuntu.com/ubuntu bionic/main amd64 libgtk2.0-common all 2.24.32-1ubuntu1 [125 kB]\n",
            "Get:2 http://archive.ubuntu.com/ubuntu bionic/main amd64 libgtk2.0-0 amd64 2.24.32-1ubuntu1 [1,769 kB]\n",
            "Get:3 http://archive.ubuntu.com/ubuntu bionic/main amd64 libgail18 amd64 2.24.32-1ubuntu1 [14.2 kB]\n",
            "Get:4 http://archive.ubuntu.com/ubuntu bionic/main amd64 libgail-common amd64 2.24.32-1ubuntu1 [112 kB]\n",
            "Get:5 http://archive.ubuntu.com/ubuntu bionic/universe amd64 libxdot4 amd64 2.40.1-2 [15.7 kB]\n",
            "Get:6 http://archive.ubuntu.com/ubuntu bionic/universe amd64 libgvc6-plugins-gtk amd64 2.40.1-2 [18.2 kB]\n",
            "Get:7 http://archive.ubuntu.com/ubuntu bionic/universe amd64 libgraphviz-dev amd64 2.40.1-2 [57.3 kB]\n",
            "Get:8 http://archive.ubuntu.com/ubuntu bionic/main amd64 libgtk2.0-bin amd64 2.24.32-1ubuntu1 [7,536 B]\n",
            "Fetched 2,120 kB in 0s (4,910 kB/s)\n",
            "debconf: unable to initialize frontend: Dialog\n",
            "debconf: (No usable dialog-like program is installed, so the dialog based frontend cannot be used. at /usr/share/perl5/Debconf/FrontEnd/Dialog.pm line 76, <> line 8.)\n",
            "debconf: falling back to frontend: Readline\n",
            "debconf: unable to initialize frontend: Readline\n",
            "debconf: (This frontend requires a controlling tty.)\n",
            "debconf: falling back to frontend: Teletype\n",
            "dpkg-preconfigure: unable to re-open stdin: \n",
            "Selecting previously unselected package libgtk2.0-common.\n",
            "(Reading database ... 155746 files and directories currently installed.)\n",
            "Preparing to unpack .../0-libgtk2.0-common_2.24.32-1ubuntu1_all.deb ...\n",
            "Unpacking libgtk2.0-common (2.24.32-1ubuntu1) ...\n",
            "Selecting previously unselected package libgtk2.0-0:amd64.\n",
            "Preparing to unpack .../1-libgtk2.0-0_2.24.32-1ubuntu1_amd64.deb ...\n",
            "Unpacking libgtk2.0-0:amd64 (2.24.32-1ubuntu1) ...\n",
            "Selecting previously unselected package libgail18:amd64.\n",
            "Preparing to unpack .../2-libgail18_2.24.32-1ubuntu1_amd64.deb ...\n",
            "Unpacking libgail18:amd64 (2.24.32-1ubuntu1) ...\n",
            "Selecting previously unselected package libgail-common:amd64.\n",
            "Preparing to unpack .../3-libgail-common_2.24.32-1ubuntu1_amd64.deb ...\n",
            "Unpacking libgail-common:amd64 (2.24.32-1ubuntu1) ...\n",
            "Selecting previously unselected package libxdot4.\n",
            "Preparing to unpack .../4-libxdot4_2.40.1-2_amd64.deb ...\n",
            "Unpacking libxdot4 (2.40.1-2) ...\n",
            "Selecting previously unselected package libgvc6-plugins-gtk.\n",
            "Preparing to unpack .../5-libgvc6-plugins-gtk_2.40.1-2_amd64.deb ...\n",
            "Unpacking libgvc6-plugins-gtk (2.40.1-2) ...\n",
            "Selecting previously unselected package libgraphviz-dev.\n",
            "Preparing to unpack .../6-libgraphviz-dev_2.40.1-2_amd64.deb ...\n",
            "Unpacking libgraphviz-dev (2.40.1-2) ...\n",
            "Selecting previously unselected package libgtk2.0-bin.\n",
            "Preparing to unpack .../7-libgtk2.0-bin_2.24.32-1ubuntu1_amd64.deb ...\n",
            "Unpacking libgtk2.0-bin (2.24.32-1ubuntu1) ...\n",
            "Setting up libgtk2.0-common (2.24.32-1ubuntu1) ...\n",
            "Setting up libxdot4 (2.40.1-2) ...\n",
            "Setting up libgtk2.0-0:amd64 (2.24.32-1ubuntu1) ...\n",
            "Setting up libgail18:amd64 (2.24.32-1ubuntu1) ...\n",
            "Setting up libgail-common:amd64 (2.24.32-1ubuntu1) ...\n",
            "Setting up libgvc6-plugins-gtk (2.40.1-2) ...\n",
            "Setting up libgraphviz-dev (2.40.1-2) ...\n",
            "Setting up libgtk2.0-bin (2.24.32-1ubuntu1) ...\n",
            "Processing triggers for man-db (2.8.3-2ubuntu0.1) ...\n",
            "Processing triggers for libc-bin (2.27-3ubuntu1.3) ...\n",
            "/sbin/ldconfig.real: /usr/local/lib/python3.7/dist-packages/ideep4py/lib/libmkldnn.so.0 is not a symbolic link\n",
            "\n",
            "Looking in indexes: https://pypi.org/simple, https://us-python.pkg.dev/colab-wheels/public/simple/\n",
            "Collecting pygraphviz\n",
            "  Downloading pygraphviz-1.7.zip (118 kB)\n",
            "\u001b[K     |████████████████████████████████| 118 kB 5.1 MB/s \n",
            "\u001b[?25hBuilding wheels for collected packages: pygraphviz\n",
            "  Building wheel for pygraphviz (setup.py) ... \u001b[?25l\u001b[?25hdone\n",
            "  Created wheel for pygraphviz: filename=pygraphviz-1.7-cp37-cp37m-linux_x86_64.whl size=165759 sha256=46a7f2bd17c25b6f6764e93315b191c574621ec4009bb009a718983f51d564f3\n",
            "  Stored in directory: /root/.cache/pip/wheels/8c/bc/0c/ac35392b72556e75107ff610cb31b313e8471918a6d280e34c\n",
            "Successfully built pygraphviz\n",
            "Installing collected packages: pygraphviz\n",
            "Successfully installed pygraphviz-1.7\n"
          ]
        }
      ]
    },
    {
      "cell_type": "code",
      "source": [
        "%cd examples"
      ],
      "metadata": {
        "colab": {
          "base_uri": "https://localhost:8080/"
        },
        "id": "dAtLDr9XqBzT",
        "outputId": "442e7bc3-2c6b-45c7-ff83-ebe786eda3a7"
      },
      "execution_count": null,
      "outputs": [
        {
          "output_type": "stream",
          "name": "stdout",
          "text": [
            "/content/drive/MyDrive/Hardware_Trojan/hw2vec/examples\n"
          ]
        }
      ]
    },
    {
      "cell_type": "code",
      "source": [
        "!pip install torch-scatter -f https://data.pyg.org/whl/torch-1.6.0+${CUDA}.html"
      ],
      "metadata": {
        "colab": {
          "base_uri": "https://localhost:8080/"
        },
        "id": "4WVEPQyfqCR3",
        "outputId": "ea292378-0d5f-481c-a2ae-77743ef78159"
      },
      "execution_count": null,
      "outputs": [
        {
          "output_type": "stream",
          "name": "stdout",
          "text": [
            "Looking in indexes: https://pypi.org/simple, https://us-python.pkg.dev/colab-wheels/public/simple/\n",
            "Looking in links: https://data.pyg.org/whl/torch-1.6.0+.html\n",
            "Collecting torch-scatter\n",
            "  Downloading torch_scatter-2.0.9.tar.gz (21 kB)\n",
            "Building wheels for collected packages: torch-scatter\n",
            "  Building wheel for torch-scatter (setup.py) ... \u001b[?25l\u001b[?25hdone\n",
            "  Created wheel for torch-scatter: filename=torch_scatter-2.0.9-cp37-cp37m-linux_x86_64.whl size=274491 sha256=aa2684b1810afad6f686952e73066c7648eb5897f2af0f49588a9331a39cd527\n",
            "  Stored in directory: /root/.cache/pip/wheels/dd/57/a3/42ea193b77378ce634eb9454c9bc1e3163f3b482a35cdee4d1\n",
            "Successfully built torch-scatter\n",
            "Installing collected packages: torch-scatter\n",
            "Successfully installed torch-scatter-2.0.9\n"
          ]
        }
      ]
    },
    {
      "cell_type": "code",
      "source": [
        "!pip install torch-sparse -f https://data.pyg.org/whl/torch-1.6.0+${CUDA}.html"
      ],
      "metadata": {
        "colab": {
          "base_uri": "https://localhost:8080/"
        },
        "id": "ZmW_YmHNqEra",
        "outputId": "e40b5660-28dd-4d2d-99fa-d64f5890f4ff"
      },
      "execution_count": null,
      "outputs": [
        {
          "output_type": "stream",
          "name": "stdout",
          "text": [
            "Looking in indexes: https://pypi.org/simple, https://us-python.pkg.dev/colab-wheels/public/simple/\n",
            "Looking in links: https://data.pyg.org/whl/torch-1.6.0+.html\n",
            "Collecting torch-sparse\n",
            "  Downloading torch_sparse-0.6.14.tar.gz (51 kB)\n",
            "\u001b[K     |████████████████████████████████| 51 kB 184 kB/s \n",
            "\u001b[?25hRequirement already satisfied: scipy in /usr/local/lib/python3.7/dist-packages (from torch-sparse) (1.4.1)\n",
            "Requirement already satisfied: numpy>=1.13.3 in /usr/local/lib/python3.7/dist-packages (from scipy->torch-sparse) (1.16.5)\n",
            "Building wheels for collected packages: torch-sparse\n",
            "  Building wheel for torch-sparse (setup.py) ... \u001b[?25l\u001b[?25hdone\n",
            "  Created wheel for torch-sparse: filename=torch_sparse-0.6.14-cp37-cp37m-linux_x86_64.whl size=497879 sha256=9ab3df93b222299029fc42c299fb320e7b3a4a4288f5c1708ea8b0e42a8f5e44\n",
            "  Stored in directory: /root/.cache/pip/wheels/3c/aa/62/db0259eae2abce84f1ee2cf1c531bba683aab4bf79054172f8\n",
            "Successfully built torch-sparse\n",
            "Installing collected packages: torch-sparse\n",
            "Successfully installed torch-sparse-0.6.14\n"
          ]
        }
      ]
    },
    {
      "cell_type": "code",
      "source": [
        "!pip install torch-geometric"
      ],
      "metadata": {
        "colab": {
          "base_uri": "https://localhost:8080/"
        },
        "id": "qshfLU8BqITc",
        "outputId": "2d1c9890-d723-4eb3-dc9c-eccb73863a14"
      },
      "execution_count": null,
      "outputs": [
        {
          "output_type": "stream",
          "name": "stdout",
          "text": [
            "Looking in indexes: https://pypi.org/simple, https://us-python.pkg.dev/colab-wheels/public/simple/\n",
            "Collecting torch-geometric\n",
            "  Downloading torch_geometric-2.0.4.tar.gz (407 kB)\n",
            "\u001b[K     |████████████████████████████████| 407 kB 4.0 MB/s \n",
            "\u001b[?25hRequirement already satisfied: tqdm in /usr/local/lib/python3.7/dist-packages (from torch-geometric) (4.36.1)\n",
            "Requirement already satisfied: numpy in /usr/local/lib/python3.7/dist-packages (from torch-geometric) (1.16.5)\n",
            "Requirement already satisfied: scipy in /usr/local/lib/python3.7/dist-packages (from torch-geometric) (1.4.1)\n",
            "Requirement already satisfied: pandas in /usr/local/lib/python3.7/dist-packages (from torch-geometric) (0.23.4)\n",
            "Requirement already satisfied: jinja2 in /usr/local/lib/python3.7/dist-packages (from torch-geometric) (2.11.3)\n",
            "Requirement already satisfied: requests in /usr/local/lib/python3.7/dist-packages (from torch-geometric) (2.23.0)\n",
            "Requirement already satisfied: pyparsing in /usr/local/lib/python3.7/dist-packages (from torch-geometric) (3.0.9)\n",
            "Requirement already satisfied: scikit-learn in /usr/local/lib/python3.7/dist-packages (from torch-geometric) (0.23.1)\n",
            "Requirement already satisfied: MarkupSafe>=0.23 in /usr/local/lib/python3.7/dist-packages (from jinja2->torch-geometric) (2.0.1)\n",
            "Requirement already satisfied: python-dateutil>=2.5.0 in /usr/local/lib/python3.7/dist-packages (from pandas->torch-geometric) (2.8.2)\n",
            "Requirement already satisfied: pytz>=2011k in /usr/local/lib/python3.7/dist-packages (from pandas->torch-geometric) (2022.1)\n",
            "Requirement already satisfied: six>=1.5 in /usr/local/lib/python3.7/dist-packages (from python-dateutil>=2.5.0->pandas->torch-geometric) (1.15.0)\n",
            "Requirement already satisfied: idna<3,>=2.5 in /usr/local/lib/python3.7/dist-packages (from requests->torch-geometric) (2.10)\n",
            "Requirement already satisfied: chardet<4,>=3.0.2 in /usr/local/lib/python3.7/dist-packages (from requests->torch-geometric) (3.0.4)\n",
            "Requirement already satisfied: urllib3!=1.25.0,!=1.25.1,<1.26,>=1.21.1 in /usr/local/lib/python3.7/dist-packages (from requests->torch-geometric) (1.24.3)\n",
            "Requirement already satisfied: certifi>=2017.4.17 in /usr/local/lib/python3.7/dist-packages (from requests->torch-geometric) (2022.6.15)\n",
            "Requirement already satisfied: threadpoolctl>=2.0.0 in /usr/local/lib/python3.7/dist-packages (from scikit-learn->torch-geometric) (3.1.0)\n",
            "Requirement already satisfied: joblib>=0.11 in /usr/local/lib/python3.7/dist-packages (from scikit-learn->torch-geometric) (1.1.0)\n",
            "Building wheels for collected packages: torch-geometric\n",
            "  Building wheel for torch-geometric (setup.py) ... \u001b[?25l\u001b[?25hdone\n",
            "  Created wheel for torch-geometric: filename=torch_geometric-2.0.4-py3-none-any.whl size=616603 sha256=8755b00c5b4c4ad5d57b65228e21d4ec00f3f03b22deb1c4f58288ba339e3857\n",
            "  Stored in directory: /root/.cache/pip/wheels/18/a6/a4/ca18c3051fcead866fe7b85700ee2240d883562a1bc70ce421\n",
            "Successfully built torch-geometric\n",
            "Installing collected packages: torch-geometric\n",
            "Successfully installed torch-geometric-2.0.4\n"
          ]
        }
      ]
    },
    {
      "cell_type": "markdown",
      "source": [
        "    convs = [\n",
        "        GRAPH_CONV(\"gcn\", data_proc.num_node_labels, 150),\n",
        "        GRAPH_CONV(\"gcn\", 150, cfg.hidden),\n",
        "        GRAPH_CONV(\"gcn\", cfg.hidden, cfg.hidden)\n",
        "    ]\n",
        "    model.set_graph_conv(convs)\n",
        "\n",
        "    pool = GRAPH_POOL(\"sagpool\", cfg.hidden, cfg.poolratio)\n",
        "    model.set_graph_pool(pool)\n",
        "\n",
        "    readout = GRAPH_READOUT(\"max\")\n",
        "    model.set_graph_readout(readout)\n",
        "\n",
        "    output1 = nn.Linear(cfg.hidden, 200)\n",
        "    model.set_output_layer_temp(output1)\n",
        "    output = nn.Linear(200,cfg.embed_dim)\n",
        "    model.set_output_layer(output)"
      ],
      "metadata": {
        "id": "dI63ksXxtrd2"
      }
    },
    {
      "cell_type": "code",
      "source": [
        "!python Use_case_2_modified_3.py --yaml_path ./example_gnn4tj.yaml --raw_dataset_path ../assets/TJ-RTL-toy --data_pkl_path dfg_tj_rtl_DFG.pkl --graph_type DFG "
      ],
      "metadata": {
        "id": "SetC0FkGQOeB",
        "colab": {
          "base_uri": "https://localhost:8080/"
        },
        "outputId": "f8f13baf-1d45-40d4-9e93-564ab2050a22"
      },
      "execution_count": null,
      "outputs": [
        {
          "output_type": "stream",
          "name": "stdout",
          "text": [
            "Epoch: 0000, loss_train: 4.2046:   0% 0/200 [00:00<?, ?it/s]\n",
            "Mini Test for Epochs 0:\n",
            "train loss: 0.631990, train accuracy: 0.7778, train f1 score: 0.8462, train confusion_matrix: [[ 3  4], [ 0 11]], train precision: 0.7333, train recall: 1.0000\n",
            "test  loss: 0.656973, test  accuracy: 0.6000, test  f1 score: 0.7500, test  confusion_matrix: [[0 2], [0 3]], test  precision: 0.6000, test  recall: 1.0000\n",
            "Epoch: 0010, loss_train: 1.9634:   5% 10/200 [00:08<02:28,  1.28it/s]\n",
            "Mini Test for Epochs 10:\n",
            "train loss: 0.429711, train accuracy: 0.9444, train f1 score: 0.9565, train confusion_matrix: [[ 6  1], [ 0 11]], train precision: 0.9167, train recall: 1.0000\n",
            "test  loss: 0.476175, test  accuracy: 0.8000, test  f1 score: 0.8571, test  confusion_matrix: [[1 1], [0 3]], test  precision: 0.7500, test  recall: 1.0000\n",
            "Epoch: 0020, loss_train: 0.7211:  10% 20/200 [00:17<02:17,  1.31it/s]\n",
            "Mini Test for Epochs 20:\n",
            "train loss: 0.243367, train accuracy: 0.9444, train f1 score: 0.9565, train confusion_matrix: [[ 6  1], [ 0 11]], train precision: 0.9167, train recall: 1.0000\n",
            "test  loss: 0.808909, test  accuracy: 0.8000, test  f1 score: 0.8571, test  confusion_matrix: [[1 1], [0 3]], test  precision: 0.7500, test  recall: 1.0000\n",
            "Epoch: 0030, loss_train: 0.7896:  15% 30/200 [00:25<02:12,  1.28it/s]\n",
            "Mini Test for Epochs 30:\n",
            "train loss: 0.368573, train accuracy: 0.8889, train f1 score: 0.9167, train confusion_matrix: [[ 5  2], [ 0 11]], train precision: 0.8462, train recall: 1.0000\n",
            "test  loss: 1.208989, test  accuracy: 0.8000, test  f1 score: 0.8571, test  confusion_matrix: [[1 1], [0 3]], test  precision: 0.7500, test  recall: 1.0000\n",
            "Epoch: 0040, loss_train: 1.1929:  20% 40/200 [00:33<02:03,  1.30it/s]\n",
            "Mini Test for Epochs 40:\n",
            "train loss: 0.181329, train accuracy: 0.9444, train f1 score: 0.9565, train confusion_matrix: [[ 6  1], [ 0 11]], train precision: 0.9167, train recall: 1.0000\n",
            "test  loss: 1.039401, test  accuracy: 0.8000, test  f1 score: 0.8571, test  confusion_matrix: [[1 1], [0 3]], test  precision: 0.7500, test  recall: 1.0000\n",
            "Epoch: 0050, loss_train: 0.6473:  25% 50/200 [00:41<01:55,  1.29it/s]\n",
            "Mini Test for Epochs 50:\n",
            "train loss: 0.178137, train accuracy: 0.9444, train f1 score: 0.9565, train confusion_matrix: [[ 6  1], [ 0 11]], train precision: 0.9167, train recall: 1.0000\n",
            "test  loss: 1.177868, test  accuracy: 0.8000, test  f1 score: 0.8571, test  confusion_matrix: [[1 1], [0 3]], test  precision: 0.7500, test  recall: 1.0000\n",
            "Epoch: 0060, loss_train: 0.5552:  30% 60/200 [00:50<01:56,  1.20it/s]\n",
            "Mini Test for Epochs 60:\n",
            "train loss: 0.199955, train accuracy: 0.9444, train f1 score: 0.9565, train confusion_matrix: [[ 6  1], [ 0 11]], train precision: 0.9167, train recall: 1.0000\n",
            "test  loss: 1.117664, test  accuracy: 0.8000, test  f1 score: 0.8571, test  confusion_matrix: [[1 1], [0 3]], test  precision: 0.7500, test  recall: 1.0000\n",
            "Epoch: 0070, loss_train: 0.4497:  35% 70/200 [00:58<01:43,  1.26it/s]\n",
            "Mini Test for Epochs 70:\n",
            "train loss: 0.193300, train accuracy: 0.9444, train f1 score: 0.9565, train confusion_matrix: [[ 6  1], [ 0 11]], train precision: 0.9167, train recall: 1.0000\n",
            "test  loss: 1.177091, test  accuracy: 0.8000, test  f1 score: 0.8571, test  confusion_matrix: [[1 1], [0 3]], test  precision: 0.7500, test  recall: 1.0000\n",
            "Epoch: 0080, loss_train: 0.5193:  40% 80/200 [01:07<01:35,  1.26it/s]\n",
            "Mini Test for Epochs 80:\n",
            "train loss: 0.157769, train accuracy: 0.9444, train f1 score: 0.9565, train confusion_matrix: [[ 6  1], [ 0 11]], train precision: 0.9167, train recall: 1.0000\n",
            "test  loss: 1.054446, test  accuracy: 0.8000, test  f1 score: 0.8571, test  confusion_matrix: [[1 1], [0 3]], test  precision: 0.7500, test  recall: 1.0000\n",
            "Epoch: 0090, loss_train: 0.6039:  45% 90/200 [01:16<01:24,  1.30it/s]\n",
            "Mini Test for Epochs 90:\n",
            "train loss: 0.212152, train accuracy: 0.9444, train f1 score: 0.9565, train confusion_matrix: [[ 6  1], [ 0 11]], train precision: 0.9167, train recall: 1.0000\n",
            "test  loss: 1.393288, test  accuracy: 0.8000, test  f1 score: 0.8571, test  confusion_matrix: [[1 1], [0 3]], test  precision: 0.7500, test  recall: 1.0000\n",
            "Epoch: 0100, loss_train: 0.8714:  50% 100/200 [01:24<01:17,  1.28it/s]\n",
            "Mini Test for Epochs 100:\n",
            "train loss: 0.306656, train accuracy: 0.8889, train f1 score: 0.9167, train confusion_matrix: [[ 5  2], [ 0 11]], train precision: 0.8462, train recall: 1.0000\n",
            "test  loss: 1.556210, test  accuracy: 0.8000, test  f1 score: 0.8571, test  confusion_matrix: [[1 1], [0 3]], test  precision: 0.7500, test  recall: 1.0000\n",
            "Epoch: 0110, loss_train: 1.8117:  55% 110/200 [01:33<01:08,  1.31it/s]\n",
            "Mini Test for Epochs 110:\n",
            "train loss: 0.142614, train accuracy: 0.9444, train f1 score: 0.9565, train confusion_matrix: [[ 6  1], [ 0 11]], train precision: 0.9167, train recall: 1.0000\n",
            "test  loss: 1.053604, test  accuracy: 0.8000, test  f1 score: 0.8571, test  confusion_matrix: [[1 1], [0 3]], test  precision: 0.7500, test  recall: 1.0000\n",
            "Epoch: 0120, loss_train: 0.9858:  60% 120/200 [01:41<01:02,  1.28it/s]\n",
            "Mini Test for Epochs 120:\n",
            "train loss: 0.171787, train accuracy: 0.9444, train f1 score: 0.9565, train confusion_matrix: [[ 6  1], [ 0 11]], train precision: 0.9167, train recall: 1.0000\n",
            "test  loss: 1.255133, test  accuracy: 0.8000, test  f1 score: 0.8571, test  confusion_matrix: [[1 1], [0 3]], test  precision: 0.7500, test  recall: 1.0000\n",
            "Epoch: 0130, loss_train: 0.4054:  65% 130/200 [01:49<00:54,  1.29it/s]\n",
            "Mini Test for Epochs 130:\n",
            "train loss: 0.160943, train accuracy: 0.9444, train f1 score: 0.9565, train confusion_matrix: [[ 6  1], [ 0 11]], train precision: 0.9167, train recall: 1.0000\n",
            "test  loss: 1.279023, test  accuracy: 0.8000, test  f1 score: 0.8571, test  confusion_matrix: [[1 1], [0 3]], test  precision: 0.7500, test  recall: 1.0000\n",
            "Epoch: 0140, loss_train: 0.6718:  70% 140/200 [01:57<00:46,  1.30it/s]\n",
            "Mini Test for Epochs 140:\n",
            "train loss: 0.165727, train accuracy: 0.9444, train f1 score: 0.9565, train confusion_matrix: [[ 6  1], [ 0 11]], train precision: 0.9167, train recall: 1.0000\n",
            "test  loss: 1.306559, test  accuracy: 0.8000, test  f1 score: 0.8571, test  confusion_matrix: [[1 1], [0 3]], test  precision: 0.7500, test  recall: 1.0000\n",
            "Epoch: 0150, loss_train: 0.8472:  75% 150/200 [02:06<00:38,  1.30it/s]\n",
            "Mini Test for Epochs 150:\n",
            "train loss: 0.152473, train accuracy: 0.9444, train f1 score: 0.9565, train confusion_matrix: [[ 6  1], [ 0 11]], train precision: 0.9167, train recall: 1.0000\n",
            "test  loss: 1.055593, test  accuracy: 0.8000, test  f1 score: 0.8571, test  confusion_matrix: [[1 1], [0 3]], test  precision: 0.7500, test  recall: 1.0000\n",
            "Epoch: 0160, loss_train: 0.4023:  80% 160/200 [02:14<00:31,  1.26it/s]\n",
            "Mini Test for Epochs 160:\n",
            "train loss: 0.183918, train accuracy: 0.9444, train f1 score: 0.9565, train confusion_matrix: [[ 6  1], [ 0 11]], train precision: 0.9167, train recall: 1.0000\n",
            "test  loss: 1.281171, test  accuracy: 0.8000, test  f1 score: 0.8571, test  confusion_matrix: [[1 1], [0 3]], test  precision: 0.7500, test  recall: 1.0000\n",
            "Epoch: 0170, loss_train: 0.4535:  85% 170/200 [02:23<00:23,  1.28it/s]\n",
            "Mini Test for Epochs 170:\n",
            "train loss: 0.156503, train accuracy: 0.9444, train f1 score: 0.9565, train confusion_matrix: [[ 6  1], [ 0 11]], train precision: 0.9167, train recall: 1.0000\n",
            "test  loss: 1.153962, test  accuracy: 0.8000, test  f1 score: 0.8571, test  confusion_matrix: [[1 1], [0 3]], test  precision: 0.7500, test  recall: 1.0000\n",
            "Epoch: 0180, loss_train: 1.7470:  90% 180/200 [02:31<00:15,  1.31it/s]\n",
            "Mini Test for Epochs 180:\n",
            "train loss: 0.252653, train accuracy: 0.8889, train f1 score: 0.9167, train confusion_matrix: [[ 5  2], [ 0 11]], train precision: 0.8462, train recall: 1.0000\n",
            "test  loss: 1.525057, test  accuracy: 0.8000, test  f1 score: 0.8571, test  confusion_matrix: [[1 1], [0 3]], test  precision: 0.7500, test  recall: 1.0000\n",
            "Epoch: 0190, loss_train: 0.2329:  95% 190/200 [02:39<00:07,  1.33it/s]\n",
            "Mini Test for Epochs 190:\n",
            "train loss: 0.169455, train accuracy: 0.9444, train f1 score: 0.9565, train confusion_matrix: [[ 6  1], [ 0 11]], train precision: 0.9167, train recall: 1.0000\n",
            "test  loss: 1.142687, test  accuracy: 0.8000, test  f1 score: 0.8571, test  confusion_matrix: [[1 1], [0 3]], test  precision: 0.7500, test  recall: 1.0000\n",
            "Epoch: 0199, loss_train: 0.8561: 100% 200/200 [02:47<00:00,  1.19it/s]\n",
            "\n",
            "Mini Test for Epochs 200:\n",
            "train loss: 0.147722, train accuracy: 0.9444, train f1 score: 0.9565, train confusion_matrix: [[ 6  1], [ 0 11]], train precision: 0.9167, train recall: 1.0000\n",
            "test  loss: 1.186024, test  accuracy: 0.8000, test  f1 score: 0.8571, test  confusion_matrix: [[1 1], [0 3]], test  precision: 0.7500, test  recall: 1.0000\n",
            "best  loss: 0.476175, best  accuracy: 0.8000, best  f1 score: 0.8571, best  confusion_matrix: [[1 1], [0 3]], best  precision: 0.7500, best  recall: 1.0000\n"
          ]
        }
      ]
    },
    {
      "cell_type": "markdown",
      "source": [
        "    convs = [\n",
        "        GRAPH_CONV(\"gcn\", data_proc.num_node_labels, 150),\n",
        "        GRAPH_CONV(\"gcn\", 150, cfg.hidden),\n",
        "        GRAPH_CONV(\"gcn\", cfg.hidden, cfg.hidden)\n",
        "    ]\n",
        "    model.set_graph_conv(convs)\n",
        "\n",
        "    pool = GRAPH_POOL(\"sagpool\", cfg.hidden, cfg.poolratio)\n",
        "    model.set_graph_pool(pool)\n",
        "\n",
        "    readout1 = GRAPH_READOUT(\"max\")\n",
        "    model.set_graph_readout(readout1)\n",
        "\n",
        "    readout = GRAPH_READOUT(\"max\")\n",
        "    model.set_graph_readout(readout)\n",
        "\n",
        "    output1 = nn.Linear(cfg.hidden, 200)\n",
        "    model.set_output_layer_temp(output1)\n",
        "    output = nn.Linear(200,cfg.embed_dim)\n",
        "    model.set_output_layer(output)"
      ],
      "metadata": {
        "id": "D6a5m1r-v1aG"
      }
    },
    {
      "cell_type": "code",
      "source": [
        "!python Use_case_2_modified_3.py --yaml_path ./example_gnn4tj.yaml --raw_dataset_path ../assets/TJ-RTL-toy --data_pkl_path dfg_tj_rtl_DFG.pkl --graph_type DFG "
      ],
      "metadata": {
        "id": "wGTzFaMS1bRX",
        "colab": {
          "base_uri": "https://localhost:8080/"
        },
        "outputId": "dbaa0c42-fca3-4e15-80ff-765eb98caa79"
      },
      "execution_count": null,
      "outputs": [
        {
          "output_type": "stream",
          "name": "stdout",
          "text": [
            "Epoch: 0000, loss_train: 3.5277:   0% 0/200 [00:00<?, ?it/s]\n",
            "Mini Test for Epochs 0:\n",
            "train loss: 0.692921, train accuracy: 0.6111, train f1 score: 0.7586, train confusion_matrix: [[ 0  7], [ 0 11]], train precision: 0.6111, train recall: 1.0000\n",
            "test  loss: 0.685617, test  accuracy: 0.6000, test  f1 score: 0.7500, test  confusion_matrix: [[0 2], [0 3]], test  precision: 0.6000, test  recall: 1.0000\n",
            "Epoch: 0010, loss_train: 3.3318:   5% 10/200 [00:08<02:29,  1.27it/s]\n",
            "Mini Test for Epochs 10:\n",
            "train loss: 0.693449, train accuracy: 0.6111, train f1 score: 0.7586, train confusion_matrix: [[ 0  7], [ 0 11]], train precision: 0.6111, train recall: 1.0000\n",
            "test  loss: 0.687483, test  accuracy: 0.6000, test  f1 score: 0.7500, test  confusion_matrix: [[0 2], [0 3]], test  precision: 0.6000, test  recall: 1.0000\n",
            "Epoch: 0020, loss_train: 3.3412:  10% 20/200 [00:17<02:21,  1.27it/s]\n",
            "Mini Test for Epochs 20:\n",
            "train loss: 0.688061, train accuracy: 0.3889, train f1 score: 0.0000, train confusion_matrix: [[ 7  0], [11  0]], train precision: 0.0000, train recall: 0.0000\n",
            "test  loss: 0.694483, test  accuracy: 0.4000, test  f1 score: 0.0000, test  confusion_matrix: [[2 0], [3 0]], test  precision: 0.0000, test  recall: 0.0000\n",
            "Epoch: 0030, loss_train: 3.1763:  15% 30/200 [00:25<02:15,  1.26it/s]\n",
            "Mini Test for Epochs 30:\n",
            "train loss: 0.617755, train accuracy: 0.7778, train f1 score: 0.8462, train confusion_matrix: [[ 3  4], [ 0 11]], train precision: 0.7333, train recall: 1.0000\n",
            "test  loss: 0.644855, test  accuracy: 0.6000, test  f1 score: 0.7500, test  confusion_matrix: [[0 2], [0 3]], test  precision: 0.6000, test  recall: 1.0000\n",
            "Epoch: 0040, loss_train: 2.5439:  20% 40/200 [00:35<02:47,  1.04s/it]\n",
            "Mini Test for Epochs 40:\n",
            "train loss: 0.545189, train accuracy: 0.9444, train f1 score: 0.9565, train confusion_matrix: [[ 6  1], [ 0 11]], train precision: 0.9167, train recall: 1.0000\n",
            "test  loss: 0.616942, test  accuracy: 0.8000, test  f1 score: 0.8571, test  confusion_matrix: [[1 1], [0 3]], test  precision: 0.7500, test  recall: 1.0000\n",
            "Epoch: 0050, loss_train: 1.7165:  25% 50/200 [00:44<02:06,  1.19it/s]\n",
            "Mini Test for Epochs 50:\n",
            "train loss: 0.457030, train accuracy: 0.9444, train f1 score: 0.9565, train confusion_matrix: [[ 6  1], [ 0 11]], train precision: 0.9167, train recall: 1.0000\n",
            "test  loss: 0.599178, test  accuracy: 0.8000, test  f1 score: 0.8571, test  confusion_matrix: [[1 1], [0 3]], test  precision: 0.7500, test  recall: 1.0000\n",
            "Epoch: 0060, loss_train: 2.1539:  30% 60/200 [00:53<01:59,  1.17it/s]\n",
            "Mini Test for Epochs 60:\n",
            "train loss: 0.503204, train accuracy: 0.9444, train f1 score: 0.9565, train confusion_matrix: [[ 6  1], [ 0 11]], train precision: 0.9167, train recall: 1.0000\n",
            "test  loss: 0.600208, test  accuracy: 0.8000, test  f1 score: 0.8571, test  confusion_matrix: [[1 1], [0 3]], test  precision: 0.7500, test  recall: 1.0000\n",
            "Epoch: 0070, loss_train: 2.0134:  35% 70/200 [01:02<01:46,  1.22it/s]\n",
            "Mini Test for Epochs 70:\n",
            "train loss: 0.492328, train accuracy: 0.9444, train f1 score: 0.9565, train confusion_matrix: [[ 6  1], [ 0 11]], train precision: 0.9167, train recall: 1.0000\n",
            "test  loss: 0.597830, test  accuracy: 0.8000, test  f1 score: 0.8571, test  confusion_matrix: [[1 1], [0 3]], test  precision: 0.7500, test  recall: 1.0000\n",
            "Epoch: 0080, loss_train: 2.3609:  40% 80/200 [01:11<01:40,  1.20it/s]\n",
            "Mini Test for Epochs 80:\n",
            "train loss: 0.526185, train accuracy: 0.9444, train f1 score: 0.9565, train confusion_matrix: [[ 6  1], [ 0 11]], train precision: 0.9167, train recall: 1.0000\n",
            "test  loss: 0.610175, test  accuracy: 0.8000, test  f1 score: 0.8571, test  confusion_matrix: [[1 1], [0 3]], test  precision: 0.7500, test  recall: 1.0000\n",
            "Epoch: 0090, loss_train: 1.8040:  45% 90/200 [01:20<01:33,  1.18it/s]\n",
            "Mini Test for Epochs 90:\n",
            "train loss: 0.427520, train accuracy: 0.9444, train f1 score: 0.9565, train confusion_matrix: [[ 6  1], [ 0 11]], train precision: 0.9167, train recall: 1.0000\n",
            "test  loss: 0.601112, test  accuracy: 0.8000, test  f1 score: 0.8571, test  confusion_matrix: [[1 1], [0 3]], test  precision: 0.7500, test  recall: 1.0000\n",
            "Epoch: 0100, loss_train: 1.9745:  50% 100/200 [01:29<01:22,  1.21it/s]\n",
            "Mini Test for Epochs 100:\n",
            "train loss: 0.452615, train accuracy: 0.9444, train f1 score: 0.9565, train confusion_matrix: [[ 6  1], [ 0 11]], train precision: 0.9167, train recall: 1.0000\n",
            "test  loss: 0.713399, test  accuracy: 0.8000, test  f1 score: 0.8571, test  confusion_matrix: [[1 1], [0 3]], test  precision: 0.7500, test  recall: 1.0000\n",
            "Epoch: 0110, loss_train: 1.8011:  55% 110/200 [01:38<01:15,  1.19it/s]\n",
            "Mini Test for Epochs 110:\n",
            "train loss: 0.437830, train accuracy: 0.9444, train f1 score: 0.9565, train confusion_matrix: [[ 6  1], [ 0 11]], train precision: 0.9167, train recall: 1.0000\n",
            "test  loss: 0.729881, test  accuracy: 0.8000, test  f1 score: 0.8571, test  confusion_matrix: [[1 1], [0 3]], test  precision: 0.7500, test  recall: 1.0000\n",
            "Epoch: 0120, loss_train: 1.9630:  60% 120/200 [01:47<01:09,  1.15it/s]\n",
            "Mini Test for Epochs 120:\n",
            "train loss: 0.467067, train accuracy: 0.9444, train f1 score: 0.9565, train confusion_matrix: [[ 6  1], [ 0 11]], train precision: 0.9167, train recall: 1.0000\n",
            "test  loss: 0.695839, test  accuracy: 0.8000, test  f1 score: 0.8571, test  confusion_matrix: [[1 1], [0 3]], test  precision: 0.7500, test  recall: 1.0000\n",
            "Epoch: 0130, loss_train: 1.9596:  65% 130/200 [01:57<01:02,  1.13it/s]\n",
            "Mini Test for Epochs 130:\n",
            "train loss: 0.431190, train accuracy: 0.9444, train f1 score: 0.9565, train confusion_matrix: [[ 6  1], [ 0 11]], train precision: 0.9167, train recall: 1.0000\n",
            "test  loss: 0.708741, test  accuracy: 0.8000, test  f1 score: 0.8571, test  confusion_matrix: [[1 1], [0 3]], test  precision: 0.7500, test  recall: 1.0000\n",
            "Epoch: 0140, loss_train: 1.8031:  70% 140/200 [02:06<00:51,  1.16it/s]\n",
            "Mini Test for Epochs 140:\n",
            "train loss: 0.419165, train accuracy: 0.9444, train f1 score: 0.9565, train confusion_matrix: [[ 6  1], [ 0 11]], train precision: 0.9167, train recall: 1.0000\n",
            "test  loss: 0.706703, test  accuracy: 0.8000, test  f1 score: 0.8571, test  confusion_matrix: [[1 1], [0 3]], test  precision: 0.7500, test  recall: 1.0000\n",
            "Epoch: 0150, loss_train: 1.9657:  75% 150/200 [02:15<00:42,  1.17it/s]\n",
            "Mini Test for Epochs 150:\n",
            "train loss: 0.447667, train accuracy: 0.9444, train f1 score: 0.9565, train confusion_matrix: [[ 6  1], [ 0 11]], train precision: 0.9167, train recall: 1.0000\n",
            "test  loss: 0.679543, test  accuracy: 0.8000, test  f1 score: 0.8571, test  confusion_matrix: [[1 1], [0 3]], test  precision: 0.7500, test  recall: 1.0000\n",
            "Epoch: 0160, loss_train: 1.5801:  80% 160/200 [02:25<00:34,  1.15it/s]\n",
            "Mini Test for Epochs 160:\n",
            "train loss: 0.408808, train accuracy: 0.9444, train f1 score: 0.9565, train confusion_matrix: [[ 6  1], [ 0 11]], train precision: 0.9167, train recall: 1.0000\n",
            "test  loss: 0.705846, test  accuracy: 0.8000, test  f1 score: 0.8571, test  confusion_matrix: [[1 1], [0 3]], test  precision: 0.7500, test  recall: 1.0000\n",
            "Epoch: 0170, loss_train: 1.7741:  85% 170/200 [02:34<00:25,  1.20it/s]\n",
            "Mini Test for Epochs 170:\n",
            "train loss: 0.405216, train accuracy: 0.9444, train f1 score: 0.9565, train confusion_matrix: [[ 6  1], [ 0 11]], train precision: 0.9167, train recall: 1.0000\n",
            "test  loss: 0.689927, test  accuracy: 0.8000, test  f1 score: 0.8571, test  confusion_matrix: [[1 1], [0 3]], test  precision: 0.7500, test  recall: 1.0000\n",
            "Epoch: 0180, loss_train: 2.3630:  90% 180/200 [02:43<00:17,  1.17it/s]\n",
            "Mini Test for Epochs 180:\n",
            "train loss: 0.441574, train accuracy: 0.9444, train f1 score: 0.9565, train confusion_matrix: [[ 6  1], [ 0 11]], train precision: 0.9167, train recall: 1.0000\n",
            "test  loss: 0.710106, test  accuracy: 0.8000, test  f1 score: 0.8571, test  confusion_matrix: [[1 1], [0 3]], test  precision: 0.7500, test  recall: 1.0000\n",
            "Epoch: 0190, loss_train: 1.5979:  95% 190/200 [02:52<00:08,  1.13it/s]\n",
            "Mini Test for Epochs 190:\n",
            "train loss: 0.445992, train accuracy: 0.5000, train f1 score: 0.3077, train confusion_matrix: [[7 0], [9 2]], train precision: 1.0000, train recall: 0.1818\n",
            "test  loss: 0.697737, test  accuracy: 0.6000, test  f1 score: 0.6667, test  confusion_matrix: [[1 1], [1 2]], test  precision: 0.6667, test  recall: 0.6667\n",
            "Epoch: 0199, loss_train: 1.8481: 100% 200/200 [03:01<00:00,  1.10it/s]\n",
            "\n",
            "Mini Test for Epochs 200:\n",
            "train loss: 0.387410, train accuracy: 0.9444, train f1 score: 0.9565, train confusion_matrix: [[ 6  1], [ 0 11]], train precision: 0.9167, train recall: 1.0000\n",
            "test  loss: 0.788383, test  accuracy: 0.8000, test  f1 score: 0.8571, test  confusion_matrix: [[1 1], [0 3]], test  precision: 0.7500, test  recall: 1.0000\n",
            "best  loss: 0.597830, best  accuracy: 0.8000, best  f1 score: 0.8571, best  confusion_matrix: [[1 1], [0 3]], best  precision: 0.7500, best  recall: 1.0000\n"
          ]
        }
      ]
    },
    {
      "cell_type": "markdown",
      "source": [
        "    convs = [\n",
        "        GRAPH_CONV(\"gcn\", data_proc.num_node_labels, 150),\n",
        "        GRAPH_CONV(\"gcn\", 150, 130),\n",
        "        GRAPH_CONV(\"gcn\", 130, cfg.hidden),\n",
        "        GRAPH_CONV(\"gcn\", cfg.hidden, cfg.hidden)\n",
        "    ]\n",
        "    model.set_graph_conv(convs)\n",
        "\n",
        "    pool = GRAPH_POOL(\"sagpool\", cfg.hidden, cfg.poolratio)\n",
        "    model.set_graph_pool(pool)\n",
        "\n",
        "    readout1 = GRAPH_READOUT(\"max\")\n",
        "    model.set_graph_readout(readout1)\n",
        "\n",
        "    readout = GRAPH_READOUT(\"max\")\n",
        "    model.set_graph_readout(readout)\n",
        "\n",
        "    output1 = nn.Linear(cfg.hidden, 200)\n",
        "    model.set_output_layer_temp(output1)\n",
        "    output = nn.Linear(200,cfg.embed_dim)\n",
        "    model.set_output_layer(output)"
      ],
      "metadata": {
        "id": "YlRm5m8kw8be"
      }
    },
    {
      "cell_type": "code",
      "source": [
        "!python Use_case_2_modified_3.py --yaml_path ./example_gnn4tj.yaml --raw_dataset_path ../assets/TJ-RTL-toy --data_pkl_path dfg_tj_rtl_DFG.pkl --graph_type DFG "
      ],
      "metadata": {
        "colab": {
          "base_uri": "https://localhost:8080/"
        },
        "id": "D9wNR2GywFtE",
        "outputId": "3a94f642-c377-4d3a-c6d1-b0a4c0e4dbe1"
      },
      "execution_count": null,
      "outputs": [
        {
          "output_type": "stream",
          "name": "stdout",
          "text": [
            "Epoch: 0000, loss_train: 3.4922:   0% 0/200 [00:00<?, ?it/s]\n",
            "Mini Test for Epochs 0:\n",
            "train loss: 0.694539, train accuracy: 0.3889, train f1 score: 0.0000, train confusion_matrix: [[ 7  0], [11  0]], train precision: 0.0000, train recall: 0.0000\n",
            "test  loss: 0.694511, test  accuracy: 0.4000, test  f1 score: 0.0000, test  confusion_matrix: [[2 0], [3 0]], test  precision: 0.0000, test  recall: 0.0000\n",
            "Epoch: 0010, loss_train: 3.4551:   5% 10/200 [00:10<03:05,  1.03it/s]\n",
            "Mini Test for Epochs 10:\n",
            "train loss: 0.692998, train accuracy: 0.6111, train f1 score: 0.7586, train confusion_matrix: [[ 0  7], [ 0 11]], train precision: 0.6111, train recall: 1.0000\n",
            "test  loss: 0.693000, test  accuracy: 0.6000, test  f1 score: 0.7500, test  confusion_matrix: [[0 2], [0 3]], test  precision: 0.6000, test  recall: 1.0000\n",
            "Epoch: 0020, loss_train: 3.5382:  10% 20/200 [00:21<02:53,  1.04it/s]\n",
            "Mini Test for Epochs 20:\n",
            "train loss: 0.694705, train accuracy: 0.3889, train f1 score: 0.0000, train confusion_matrix: [[ 7  0], [11  0]], train precision: 0.0000, train recall: 0.0000\n",
            "test  loss: 0.695522, test  accuracy: 0.4000, test  f1 score: 0.0000, test  confusion_matrix: [[2 0], [3 0]], test  precision: 0.0000, test  recall: 0.0000\n",
            "Epoch: 0030, loss_train: 3.3475:  15% 30/200 [00:31<02:54,  1.03s/it]\n",
            "Mini Test for Epochs 30:\n",
            "train loss: 0.698832, train accuracy: 0.3889, train f1 score: 0.0000, train confusion_matrix: [[ 7  0], [11  0]], train precision: 0.0000, train recall: 0.0000\n",
            "test  loss: 0.699184, test  accuracy: 0.4000, test  f1 score: 0.0000, test  confusion_matrix: [[2 0], [3 0]], test  precision: 0.0000, test  recall: 0.0000\n",
            "Epoch: 0040, loss_train: 3.3897:  20% 40/200 [00:42<02:41,  1.01s/it]\n",
            "Mini Test for Epochs 40:\n",
            "train loss: 0.695323, train accuracy: 0.3889, train f1 score: 0.0000, train confusion_matrix: [[ 7  0], [11  0]], train precision: 0.0000, train recall: 0.0000\n",
            "test  loss: 0.700870, test  accuracy: 0.4000, test  f1 score: 0.0000, test  confusion_matrix: [[2 0], [3 0]], test  precision: 0.0000, test  recall: 0.0000\n",
            "Epoch: 0050, loss_train: 3.2622:  25% 50/200 [00:53<02:39,  1.06s/it]\n",
            "Mini Test for Epochs 50:\n",
            "train loss: 0.693562, train accuracy: 0.3889, train f1 score: 0.0000, train confusion_matrix: [[ 7  0], [11  0]], train precision: 0.0000, train recall: 0.0000\n",
            "test  loss: 0.701548, test  accuracy: 0.4000, test  f1 score: 0.0000, test  confusion_matrix: [[2 0], [3 0]], test  precision: 0.0000, test  recall: 0.0000\n",
            "Epoch: 0060, loss_train: 3.2620:  30% 60/200 [01:05<02:28,  1.06s/it]\n",
            "Mini Test for Epochs 60:\n",
            "train loss: 0.701744, train accuracy: 0.3889, train f1 score: 0.0000, train confusion_matrix: [[ 7  0], [11  0]], train precision: 0.0000, train recall: 0.0000\n",
            "test  loss: 0.704172, test  accuracy: 0.4000, test  f1 score: 0.0000, test  confusion_matrix: [[2 0], [3 0]], test  precision: 0.0000, test  recall: 0.0000\n",
            "Epoch: 0070, loss_train: 3.3188:  35% 70/200 [01:17<02:24,  1.11s/it]\n",
            "Mini Test for Epochs 70:\n",
            "train loss: 0.704759, train accuracy: 0.3889, train f1 score: 0.0000, train confusion_matrix: [[ 7  0], [11  0]], train precision: 0.0000, train recall: 0.0000\n",
            "test  loss: 0.709767, test  accuracy: 0.4000, test  f1 score: 0.0000, test  confusion_matrix: [[2 0], [3 0]], test  precision: 0.0000, test  recall: 0.0000\n",
            "Epoch: 0080, loss_train: 3.3086:  40% 80/200 [01:28<02:05,  1.05s/it]\n",
            "Mini Test for Epochs 80:\n",
            "train loss: 0.699773, train accuracy: 0.3889, train f1 score: 0.0000, train confusion_matrix: [[ 7  0], [11  0]], train precision: 0.0000, train recall: 0.0000\n",
            "test  loss: 0.712208, test  accuracy: 0.4000, test  f1 score: 0.0000, test  confusion_matrix: [[2 0], [3 0]], test  precision: 0.0000, test  recall: 0.0000\n",
            "Epoch: 0090, loss_train: 3.2261:  45% 90/200 [01:39<01:52,  1.02s/it]\n",
            "Mini Test for Epochs 90:\n",
            "train loss: 0.696766, train accuracy: 0.3889, train f1 score: 0.0000, train confusion_matrix: [[ 7  0], [11  0]], train precision: 0.0000, train recall: 0.0000\n",
            "test  loss: 0.716501, test  accuracy: 0.4000, test  f1 score: 0.0000, test  confusion_matrix: [[2 0], [3 0]], test  precision: 0.0000, test  recall: 0.0000\n",
            "Epoch: 0100, loss_train: 3.3699:  50% 100/200 [01:50<01:41,  1.01s/it]\n",
            "Mini Test for Epochs 100:\n",
            "train loss: 0.702968, train accuracy: 0.3889, train f1 score: 0.0000, train confusion_matrix: [[ 7  0], [11  0]], train precision: 0.0000, train recall: 0.0000\n",
            "test  loss: 0.719130, test  accuracy: 0.4000, test  f1 score: 0.0000, test  confusion_matrix: [[2 0], [3 0]], test  precision: 0.0000, test  recall: 0.0000\n",
            "Epoch: 0110, loss_train: 3.3786:  55% 110/200 [02:00<01:29,  1.00it/s]\n",
            "Mini Test for Epochs 110:\n",
            "train loss: 0.712804, train accuracy: 0.3889, train f1 score: 0.0000, train confusion_matrix: [[ 7  0], [11  0]], train precision: 0.0000, train recall: 0.0000\n",
            "test  loss: 0.720420, test  accuracy: 0.4000, test  f1 score: 0.0000, test  confusion_matrix: [[2 0], [3 0]], test  precision: 0.0000, test  recall: 0.0000\n",
            "Epoch: 0120, loss_train: 3.1635:  60% 120/200 [02:11<01:20,  1.01s/it]\n",
            "Mini Test for Epochs 120:\n",
            "train loss: 0.699771, train accuracy: 0.3889, train f1 score: 0.0000, train confusion_matrix: [[ 7  0], [11  0]], train precision: 0.0000, train recall: 0.0000\n",
            "test  loss: 0.725583, test  accuracy: 0.4000, test  f1 score: 0.0000, test  confusion_matrix: [[2 0], [3 0]], test  precision: 0.0000, test  recall: 0.0000\n",
            "Epoch: 0130, loss_train: 3.4477:  65% 130/200 [02:22<01:09,  1.01it/s]\n",
            "Mini Test for Epochs 130:\n",
            "train loss: 0.721946, train accuracy: 0.3889, train f1 score: 0.0000, train confusion_matrix: [[ 7  0], [11  0]], train precision: 0.0000, train recall: 0.0000\n",
            "test  loss: 0.732111, test  accuracy: 0.4000, test  f1 score: 0.0000, test  confusion_matrix: [[2 0], [3 0]], test  precision: 0.0000, test  recall: 0.0000\n",
            "Epoch: 0140, loss_train: 3.3489:  70% 140/200 [02:34<01:07,  1.12s/it]\n",
            "Mini Test for Epochs 140:\n",
            "train loss: 0.735123, train accuracy: 0.3889, train f1 score: 0.0000, train confusion_matrix: [[ 7  0], [11  0]], train precision: 0.0000, train recall: 0.0000\n",
            "test  loss: 0.738159, test  accuracy: 0.4000, test  f1 score: 0.0000, test  confusion_matrix: [[2 0], [3 0]], test  precision: 0.0000, test  recall: 0.0000\n",
            "Epoch: 0150, loss_train: 3.1991:  75% 150/200 [02:45<00:51,  1.02s/it]\n",
            "Mini Test for Epochs 150:\n",
            "train loss: 0.705597, train accuracy: 0.3889, train f1 score: 0.0000, train confusion_matrix: [[ 7  0], [11  0]], train precision: 0.0000, train recall: 0.0000\n",
            "test  loss: 0.740337, test  accuracy: 0.4000, test  f1 score: 0.0000, test  confusion_matrix: [[2 0], [3 0]], test  precision: 0.0000, test  recall: 0.0000\n",
            "Epoch: 0160, loss_train: 3.1763:  80% 160/200 [02:55<00:39,  1.01it/s]\n",
            "Mini Test for Epochs 160:\n",
            "train loss: 0.736912, train accuracy: 0.3889, train f1 score: 0.0000, train confusion_matrix: [[ 7  0], [11  0]], train precision: 0.0000, train recall: 0.0000\n",
            "test  loss: 0.750655, test  accuracy: 0.4000, test  f1 score: 0.0000, test  confusion_matrix: [[2 0], [3 0]], test  precision: 0.0000, test  recall: 0.0000\n",
            "Epoch: 0170, loss_train: 3.1451:  85% 170/200 [03:06<00:30,  1.01s/it]\n",
            "Mini Test for Epochs 170:\n",
            "train loss: 0.761269, train accuracy: 0.3889, train f1 score: 0.0000, train confusion_matrix: [[ 7  0], [11  0]], train precision: 0.0000, train recall: 0.0000\n",
            "test  loss: 0.779890, test  accuracy: 0.4000, test  f1 score: 0.0000, test  confusion_matrix: [[2 0], [3 0]], test  precision: 0.0000, test  recall: 0.0000\n",
            "Epoch: 0180, loss_train: 3.9177:  90% 180/200 [03:17<00:20,  1.02s/it]\n",
            "Mini Test for Epochs 180:\n",
            "train loss: 0.716450, train accuracy: 0.3889, train f1 score: 0.0000, train confusion_matrix: [[ 7  0], [11  0]], train precision: 0.0000, train recall: 0.0000\n",
            "test  loss: 0.761932, test  accuracy: 0.4000, test  f1 score: 0.0000, test  confusion_matrix: [[2 0], [3 0]], test  precision: 0.0000, test  recall: 0.0000\n",
            "Epoch: 0190, loss_train: 3.0677:  95% 190/200 [03:28<00:10,  1.02s/it]\n",
            "Mini Test for Epochs 190:\n",
            "train loss: 0.768114, train accuracy: 0.3889, train f1 score: 0.0000, train confusion_matrix: [[ 7  0], [11  0]], train precision: 0.0000, train recall: 0.0000\n",
            "test  loss: 0.787965, test  accuracy: 0.4000, test  f1 score: 0.0000, test  confusion_matrix: [[2 0], [3 0]], test  precision: 0.0000, test  recall: 0.0000\n",
            "Epoch: 0199, loss_train: 3.1202: 100% 200/200 [03:38<00:00,  1.09s/it]\n",
            "\n",
            "Mini Test for Epochs 200:\n",
            "train loss: 0.803218, train accuracy: 0.3889, train f1 score: 0.0000, train confusion_matrix: [[ 7  0], [11  0]], train precision: 0.0000, train recall: 0.0000\n",
            "test  loss: 0.871015, test  accuracy: 0.4000, test  f1 score: 0.0000, test  confusion_matrix: [[2 0], [3 0]], test  precision: 0.0000, test  recall: 0.0000\n",
            "best  loss: 0.693000, best  accuracy: 0.6000, best  f1 score: 0.7500, best  confusion_matrix: [[0 2], [0 3]], best  precision: 0.6000, best  recall: 1.0000\n"
          ]
        }
      ]
    }
  ]
}