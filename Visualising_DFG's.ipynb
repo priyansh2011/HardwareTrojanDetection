{
  "nbformat": 4,
  "nbformat_minor": 0,
  "metadata": {
    "colab": {
      "name": "Visualising DFG's.ipynb",
      "provenance": [],
      "collapsed_sections": []
    },
    "kernelspec": {
      "name": "python3",
      "display_name": "Python 3"
    },
    "language_info": {
      "name": "python"
    }
  },
  "cells": [
    {
      "cell_type": "code",
      "source": [
        "import os\n",
        "import pandas as pd"
      ],
      "metadata": {
        "id": "-d7i38Ulgz_J"
      },
      "execution_count": null,
      "outputs": []
    },
    {
      "cell_type": "code",
      "execution_count": null,
      "metadata": {
        "colab": {
          "base_uri": "https://localhost:8080/"
        },
        "id": "aUfZ4C2vfo3u",
        "outputId": "ca66cf00-9c1f-4bd8-f733-5ebd827eaedc"
      },
      "outputs": [
        {
          "output_type": "stream",
          "name": "stdout",
          "text": [
            "Reading package lists... Done\n",
            "Building dependency tree       \n",
            "Reading state information... Done\n",
            "The following package was automatically installed and is no longer required:\n",
            "  libnvidia-common-460\n",
            "Use 'sudo apt autoremove' to remove it.\n",
            "Suggested packages:\n",
            "  gtkwave\n",
            "The following NEW packages will be installed:\n",
            "  iverilog\n",
            "0 upgraded, 1 newly installed, 0 to remove and 49 not upgraded.\n",
            "Need to get 1,811 kB of archives.\n",
            "After this operation, 6,206 kB of additional disk space will be used.\n",
            "Get:1 http://archive.ubuntu.com/ubuntu bionic/universe amd64 iverilog amd64 10.1-0.1build1 [1,811 kB]\n",
            "Fetched 1,811 kB in 1s (1,701 kB/s)\n",
            "debconf: unable to initialize frontend: Dialog\n",
            "debconf: (No usable dialog-like program is installed, so the dialog based frontend cannot be used. at /usr/share/perl5/Debconf/FrontEnd/Dialog.pm line 76, <> line 1.)\n",
            "debconf: falling back to frontend: Readline\n",
            "debconf: unable to initialize frontend: Readline\n",
            "debconf: (This frontend requires a controlling tty.)\n",
            "debconf: falling back to frontend: Teletype\n",
            "dpkg-preconfigure: unable to re-open stdin: \n",
            "Selecting previously unselected package iverilog.\n",
            "(Reading database ... 155639 files and directories currently installed.)\n",
            "Preparing to unpack .../iverilog_10.1-0.1build1_amd64.deb ...\n",
            "Unpacking iverilog (10.1-0.1build1) ...\n",
            "Setting up iverilog (10.1-0.1build1) ...\n",
            "Processing triggers for man-db (2.8.3-2ubuntu0.1) ...\n"
          ]
        }
      ],
      "source": [
        "!sudo apt install iverilog"
      ]
    },
    {
      "cell_type": "code",
      "source": [
        "!pip3 install jinja2 ply"
      ],
      "metadata": {
        "colab": {
          "base_uri": "https://localhost:8080/"
        },
        "id": "xj-iNCjBg3qG",
        "outputId": "f0c9176b-c39f-45fc-ab1d-948ca49d2191"
      },
      "execution_count": null,
      "outputs": [
        {
          "output_type": "stream",
          "name": "stdout",
          "text": [
            "Looking in indexes: https://pypi.org/simple, https://us-python.pkg.dev/colab-wheels/public/simple/\n",
            "Requirement already satisfied: jinja2 in /usr/local/lib/python3.7/dist-packages (2.11.3)\n",
            "Collecting ply\n",
            "  Downloading ply-3.11-py2.py3-none-any.whl (49 kB)\n",
            "\u001b[K     |████████████████████████████████| 49 kB 3.0 MB/s \n",
            "\u001b[?25hRequirement already satisfied: MarkupSafe>=0.23 in /usr/local/lib/python3.7/dist-packages (from jinja2) (2.0.1)\n",
            "Installing collected packages: ply\n",
            "Successfully installed ply-3.11\n"
          ]
        }
      ]
    },
    {
      "cell_type": "code",
      "source": [
        "!sudo apt-get install graphviz graphviz-dev\n",
        "!pip install pygraphviz"
      ],
      "metadata": {
        "colab": {
          "base_uri": "https://localhost:8080/"
        },
        "id": "CB1MmeKzhA_R",
        "outputId": "be319476-3226-4bfd-fb9f-9e2bb7427fa1"
      },
      "execution_count": null,
      "outputs": [
        {
          "output_type": "stream",
          "name": "stdout",
          "text": [
            "Reading package lists... Done\n",
            "Building dependency tree       \n",
            "Reading state information... Done\n",
            "Note, selecting 'libgraphviz-dev' instead of 'graphviz-dev'\n",
            "graphviz is already the newest version (2.40.1-2).\n",
            "The following package was automatically installed and is no longer required:\n",
            "  libnvidia-common-460\n",
            "Use 'sudo apt autoremove' to remove it.\n",
            "The following additional packages will be installed:\n",
            "  libgail-common libgail18 libgtk2.0-0 libgtk2.0-bin libgtk2.0-common\n",
            "  libgvc6-plugins-gtk libxdot4\n",
            "Suggested packages:\n",
            "  gvfs\n",
            "The following NEW packages will be installed:\n",
            "  libgail-common libgail18 libgraphviz-dev libgtk2.0-0 libgtk2.0-bin\n",
            "  libgtk2.0-common libgvc6-plugins-gtk libxdot4\n",
            "0 upgraded, 8 newly installed, 0 to remove and 49 not upgraded.\n",
            "Need to get 2,120 kB of archives.\n",
            "After this operation, 7,128 kB of additional disk space will be used.\n",
            "Get:1 http://archive.ubuntu.com/ubuntu bionic/main amd64 libgtk2.0-common all 2.24.32-1ubuntu1 [125 kB]\n",
            "Get:2 http://archive.ubuntu.com/ubuntu bionic/main amd64 libgtk2.0-0 amd64 2.24.32-1ubuntu1 [1,769 kB]\n",
            "Get:3 http://archive.ubuntu.com/ubuntu bionic/main amd64 libgail18 amd64 2.24.32-1ubuntu1 [14.2 kB]\n",
            "Get:4 http://archive.ubuntu.com/ubuntu bionic/main amd64 libgail-common amd64 2.24.32-1ubuntu1 [112 kB]\n",
            "Get:5 http://archive.ubuntu.com/ubuntu bionic/universe amd64 libxdot4 amd64 2.40.1-2 [15.7 kB]\n",
            "Get:6 http://archive.ubuntu.com/ubuntu bionic/universe amd64 libgvc6-plugins-gtk amd64 2.40.1-2 [18.2 kB]\n",
            "Get:7 http://archive.ubuntu.com/ubuntu bionic/universe amd64 libgraphviz-dev amd64 2.40.1-2 [57.3 kB]\n",
            "Get:8 http://archive.ubuntu.com/ubuntu bionic/main amd64 libgtk2.0-bin amd64 2.24.32-1ubuntu1 [7,536 B]\n",
            "Fetched 2,120 kB in 1s (1,634 kB/s)\n",
            "debconf: unable to initialize frontend: Dialog\n",
            "debconf: (No usable dialog-like program is installed, so the dialog based frontend cannot be used. at /usr/share/perl5/Debconf/FrontEnd/Dialog.pm line 76, <> line 8.)\n",
            "debconf: falling back to frontend: Readline\n",
            "debconf: unable to initialize frontend: Readline\n",
            "debconf: (This frontend requires a controlling tty.)\n",
            "debconf: falling back to frontend: Teletype\n",
            "dpkg-preconfigure: unable to re-open stdin: \n",
            "Selecting previously unselected package libgtk2.0-common.\n",
            "(Reading database ... 155732 files and directories currently installed.)\n",
            "Preparing to unpack .../0-libgtk2.0-common_2.24.32-1ubuntu1_all.deb ...\n",
            "Unpacking libgtk2.0-common (2.24.32-1ubuntu1) ...\n",
            "Selecting previously unselected package libgtk2.0-0:amd64.\n",
            "Preparing to unpack .../1-libgtk2.0-0_2.24.32-1ubuntu1_amd64.deb ...\n",
            "Unpacking libgtk2.0-0:amd64 (2.24.32-1ubuntu1) ...\n",
            "Selecting previously unselected package libgail18:amd64.\n",
            "Preparing to unpack .../2-libgail18_2.24.32-1ubuntu1_amd64.deb ...\n",
            "Unpacking libgail18:amd64 (2.24.32-1ubuntu1) ...\n",
            "Selecting previously unselected package libgail-common:amd64.\n",
            "Preparing to unpack .../3-libgail-common_2.24.32-1ubuntu1_amd64.deb ...\n",
            "Unpacking libgail-common:amd64 (2.24.32-1ubuntu1) ...\n",
            "Selecting previously unselected package libxdot4.\n",
            "Preparing to unpack .../4-libxdot4_2.40.1-2_amd64.deb ...\n",
            "Unpacking libxdot4 (2.40.1-2) ...\n",
            "Selecting previously unselected package libgvc6-plugins-gtk.\n",
            "Preparing to unpack .../5-libgvc6-plugins-gtk_2.40.1-2_amd64.deb ...\n",
            "Unpacking libgvc6-plugins-gtk (2.40.1-2) ...\n",
            "Selecting previously unselected package libgraphviz-dev.\n",
            "Preparing to unpack .../6-libgraphviz-dev_2.40.1-2_amd64.deb ...\n",
            "Unpacking libgraphviz-dev (2.40.1-2) ...\n",
            "Selecting previously unselected package libgtk2.0-bin.\n",
            "Preparing to unpack .../7-libgtk2.0-bin_2.24.32-1ubuntu1_amd64.deb ...\n",
            "Unpacking libgtk2.0-bin (2.24.32-1ubuntu1) ...\n",
            "Setting up libgtk2.0-common (2.24.32-1ubuntu1) ...\n",
            "Setting up libxdot4 (2.40.1-2) ...\n",
            "Setting up libgtk2.0-0:amd64 (2.24.32-1ubuntu1) ...\n",
            "Setting up libgail18:amd64 (2.24.32-1ubuntu1) ...\n",
            "Setting up libgail-common:amd64 (2.24.32-1ubuntu1) ...\n",
            "Setting up libgvc6-plugins-gtk (2.40.1-2) ...\n",
            "Setting up libgraphviz-dev (2.40.1-2) ...\n",
            "Setting up libgtk2.0-bin (2.24.32-1ubuntu1) ...\n",
            "Processing triggers for man-db (2.8.3-2ubuntu0.1) ...\n",
            "Processing triggers for libc-bin (2.27-3ubuntu1.3) ...\n",
            "/sbin/ldconfig.real: /usr/local/lib/python3.7/dist-packages/ideep4py/lib/libmkldnn.so.0 is not a symbolic link\n",
            "\n",
            "Looking in indexes: https://pypi.org/simple, https://us-python.pkg.dev/colab-wheels/public/simple/\n",
            "Collecting pygraphviz\n",
            "  Using cached pygraphviz-1.7.zip (118 kB)\n",
            "Building wheels for collected packages: pygraphviz\n",
            "  Building wheel for pygraphviz (setup.py) ... \u001b[?25l\u001b[?25hdone\n",
            "  Created wheel for pygraphviz: filename=pygraphviz-1.7-cp37-cp37m-linux_x86_64.whl size=165749 sha256=e6fb70abfdf6bd65d791ad37f196008fde2e9b51d2bfba26160802e94f09457f\n",
            "  Stored in directory: /root/.cache/pip/wheels/8c/bc/0c/ac35392b72556e75107ff610cb31b313e8471918a6d280e34c\n",
            "Successfully built pygraphviz\n",
            "Installing collected packages: pygraphviz\n",
            "Successfully installed pygraphviz-1.7\n"
          ]
        }
      ]
    },
    {
      "cell_type": "code",
      "source": [
        "!git clone https://github.com/PyHDI/Pyverilog.git"
      ],
      "metadata": {
        "colab": {
          "base_uri": "https://localhost:8080/"
        },
        "id": "SImZKS1EhXKX",
        "outputId": "95c2bd2f-fca6-43bc-cf32-fced8a73d5a3"
      },
      "execution_count": null,
      "outputs": [
        {
          "output_type": "stream",
          "name": "stdout",
          "text": [
            "Cloning into 'Pyverilog'...\n",
            "remote: Enumerating objects: 2686, done.\u001b[K\n",
            "remote: Counting objects: 100% (370/370), done.\u001b[K\n",
            "remote: Compressing objects: 100% (42/42), done.\u001b[K\n",
            "remote: Total 2686 (delta 347), reused 328 (delta 328), pack-reused 2316\u001b[K\n",
            "Receiving objects: 100% (2686/2686), 763.58 KiB | 6.82 MiB/s, done.\n",
            "Resolving deltas: 100% (1848/1848), done.\n"
          ]
        }
      ]
    },
    {
      "cell_type": "code",
      "source": [
        "!python /content/Pyverilog/setup.py install"
      ],
      "metadata": {
        "colab": {
          "base_uri": "https://localhost:8080/"
        },
        "id": "5hgv_IfzhdJX",
        "outputId": "795da178-b368-4ff6-8a4e-780b71020a13"
      },
      "execution_count": null,
      "outputs": [
        {
          "output_type": "stream",
          "name": "stdout",
          "text": [
            "running install\n",
            "running bdist_egg\n",
            "running egg_info\n",
            "creating pyverilog.egg-info\n",
            "writing pyverilog.egg-info/PKG-INFO\n",
            "writing dependency_links to pyverilog.egg-info/dependency_links.txt\n",
            "writing requirements to pyverilog.egg-info/requires.txt\n",
            "writing top-level names to pyverilog.egg-info/top_level.txt\n",
            "writing manifest file 'pyverilog.egg-info/SOURCES.txt'\n",
            "reading manifest file 'pyverilog.egg-info/SOURCES.txt'\n",
            "writing manifest file 'pyverilog.egg-info/SOURCES.txt'\n",
            "installing library code to build/bdist.linux-x86_64/egg\n",
            "running install_lib\n",
            "warning: install_lib: 'build/lib' does not exist -- no Python modules to install\n",
            "\n",
            "creating build\n",
            "creating build/bdist.linux-x86_64\n",
            "creating build/bdist.linux-x86_64/egg\n",
            "creating build/bdist.linux-x86_64/egg/EGG-INFO\n",
            "copying pyverilog.egg-info/PKG-INFO -> build/bdist.linux-x86_64/egg/EGG-INFO\n",
            "copying pyverilog.egg-info/SOURCES.txt -> build/bdist.linux-x86_64/egg/EGG-INFO\n",
            "copying pyverilog.egg-info/dependency_links.txt -> build/bdist.linux-x86_64/egg/EGG-INFO\n",
            "copying pyverilog.egg-info/requires.txt -> build/bdist.linux-x86_64/egg/EGG-INFO\n",
            "copying pyverilog.egg-info/top_level.txt -> build/bdist.linux-x86_64/egg/EGG-INFO\n",
            "zip_safe flag not set; analyzing archive contents...\n",
            "creating dist\n",
            "creating 'dist/pyverilog-1.3.0-py3.7.egg' and adding 'build/bdist.linux-x86_64/egg' to it\n",
            "removing 'build/bdist.linux-x86_64/egg' (and everything under it)\n",
            "Processing pyverilog-1.3.0-py3.7.egg\n",
            "Copying pyverilog-1.3.0-py3.7.egg to /usr/local/lib/python3.7/dist-packages\n",
            "Adding pyverilog 1.3.0 to easy-install.pth file\n",
            "\n",
            "Installed /usr/local/lib/python3.7/dist-packages/pyverilog-1.3.0-py3.7.egg\n",
            "Processing dependencies for pyverilog==1.3.0\n",
            "Searching for ply==3.11\n",
            "Best match: ply 3.11\n",
            "Adding ply 3.11 to easy-install.pth file\n",
            "\n",
            "Using /usr/local/lib/python3.7/dist-packages\n",
            "Searching for Jinja2==2.11.3\n",
            "Best match: Jinja2 2.11.3\n",
            "Adding Jinja2 2.11.3 to easy-install.pth file\n",
            "\n",
            "Using /usr/local/lib/python3.7/dist-packages\n",
            "Searching for MarkupSafe==2.0.1\n",
            "Best match: MarkupSafe 2.0.1\n",
            "Adding MarkupSafe 2.0.1 to easy-install.pth file\n",
            "\n",
            "Using /usr/local/lib/python3.7/dist-packages\n",
            "Finished processing dependencies for pyverilog==1.3.0\n"
          ]
        }
      ]
    },
    {
      "cell_type": "code",
      "source": [
        "!python3 /content/Pyverilog/examples/example_dataflow_analyzer.py -t top /content/drive/MyDrive/Hardware_Trojan/TJ-RTL-toy/TjFree/det_1011/topModule.v"
      ],
      "metadata": {
        "colab": {
          "base_uri": "https://localhost:8080/"
        },
        "id": "ASca2GdNijqS",
        "outputId": "e059a0fa-c292-42db-a2c8-44d8370c4a36"
      },
      "execution_count": null,
      "outputs": [
        {
          "output_type": "stream",
          "name": "stdout",
          "text": [
            "Generating LALR tables\n",
            "WARNING: 183 shift/reduce conflicts\n",
            "Directive:\n",
            "Instance:\n",
            "(top, 'top')\n",
            "Term:\n",
            "(Term name:top.IDLE type:['Parameter'] msb:(IntConst 31) lsb:(IntConst 0))\n",
            "(Term name:top.S1 type:['Parameter'] msb:(IntConst 31) lsb:(IntConst 0))\n",
            "(Term name:top.S10 type:['Parameter'] msb:(IntConst 31) lsb:(IntConst 0))\n",
            "(Term name:top.S101 type:['Parameter'] msb:(IntConst 31) lsb:(IntConst 0))\n",
            "(Term name:top.S1011 type:['Parameter'] msb:(IntConst 31) lsb:(IntConst 0))\n",
            "(Term name:top._rn0_next_state type:['Rename'] msb:(IntConst 2) lsb:(IntConst 0))\n",
            "(Term name:top._rn1_next_state type:['Rename'] msb:(IntConst 2) lsb:(IntConst 0))\n",
            "(Term name:top._rn2_next_state type:['Rename'] msb:(IntConst 2) lsb:(IntConst 0))\n",
            "(Term name:top._rn3_next_state type:['Rename'] msb:(IntConst 2) lsb:(IntConst 0))\n",
            "(Term name:top._rn4_next_state type:['Rename'] msb:(IntConst 2) lsb:(IntConst 0))\n",
            "(Term name:top._rn5_next_state type:['Rename'] msb:(IntConst 2) lsb:(IntConst 0))\n",
            "(Term name:top._rn6_next_state type:['Rename'] msb:(IntConst 2) lsb:(IntConst 0))\n",
            "(Term name:top._rn7_next_state type:['Rename'] msb:(IntConst 2) lsb:(IntConst 0))\n",
            "(Term name:top._rn8_next_state type:['Rename'] msb:(IntConst 2) lsb:(IntConst 0))\n",
            "(Term name:top.clk type:['Input'] msb:(IntConst 0) lsb:(IntConst 0))\n",
            "(Term name:top.cur_state type:['Reg'] msb:(IntConst 2) lsb:(IntConst 0))\n",
            "(Term name:top.in type:['Input'] msb:(IntConst 0) lsb:(IntConst 0))\n",
            "(Term name:top.next_state type:['Reg'] msb:(IntConst 2) lsb:(IntConst 0))\n",
            "(Term name:top.out type:['Output'] msb:(IntConst 0) lsb:(IntConst 0))\n",
            "(Term name:top.rstn type:['Input'] msb:(IntConst 0) lsb:(IntConst 0))\n",
            "Bind:\n",
            "(Bind dest:top.IDLE tree:(IntConst 0))\n",
            "(Bind dest:top.S1 tree:(IntConst 1))\n",
            "(Bind dest:top.S10 tree:(IntConst 2))\n",
            "(Bind dest:top.S101 tree:(IntConst 3))\n",
            "(Bind dest:top.S1011 tree:(IntConst 4))\n",
            "(Bind dest:top._rn0_next_state tree:(Terminal top.S1))\n",
            "(Bind dest:top._rn1_next_state tree:(Terminal top.IDLE))\n",
            "(Bind dest:top._rn2_next_state tree:(Terminal top.IDLE))\n",
            "(Bind dest:top._rn3_next_state tree:(Terminal top.S10))\n",
            "(Bind dest:top._rn4_next_state tree:(Terminal top.S101))\n",
            "(Bind dest:top._rn5_next_state tree:(Terminal top.IDLE))\n",
            "(Bind dest:top._rn6_next_state tree:(Terminal top.S1011))\n",
            "(Bind dest:top._rn7_next_state tree:(Terminal top.IDLE))\n",
            "(Bind dest:top._rn8_next_state tree:(Terminal top.IDLE))\n",
            "(Bind dest:top.cur_state tree:(Branch Cond:(Operator Ulnot Next:(Terminal top.rstn)) True:(Terminal top.IDLE) False:(Terminal top.next_state)))\n",
            "(Bind dest:top.next_state tree:(Branch Cond:(Operator Eq Next:(Terminal top.cur_state),(Terminal top.IDLE)) True:(Branch Cond:(Terminal top.in) True:(Terminal top._rn0_next_state) False:(Terminal top._rn1_next_state)) False:(Branch Cond:(Operator Eq Next:(Terminal top.cur_state),(Terminal top.S1)) True:(Branch Cond:(Terminal top.in) True:(Terminal top._rn2_next_state) False:(Terminal top._rn3_next_state)) False:(Branch Cond:(Operator Eq Next:(Terminal top.cur_state),(Terminal top.S10)) True:(Branch Cond:(Terminal top.in) True:(Terminal top._rn4_next_state) False:(Terminal top._rn5_next_state)) False:(Branch Cond:(Operator Eq Next:(Terminal top.cur_state),(Terminal top.S101)) True:(Branch Cond:(Terminal top.in) True:(Terminal top._rn6_next_state) False:(Terminal top._rn7_next_state)) False:(Branch Cond:(Operator Eq Next:(Terminal top.cur_state),(Terminal top.S1011)) True:(Terminal top._rn8_next_state)))))))\n",
            "(Bind dest:top.out tree:(Branch Cond:(Operator Eq Next:(Terminal top.cur_state),(Terminal top.S1011)) True:(IntConst 1) False:(IntConst 0)))\n"
          ]
        }
      ]
    },
    {
      "cell_type": "code",
      "source": [
        "!python3 /content/Pyverilog/examples/example_graphgen.py -t top -s top.out /content/drive/MyDrive/Hardware_Trojan/TJ-RTL-toy/TjFree/det_1011/topModule.v"
      ],
      "metadata": {
        "colab": {
          "base_uri": "https://localhost:8080/"
        },
        "id": "TJE2vggTjIRT",
        "outputId": "774ec223-5a1f-4b93-9008-b6dec341fcbf"
      },
      "execution_count": null,
      "outputs": [
        {
          "output_type": "stream",
          "name": "stdout",
          "text": [
            "Generating LALR tables\n",
            "WARNING: 183 shift/reduce conflicts\n"
          ]
        }
      ]
    },
    {
      "cell_type": "code",
      "source": [
        ""
      ],
      "metadata": {
        "id": "V2B_Wbs6rPhm"
      },
      "execution_count": null,
      "outputs": []
    }
  ]
}